{
 "cells": [
  {
   "cell_type": "markdown",
   "id": "89323949",
   "metadata": {
    "papermill": {
     "duration": 0.00437,
     "end_time": "2023-07-18T22:17:12.296375",
     "exception": false,
     "start_time": "2023-07-18T22:17:12.292005",
     "status": "completed"
    },
    "tags": []
   },
   "source": [
    "# 📚 Data Collection: Training Data Wiki Pages\n",
    "## Source: https://www.kaggle.com/code/judehunt23/data-collection-training-data-wiki-pages\n",
    "In this notebook, we'll create a dataset of the text in all of the wikipedia pages used to create the training dataset for the LLM Science Exam Competition. We'll then also take that a step further and download all of the text data from the pages in the `Concepts in physics` category on wikipedia (check out [this post](https://www.kaggle.com/competitions/kaggle-llm-science-exam/discussion/425246) and [this notebook](https://www.kaggle.com/code/judehunt23/llm-science-exam-wikipedia-graph-analysis/notebook) to see why we're focusing on this category!)\n",
    "\n",
    "Once we have this data, we'll be able to use it to generate additional questions to use to train our LLM, while ensuring that the articles we're using to generate these questions are still relevant to the competition. @leonidkulyk has an [excellent notebook](https://www.kaggle.com/code/leonidkulyk/eda-data-gathering-llm-se-wiki-stem-1k-ds) showing how we can do this.\n",
    "\n",
    "Don't forget to upvote this notebook if you find it helpful or interesting!\n",
    "\n",
    "#### Other resources you might find useful:\n",
    "- [📚 Wikipedia pages used to generate the training data!](https://www.kaggle.com/competitions/kaggle-llm-science-exam/discussion/425242#2349217)\n",
    "- [📚 More efficient data collection: How to choose which categories to focus on?](https://www.kaggle.com/competitions/kaggle-llm-science-exam/discussion/425246)\n",
    "- [📚 LLM Science Exam: Wikipedia Graph Analysis](https://www.kaggle.com/code/judehunt23/llm-science-exam-wikipedia-graph-analysis/notebook)"
   ]
  },
  {
   "cell_type": "code",
   "execution_count": 1,
   "id": "90b04ab0",
   "metadata": {
    "_cell_guid": "b1076dfc-b9ad-4769-8c92-a6c4dae69d19",
    "_uuid": "8f2839f25d086af736a60e9eeb907d3b93b6e0e5",
    "papermill": {
     "duration": 13.228627,
     "end_time": "2023-07-18T22:17:25.529212",
     "exception": false,
     "start_time": "2023-07-18T22:17:12.300585",
     "status": "completed"
    },
    "tags": []
   },
   "outputs": [],
   "source": [
    "!pip install Wikipedia-API -q"
   ]
  },
  {
   "cell_type": "code",
   "execution_count": 2,
   "id": "53f3c085",
   "metadata": {
    "papermill": {
     "duration": 0.308256,
     "end_time": "2023-07-18T22:17:25.841528",
     "exception": false,
     "start_time": "2023-07-18T22:17:25.533272",
     "status": "completed"
    },
    "tags": []
   },
   "outputs": [],
   "source": [
    "import wikipediaapi\n",
    "from tqdm.auto import tqdm\n",
    "from collections import Counter\n",
    "import requests\n",
    "from bs4 import BeautifulSoup\n",
    "from collections import defaultdict\n",
    "import pandas as pd"
   ]
  },
  {
   "cell_type": "code",
   "execution_count": 3,
   "id": "56121b01",
   "metadata": {
    "papermill": {
     "duration": 0.014642,
     "end_time": "2023-07-18T22:17:25.860226",
     "exception": false,
     "start_time": "2023-07-18T22:17:25.845584",
     "status": "completed"
    },
    "tags": []
   },
   "outputs": [],
   "source": [
    "wiki_wiki = wikipediaapi.Wikipedia('MyProjectName (merlin@example.com)', 'en', timeout=1000)"
   ]
  },
  {
   "cell_type": "code",
   "execution_count": 4,
   "id": "90e636f7",
   "metadata": {
    "papermill": {
     "duration": 0.022228,
     "end_time": "2023-07-18T22:17:25.886425",
     "exception": false,
     "start_time": "2023-07-18T22:17:25.864197",
     "status": "completed"
    },
    "tags": []
   },
   "outputs": [
    {
     "name": "stdout",
     "output_type": "stream",
     "text": [
      "154 unique pages from train dataset\n"
     ]
    }
   ],
   "source": [
    "train_pages = [\n",
    "    'Supersymmetric quantum mechanics',\n",
    "    'Relative density',\n",
    "    'Memristor',\n",
    "    'Quantization (physics)',\n",
    "    'Symmetry in biology',\n",
    "    'Mass versus weight',\n",
    "    'Navier–Stokes equations',\n",
    "    'Thermal equilibrium',\n",
    "    'Electrical resistivity and conductivity',\n",
    "    'Superconductivity',\n",
    "    'Black hole',\n",
    "    'Born reciprocity',\n",
    "    \"Commentary on Anatomy in Avicenna's Canon\",\n",
    "    'Supernova',\n",
    "    'Angular momentum',\n",
    "    'Condensation cloud',\n",
    "    'Minkowski space',\n",
    "    'Vacuum',\n",
    "    'Standard Model',\n",
    "    'Nebula',\n",
    "    'Antiferromagnetism',\n",
    "    'Light-year',\n",
    "    'Propagation constant',\n",
    "    'Phase transition',\n",
    "    'Redshift',\n",
    "    'The Ambidextrous Universe',\n",
    "    'Interstellar medium',\n",
    "    'Improper rotation',\n",
    "    'Plant',\n",
    "    'Clockwise',\n",
    "    'Morphology (biology)',\n",
    "    'Magnetic susceptibility',\n",
    "    'Nuclear fusion',\n",
    "    'Theorem of three moments',\n",
    "    'Lorentz covariance',\n",
    "    'Causality (physics)',\n",
    "    'Total internal reflection',\n",
    "    'Surgical pathology',\n",
    "    'Environmental Science Center',\n",
    "    'Electrochemical gradient',\n",
    "    'Planetary system',\n",
    "    'Cavitation',\n",
    "    'Parity (physics)',\n",
    "    'Dimension',\n",
    "    'Heat treating',\n",
    "    'Speed of light',\n",
    "    'Mass-to-charge ratio',\n",
    "    'Landau–Lifshitz–Gilbert equation',\n",
    "    'Point groups in three dimensions',\n",
    "    'Mammary gland',\n",
    "    'Convection (heat transfer)',\n",
    "    'Modified Newtonian dynamics',\n",
    "    \"Earnshaw's theorem\",\n",
    "    'Coherent turbulent structure',\n",
    "    'Phageome',\n",
    "    'Infectious tolerance',\n",
    "    'Ferromagnetism',\n",
    "    'Coffee ring effect',\n",
    "    'Magnetic resonance imaging',\n",
    "    'Ring-imaging Cherenkov detector',\n",
    "    'Tidal force',\n",
    "    'Kutta-Joukowski theorem',\n",
    "    'Radiosity (radiometry)',\n",
    "    'Quartz crystal microbalance',\n",
    "    'Crystallinity',\n",
    "    'Magnitude (astronomy)',\n",
    "    \"Newton's law of universal gravitation\",\n",
    "    'Uniform tilings in hyperbolic plane',\n",
    "    'Refractive index',\n",
    "    'Theorem',\n",
    "    'Leidenfrost effect',\n",
    "    'API gravity',\n",
    "    'Supersymmetry',\n",
    "    'Dark Matter',\n",
    "    'Molecular symmetry',\n",
    "    'Spin (physics)',\n",
    "    'Astrochemistry',\n",
    "    'List of equations in classical mechanics',\n",
    "    'Diffraction',\n",
    "    'C1 chemistry',\n",
    "    'Reciprocal length',\n",
    "    'Amplitude',\n",
    "    'Work function',\n",
    "    'Coherence (physics)',\n",
    "    'Ultraviolet catastrophe',\n",
    "    'Symmetry of diatomic molecules',\n",
    "    'Bollard pull',\n",
    "    'Linear time-invariant system',\n",
    "    'Triskelion',\n",
    "    'Cold dark matter',\n",
    "    'Frame-dragging',\n",
    "    \"Fermat's principle\",\n",
    "    'Enthalpy',\n",
    "    'Main sequence',\n",
    "    'QCD matter',\n",
    "    'Molecular cloud',\n",
    "    'Free neutron decay',\n",
    "    'Second law of thermodynamics',\n",
    "    'Droste effect',\n",
    "    'History of geology',\n",
    "    'Gravitational wave',\n",
    "    'Regular polytope',\n",
    "    'Spatial dispersion',\n",
    "    'Probability amplitude',\n",
    "    'Stochastic differential equation',\n",
    "    'Gravity Probe B',\n",
    "    'Electronic entropy',\n",
    "    'Renormalization',\n",
    "    'Unified field theory',\n",
    "    \"Elitzur's theorem\",\n",
    "    \"Hesse's principle of transfer\",\n",
    "    'Ecological pyramid',\n",
    "    'Virtual particle',\n",
    "    'Ramsauer–Townsend effect',\n",
    "    'Butterfly effect',\n",
    "    'Zero-point energy',\n",
    "    'Baryogenesis',\n",
    "    'Pulsar',\n",
    "    'Decay technique',\n",
    "    'Electric flux',\n",
    "    'Water hammer',\n",
    "    'Dynamic scaling',\n",
    "    'Luminance',\n",
    "    'Crossover experiment (chemistry)',\n",
    "    'Spontaneous symmetry breaking',\n",
    "    'Self-organization in cybernetics',\n",
    "    'Stellar classification',\n",
    "    'Probability density function',\n",
    "    'Pulsar-based navigation',\n",
    "    'Supermassive black hole',\n",
    "    'Explicit symmetry breaking',\n",
    "    'Surface power density',\n",
    "    'Organography',\n",
    "    'Copernican principle',\n",
    "    'Geometric quantization',\n",
    "    'Erlangen program',\n",
    "    'Magnetic monopole',\n",
    "    'Inflation (cosmology)',\n",
    "    'Heart',\n",
    "    'Observable universe',\n",
    "    'Wigner quasiprobability distribution',\n",
    "    'Shower-curtain effect',\n",
    "    'Scale (ratio)',\n",
    "    'Hydrodynamic stability',\n",
    "    'Paramagnetism',\n",
    "    'Emissivity',\n",
    "    'Critical Raw Materials Act',\n",
    "    'James Webb Space Telescope',\n",
    "    'Signal-to-noise ratio',\n",
    "    'Photophoresis',\n",
    "    'Time standard',\n",
    "    'Time',\n",
    "    'Galaxy',\n",
    "    'Rayleigh scattering'\n",
    "]\n",
    "\n",
    "print(f\"{len(train_pages)} unique pages from train dataset\")"
   ]
  },
  {
   "cell_type": "code",
   "execution_count": 5,
   "id": "55eecfa7",
   "metadata": {
    "papermill": {
     "duration": 0.016364,
     "end_time": "2023-07-18T22:17:25.906900",
     "exception": false,
     "start_time": "2023-07-18T22:17:25.890536",
     "status": "completed"
    },
    "tags": []
   },
   "outputs": [],
   "source": [
    "def get_wiki_sections_text(page):\n",
    "    ignore_sections = [\"References\", \"See also\", \"External links\", \"Further reading\", \"Sources\"]\n",
    "    wiki_page = wiki_wiki.page(page)\n",
    "    \n",
    "    # Get all the sections text\n",
    "    page_sections = [x.text for x in wiki_page.sections if x.title not in ignore_sections and x.text != \"\"]\n",
    "    section_titles = [x.title for x in wiki_page.sections if x.title not in ignore_sections and x.text != \"\"]\n",
    "    \n",
    "    # Add the summary page\n",
    "    page_sections.append(wiki_page.summary)\n",
    "    section_titles.append(\"Summary\")\n",
    "\n",
    "    return page_sections, section_titles"
   ]
  },
  {
   "cell_type": "code",
   "execution_count": 6,
   "id": "8ee2b14d",
   "metadata": {
    "papermill": {
     "duration": 0.015568,
     "end_time": "2023-07-18T22:17:25.927791",
     "exception": false,
     "start_time": "2023-07-18T22:17:25.912223",
     "status": "completed"
    },
    "tags": []
   },
   "outputs": [],
   "source": [
    "def get_pages_df(pages):\n",
    "    page_section_texts = []\n",
    "    for page in tqdm(pages):\n",
    "        sections, titles = get_wiki_sections_text(page)\n",
    "        for section, title in zip(sections, titles):\n",
    "            page_section_texts.append({\n",
    "                'page': page,\n",
    "                'section_title': title,\n",
    "                'text': section\n",
    "            })\n",
    "    print(len(page_section_texts))\n",
    "    return pd.DataFrame(page_section_texts)"
   ]
  },
  {
   "cell_type": "code",
   "execution_count": 7,
   "id": "592b9bdb",
   "metadata": {
    "papermill": {
     "duration": 9.725494,
     "end_time": "2023-07-18T22:17:35.657421",
     "exception": false,
     "start_time": "2023-07-18T22:17:25.931927",
     "status": "completed"
    },
    "tags": []
   },
   "outputs": [
    {
     "data": {
      "application/vnd.jupyter.widget-view+json": {
       "model_id": "868d5bef31354efbada6ca5a149e9453",
       "version_major": 2,
       "version_minor": 0
      },
      "text/plain": [
       "  0%|          | 0/154 [00:00<?, ?it/s]"
      ]
     },
     "metadata": {},
     "output_type": "display_data"
    },
    {
     "name": "stdout",
     "output_type": "stream",
     "text": [
      "891\n",
      "(891, 3)\n"
     ]
    },
    {
     "data": {
      "text/html": [
       "<div>\n",
       "<style scoped>\n",
       "    .dataframe tbody tr th:only-of-type {\n",
       "        vertical-align: middle;\n",
       "    }\n",
       "\n",
       "    .dataframe tbody tr th {\n",
       "        vertical-align: top;\n",
       "    }\n",
       "\n",
       "    .dataframe thead th {\n",
       "        text-align: right;\n",
       "    }\n",
       "</style>\n",
       "<table border=\"1\" class=\"dataframe\">\n",
       "  <thead>\n",
       "    <tr style=\"text-align: right;\">\n",
       "      <th></th>\n",
       "      <th>page</th>\n",
       "      <th>section_title</th>\n",
       "      <th>text</th>\n",
       "    </tr>\n",
       "  </thead>\n",
       "  <tbody>\n",
       "    <tr>\n",
       "      <th>0</th>\n",
       "      <td>Supersymmetric quantum mechanics</td>\n",
       "      <td>Introduction</td>\n",
       "      <td>Understanding the consequences of supersymmetr...</td>\n",
       "    </tr>\n",
       "    <tr>\n",
       "      <th>1</th>\n",
       "      <td>Supersymmetric quantum mechanics</td>\n",
       "      <td>Example: the harmonic oscillator</td>\n",
       "      <td>The Schrödinger equation for the harmonic osci...</td>\n",
       "    </tr>\n",
       "    <tr>\n",
       "      <th>2</th>\n",
       "      <td>Supersymmetric quantum mechanics</td>\n",
       "      <td>SUSY QM superalgebra</td>\n",
       "      <td>In fundamental quantum mechanics, we learn tha...</td>\n",
       "    </tr>\n",
       "    <tr>\n",
       "      <th>3</th>\n",
       "      <td>Supersymmetric quantum mechanics</td>\n",
       "      <td>Example</td>\n",
       "      <td>Let's look at the example of a one-dimensional...</td>\n",
       "    </tr>\n",
       "    <tr>\n",
       "      <th>4</th>\n",
       "      <td>Supersymmetric quantum mechanics</td>\n",
       "      <td>Shape invariance</td>\n",
       "      <td>Suppose \\n  \\n    \\n      \\n        W\\n      \\...</td>\n",
       "    </tr>\n",
       "  </tbody>\n",
       "</table>\n",
       "</div>"
      ],
      "text/plain": [
       "                               page                     section_title  \\\n",
       "0  Supersymmetric quantum mechanics                      Introduction   \n",
       "1  Supersymmetric quantum mechanics  Example: the harmonic oscillator   \n",
       "2  Supersymmetric quantum mechanics              SUSY QM superalgebra   \n",
       "3  Supersymmetric quantum mechanics                           Example   \n",
       "4  Supersymmetric quantum mechanics                  Shape invariance   \n",
       "\n",
       "                                                text  \n",
       "0  Understanding the consequences of supersymmetr...  \n",
       "1  The Schrödinger equation for the harmonic osci...  \n",
       "2  In fundamental quantum mechanics, we learn tha...  \n",
       "3  Let's look at the example of a one-dimensional...  \n",
       "4  Suppose \\n  \\n    \\n      \\n        W\\n      \\...  "
      ]
     },
     "execution_count": 7,
     "metadata": {},
     "output_type": "execute_result"
    }
   ],
   "source": [
    "train_pages_df = get_pages_df(train_pages)\n",
    "#train_pages_df.to_csv(\"train_pages.csv\", index=False)\n",
    "print(train_pages_df.shape)\n",
    "train_pages_df.head()"
   ]
  },
  {
   "cell_type": "code",
   "execution_count": 9,
   "id": "d07cf981-5fb9-4e3a-bce5-dc86c7bfe5e4",
   "metadata": {},
   "outputs": [
    {
     "name": "stderr",
     "output_type": "stream",
     "text": [
      "[nltk_data] Downloading package stopwords to /home/vino/nltk_data...\n",
      "[nltk_data]   Unzipping corpora/stopwords.zip.\n"
     ]
    }
   ],
   "source": [
    "import re\n",
    "import nltk\n",
    "from nltk.corpus import stopwords\n",
    "\n",
    "# Download the stopwords from nltk if not already done\n",
    "nltk.download('stopwords')\n",
    "# Load English stopwords\n",
    "stop_words = set(stopwords.words('english'))\n",
    "\n",
    "\n",
    "# Text cleaning functions\n",
    "# Remove special characters like '\\n', excessive punctuation, etc.\n",
    "def remove_special_chars(text):\n",
    "    return re.sub(r'[^a-zA-Z0-9.,!?\\'\" ]+', ' ', text)\n",
    "\n",
    "# Normalize whitespace (remove extra spaces, newlines, etc.)\n",
    "def normalize_whitespace(text):\n",
    "    return re.sub(r'\\s+', ' ', text).strip()\n",
    "\n",
    "# Convert to lowercase\n",
    "def to_lowercase(text):\n",
    "    return text.lower()\n",
    "\n",
    "# Remove stopwords\n",
    "def remove_stopwords(text):\n",
    "    words = text.split()  # Split text into words\n",
    "    return ' '.join([word for word in words if word not in stop_words])\n",
    "\n",
    "# Full cleaning function\n",
    "def clean_text(text):\n",
    "    text = remove_special_chars(text)\n",
    "    text = normalize_whitespace(text)\n",
    "    text = to_lowercase(text)\n",
    "    text = remove_stopwords(text)  # Remove stopwords\n",
    "    return text\n"
   ]
  },
  {
   "cell_type": "code",
   "execution_count": 11,
   "id": "6f527d21-514f-4f3f-9c93-deceeb20405d",
   "metadata": {},
   "outputs": [],
   "source": [
    "# Apply cleaning to the 'text' column of your DataFrame\n",
    "train_pages_df['cleaned_text'] = train_pages_df['text'].apply(clean_text)"
   ]
  },
  {
   "cell_type": "code",
   "execution_count": 12,
   "id": "d1d31a88",
   "metadata": {
    "papermill": {
     "duration": 0.012988,
     "end_time": "2023-07-18T22:17:35.675179",
     "exception": false,
     "start_time": "2023-07-18T22:17:35.662191",
     "status": "completed"
    },
    "tags": []
   },
   "outputs": [],
   "source": [
    "# Scaling up to most significant category: Concepts in physics"
   ]
  },
  {
   "cell_type": "code",
   "execution_count": 13,
   "id": "e0f98213",
   "metadata": {
    "papermill": {
     "duration": 0.017966,
     "end_time": "2023-07-18T22:17:35.697796",
     "exception": false,
     "start_time": "2023-07-18T22:17:35.679830",
     "status": "completed"
    },
    "tags": []
   },
   "outputs": [],
   "source": [
    "def split_category_members(members):\n",
    "    category_list, page_list = [], []\n",
    "\n",
    "    for member_name, member_page in members:\n",
    "        if member_name.startswith('Category'):\n",
    "            category_list.append((member_name, member_page))\n",
    "        elif not member_name.startswith(\"File\"):\n",
    "            page_list.append((member_name, member_page))\n",
    "    \n",
    "    return category_list, page_list\n",
    "\n",
    "def get_all_pages_category_deep(\n",
    "    init_category: str,\n",
    "    depth: int = 2,\n",
    "):\n",
    "    category_page = wiki_wiki.page(init_category)\n",
    "    chosen_list = list(category_page.categorymembers.items())\n",
    "    category_list, page_list = split_category_members(chosen_list)\n",
    "    \n",
    "    category_pages = {\n",
    "        init_category: page_list\n",
    "    }\n",
    "    \n",
    "    # Iterate through each set of sub-categories\n",
    "    for i in range(depth):\n",
    "        # Get all the pages from the next category\n",
    "        new_category_list = []\n",
    "        for category, _ in category_list:\n",
    "            category_page = wiki_wiki.page(category)\n",
    "            sub_category_list, page_list = split_category_members(list(category_page.categorymembers.items()))\n",
    "            category_pages[category] = page_list\n",
    "            new_category_list.extend(sub_category_list)\n",
    "        category_list = new_category_list\n",
    "            \n",
    "    all_pages = [j for x in category_pages.values() for j in x]\n",
    "    unique_pages = list(set(all_pages))\n",
    "        \n",
    "    return unique_pages"
   ]
  },
  {
   "cell_type": "code",
   "execution_count": 14,
   "id": "80a31b3d",
   "metadata": {
    "papermill": {
     "duration": 0.706289,
     "end_time": "2023-07-18T22:17:36.408837",
     "exception": false,
     "start_time": "2023-07-18T22:17:35.702548",
     "status": "completed"
    },
    "tags": []
   },
   "outputs": [
    {
     "name": "stdout",
     "output_type": "stream",
     "text": [
      "917 total pages. 101 captured, 53 missing from the train set\n"
     ]
    }
   ],
   "source": [
    "concepts_in_physics_pages = get_all_pages_category_deep(\n",
    "    init_category = 'Category:Concepts in physics',\n",
    "    depth=1\n",
    ")\n",
    "\n",
    "# Number of pages captured\n",
    "captured = len([x for x in train_pages if x in [page_name for page_name, _ in concepts_in_physics_pages]])\n",
    "missing = len([x for x in train_pages if x not in [page_name for page_name, _ in concepts_in_physics_pages]])\n",
    "print(f\"{len(concepts_in_physics_pages)} total pages. {captured} captured, {missing} missing from the train set\")"
   ]
  },
  {
   "cell_type": "code",
   "execution_count": 15,
   "id": "474f89e3",
   "metadata": {
    "papermill": {
     "duration": 60.212855,
     "end_time": "2023-07-18T22:18:36.626930",
     "exception": false,
     "start_time": "2023-07-18T22:17:36.414075",
     "status": "completed"
    },
    "tags": []
   },
   "outputs": [
    {
     "data": {
      "application/vnd.jupyter.widget-view+json": {
       "model_id": "1bfacbd31ac94a40a073d04ca5580980",
       "version_major": 2,
       "version_minor": 0
      },
      "text/plain": [
       "  0%|          | 0/937 [00:00<?, ?it/s]"
      ]
     },
     "metadata": {},
     "output_type": "display_data"
    },
    {
     "name": "stdout",
     "output_type": "stream",
     "text": [
      "4313\n",
      "(4313, 3)\n"
     ]
    },
    {
     "data": {
      "text/html": [
       "<div>\n",
       "<style scoped>\n",
       "    .dataframe tbody tr th:only-of-type {\n",
       "        vertical-align: middle;\n",
       "    }\n",
       "\n",
       "    .dataframe tbody tr th {\n",
       "        vertical-align: top;\n",
       "    }\n",
       "\n",
       "    .dataframe thead th {\n",
       "        text-align: right;\n",
       "    }\n",
       "</style>\n",
       "<table border=\"1\" class=\"dataframe\">\n",
       "  <thead>\n",
       "    <tr style=\"text-align: right;\">\n",
       "      <th></th>\n",
       "      <th>page</th>\n",
       "      <th>section_title</th>\n",
       "      <th>text</th>\n",
       "    </tr>\n",
       "  </thead>\n",
       "  <tbody>\n",
       "    <tr>\n",
       "      <th>0</th>\n",
       "      <td>One-dimensional symmetry group</td>\n",
       "      <td>Point group</td>\n",
       "      <td>For a pattern without translational symmetry t...</td>\n",
       "    </tr>\n",
       "    <tr>\n",
       "      <th>1</th>\n",
       "      <td>One-dimensional symmetry group</td>\n",
       "      <td>Discrete symmetry groups</td>\n",
       "      <td>These affine symmetries can be considered limi...</td>\n",
       "    </tr>\n",
       "    <tr>\n",
       "      <th>2</th>\n",
       "      <td>One-dimensional symmetry group</td>\n",
       "      <td>1D-symmetry of a function vs. 2D-symmetry of i...</td>\n",
       "      <td>Symmetries of a function (in the sense of this...</td>\n",
       "    </tr>\n",
       "    <tr>\n",
       "      <th>3</th>\n",
       "      <td>One-dimensional symmetry group</td>\n",
       "      <td>Group action</td>\n",
       "      <td>Group actions of the symmetry group that can b...</td>\n",
       "    </tr>\n",
       "    <tr>\n",
       "      <th>4</th>\n",
       "      <td>One-dimensional symmetry group</td>\n",
       "      <td>Orbits and stabilizers</td>\n",
       "      <td>Consider a group G acting on a set X. The orbi...</td>\n",
       "    </tr>\n",
       "  </tbody>\n",
       "</table>\n",
       "</div>"
      ],
      "text/plain": [
       "                             page  \\\n",
       "0  One-dimensional symmetry group   \n",
       "1  One-dimensional symmetry group   \n",
       "2  One-dimensional symmetry group   \n",
       "3  One-dimensional symmetry group   \n",
       "4  One-dimensional symmetry group   \n",
       "\n",
       "                                       section_title  \\\n",
       "0                                        Point group   \n",
       "1                           Discrete symmetry groups   \n",
       "2  1D-symmetry of a function vs. 2D-symmetry of i...   \n",
       "3                                       Group action   \n",
       "4                             Orbits and stabilizers   \n",
       "\n",
       "                                                text  \n",
       "0  For a pattern without translational symmetry t...  \n",
       "1  These affine symmetries can be considered limi...  \n",
       "2  Symmetries of a function (in the sense of this...  \n",
       "3  Group actions of the symmetry group that can b...  \n",
       "4  Consider a group G acting on a set X. The orbi...  "
      ]
     },
     "execution_count": 15,
     "metadata": {},
     "output_type": "execute_result"
    }
   ],
   "source": [
    "# Just get the page names\n",
    "concepts_in_physics_pages = [x[0] for x in concepts_in_physics_pages]\n",
    "\n",
    "# Add in the training pages and create another dataset!\n",
    "concepts_in_physics_pages.extend(train_pages)\n",
    "concepts_in_physics_pages = list(set(concepts_in_physics_pages))\n",
    "physics_pages_df = get_pages_df(concepts_in_physics_pages)\n",
    "print(physics_pages_df.shape)\n",
    "physics_pages_df.head()"
   ]
  },
  {
   "cell_type": "code",
   "execution_count": 16,
   "id": "431c735a",
   "metadata": {
    "papermill": {
     "duration": 0.004921,
     "end_time": "2023-07-18T22:18:36.637409",
     "exception": false,
     "start_time": "2023-07-18T22:18:36.632488",
     "status": "completed"
    },
    "tags": []
   },
   "outputs": [],
   "source": [
    "# Apply cleaning to the 'text' column of your DataFrame\n",
    "physics_pages_df['cleaned_text'] = physics_pages_df['text'].apply(clean_text)"
   ]
  },
  {
   "cell_type": "code",
   "execution_count": 17,
   "id": "9bf94b25-04b0-4cc8-9bb5-7c1032f2426e",
   "metadata": {},
   "outputs": [
    {
     "data": {
      "text/plain": [
       "(891, 4)"
      ]
     },
     "execution_count": 17,
     "metadata": {},
     "output_type": "execute_result"
    }
   ],
   "source": [
    "train_pages_df.shape"
   ]
  },
  {
   "cell_type": "code",
   "execution_count": 18,
   "id": "d6a4f0a0-675e-423e-8b13-e9fe282fac78",
   "metadata": {},
   "outputs": [
    {
     "data": {
      "text/plain": [
       "(4313, 4)"
      ]
     },
     "execution_count": 18,
     "metadata": {},
     "output_type": "execute_result"
    }
   ],
   "source": [
    "physics_pages_df.shape"
   ]
  },
  {
   "cell_type": "code",
   "execution_count": 19,
   "id": "6966beb9-ad3a-4bb2-875d-728da0995ede",
   "metadata": {},
   "outputs": [],
   "source": [
    "# Function to chunk text\n",
    "def chunk_text(text, max_words=512):\n",
    "    words = text.split()  # Split the text into words\n",
    "    chunks = [' '.join(words[i:i + max_words]) for i in range(0, len(words), max_words)]  # Create chunks\n",
    "    return chunks\n",
    "\n",
    "# Expanding the DataFrame by splitting long texts\n",
    "def chunk_cleaned_text(df):    \n",
    "    new_rows = []\n",
    "    for index, row in df.iterrows():\n",
    "        chunks = chunk_text(row['cleaned_text'], max_words=450)\n",
    "        for i, chunk in enumerate(chunks):\n",
    "            new_row = row.copy()\n",
    "            new_row['cleaned_text'] = chunk\n",
    "            new_row['chunk_id'] = i + 1  # Optional: add chunk id if you want to track chunks\n",
    "            new_rows.append(new_row)\n",
    "    \n",
    "    # Create new DataFrame with the chunked texts\n",
    "    chunked_df = pd.DataFrame(new_rows)\n",
    "    return chunked_df\n",
    "    \n",
    "train_pages_df=chunk_cleaned_text(train_pages_df)\n",
    "physics_pages_df=chunk_cleaned_text(physics_pages_df)"
   ]
  },
  {
   "cell_type": "code",
   "execution_count": 20,
   "id": "e6cfdbbc-12b8-484a-a817-078ebb2c0689",
   "metadata": {},
   "outputs": [],
   "source": [
    "train_pages_df.to_csv('train_pages_df.csv',index=False)"
   ]
  },
  {
   "cell_type": "code",
   "execution_count": 21,
   "id": "fb34464e-b698-48bd-8aed-105a44cb9e39",
   "metadata": {},
   "outputs": [],
   "source": [
    "physics_pages_df.to_csv('physics_pages_df.csv',index=False)"
   ]
  }
 ],
 "metadata": {
  "kernelspec": {
   "display_name": "Python 3 (ipykernel)",
   "language": "python",
   "name": "python3"
  },
  "language_info": {
   "codemirror_mode": {
    "name": "ipython",
    "version": 3
   },
   "file_extension": ".py",
   "mimetype": "text/x-python",
   "name": "python",
   "nbconvert_exporter": "python",
   "pygments_lexer": "ipython3",
   "version": "3.11.10"
  },
  "papermill": {
   "default_parameters": {},
   "duration": 95.707828,
   "end_time": "2023-07-18T22:18:37.566531",
   "environment_variables": {},
   "exception": null,
   "input_path": "__notebook__.ipynb",
   "output_path": "__notebook__.ipynb",
   "parameters": {},
   "start_time": "2023-07-18T22:17:01.858703",
   "version": "2.4.0"
  },
  "widgets": {
   "application/vnd.jupyter.widget-state+json": {
    "state": {
     "0f68b24377cc4ba8b20e1cb3ef6cdc6f": {
      "model_module": "@jupyter-widgets/base",
      "model_module_version": "1.2.0",
      "model_name": "LayoutModel",
      "state": {
       "_model_module": "@jupyter-widgets/base",
       "_model_module_version": "1.2.0",
       "_model_name": "LayoutModel",
       "_view_count": null,
       "_view_module": "@jupyter-widgets/base",
       "_view_module_version": "1.2.0",
       "_view_name": "LayoutView",
       "align_content": null,
       "align_items": null,
       "align_self": null,
       "border": null,
       "bottom": null,
       "display": null,
       "flex": null,
       "flex_flow": null,
       "grid_area": null,
       "grid_auto_columns": null,
       "grid_auto_flow": null,
       "grid_auto_rows": null,
       "grid_column": null,
       "grid_gap": null,
       "grid_row": null,
       "grid_template_areas": null,
       "grid_template_columns": null,
       "grid_template_rows": null,
       "height": null,
       "justify_content": null,
       "justify_items": null,
       "left": null,
       "margin": null,
       "max_height": null,
       "max_width": null,
       "min_height": null,
       "min_width": null,
       "object_fit": null,
       "object_position": null,
       "order": null,
       "overflow": null,
       "overflow_x": null,
       "overflow_y": null,
       "padding": null,
       "right": null,
       "top": null,
       "visibility": null,
       "width": null
      }
     },
     "11573aed518e41158e842e9543b23927": {
      "model_module": "@jupyter-widgets/controls",
      "model_module_version": "1.5.0",
      "model_name": "HBoxModel",
      "state": {
       "_dom_classes": [],
       "_model_module": "@jupyter-widgets/controls",
       "_model_module_version": "1.5.0",
       "_model_name": "HBoxModel",
       "_view_count": null,
       "_view_module": "@jupyter-widgets/controls",
       "_view_module_version": "1.5.0",
       "_view_name": "HBoxView",
       "box_style": "",
       "children": [
        "IPY_MODEL_dbefdb67c31f4c96b528c3f826c59281",
        "IPY_MODEL_b456492536ac489aafa1143bf9debb87",
        "IPY_MODEL_6c6ba068ee034c678b3575f85be2bef1"
       ],
       "layout": "IPY_MODEL_f2ca24c215db4b3d87c7cbce02db9faa"
      }
     },
     "1521c1c0974049928290d2c84463a1df": {
      "model_module": "@jupyter-widgets/base",
      "model_module_version": "1.2.0",
      "model_name": "LayoutModel",
      "state": {
       "_model_module": "@jupyter-widgets/base",
       "_model_module_version": "1.2.0",
       "_model_name": "LayoutModel",
       "_view_count": null,
       "_view_module": "@jupyter-widgets/base",
       "_view_module_version": "1.2.0",
       "_view_name": "LayoutView",
       "align_content": null,
       "align_items": null,
       "align_self": null,
       "border": null,
       "bottom": null,
       "display": null,
       "flex": null,
       "flex_flow": null,
       "grid_area": null,
       "grid_auto_columns": null,
       "grid_auto_flow": null,
       "grid_auto_rows": null,
       "grid_column": null,
       "grid_gap": null,
       "grid_row": null,
       "grid_template_areas": null,
       "grid_template_columns": null,
       "grid_template_rows": null,
       "height": null,
       "justify_content": null,
       "justify_items": null,
       "left": null,
       "margin": null,
       "max_height": null,
       "max_width": null,
       "min_height": null,
       "min_width": null,
       "object_fit": null,
       "object_position": null,
       "order": null,
       "overflow": null,
       "overflow_x": null,
       "overflow_y": null,
       "padding": null,
       "right": null,
       "top": null,
       "visibility": null,
       "width": null
      }
     },
     "1cfcd3e67be74529ae87c8c692bf3e4c": {
      "model_module": "@jupyter-widgets/controls",
      "model_module_version": "1.5.0",
      "model_name": "HTMLModel",
      "state": {
       "_dom_classes": [],
       "_model_module": "@jupyter-widgets/controls",
       "_model_module_version": "1.5.0",
       "_model_name": "HTMLModel",
       "_view_count": null,
       "_view_module": "@jupyter-widgets/controls",
       "_view_module_version": "1.5.0",
       "_view_name": "HTMLView",
       "description": "",
       "description_tooltip": null,
       "layout": "IPY_MODEL_1521c1c0974049928290d2c84463a1df",
       "placeholder": "​",
       "style": "IPY_MODEL_4238c641b05842e2968d71b8a6a2fa7f",
       "value": " 154/154 [00:09&lt;00:00, 15.66it/s]"
      }
     },
     "1f5c65c58b2f44309a17d3d6ed3ee172": {
      "model_module": "@jupyter-widgets/controls",
      "model_module_version": "1.5.0",
      "model_name": "ProgressStyleModel",
      "state": {
       "_model_module": "@jupyter-widgets/controls",
       "_model_module_version": "1.5.0",
       "_model_name": "ProgressStyleModel",
       "_view_count": null,
       "_view_module": "@jupyter-widgets/base",
       "_view_module_version": "1.2.0",
       "_view_name": "StyleView",
       "bar_color": null,
       "description_width": ""
      }
     },
     "28c0c7b3755740d1b4b702b3d5bcec09": {
      "model_module": "@jupyter-widgets/controls",
      "model_module_version": "1.5.0",
      "model_name": "DescriptionStyleModel",
      "state": {
       "_model_module": "@jupyter-widgets/controls",
       "_model_module_version": "1.5.0",
       "_model_name": "DescriptionStyleModel",
       "_view_count": null,
       "_view_module": "@jupyter-widgets/base",
       "_view_module_version": "1.2.0",
       "_view_name": "StyleView",
       "description_width": ""
      }
     },
     "32e461eea2ba43a284459fe9686b360f": {
      "model_module": "@jupyter-widgets/base",
      "model_module_version": "1.2.0",
      "model_name": "LayoutModel",
      "state": {
       "_model_module": "@jupyter-widgets/base",
       "_model_module_version": "1.2.0",
       "_model_name": "LayoutModel",
       "_view_count": null,
       "_view_module": "@jupyter-widgets/base",
       "_view_module_version": "1.2.0",
       "_view_name": "LayoutView",
       "align_content": null,
       "align_items": null,
       "align_self": null,
       "border": null,
       "bottom": null,
       "display": null,
       "flex": null,
       "flex_flow": null,
       "grid_area": null,
       "grid_auto_columns": null,
       "grid_auto_flow": null,
       "grid_auto_rows": null,
       "grid_column": null,
       "grid_gap": null,
       "grid_row": null,
       "grid_template_areas": null,
       "grid_template_columns": null,
       "grid_template_rows": null,
       "height": null,
       "justify_content": null,
       "justify_items": null,
       "left": null,
       "margin": null,
       "max_height": null,
       "max_width": null,
       "min_height": null,
       "min_width": null,
       "object_fit": null,
       "object_position": null,
       "order": null,
       "overflow": null,
       "overflow_x": null,
       "overflow_y": null,
       "padding": null,
       "right": null,
       "top": null,
       "visibility": null,
       "width": null
      }
     },
     "3b745f89888148ccbc36e102293a90a3": {
      "model_module": "@jupyter-widgets/base",
      "model_module_version": "1.2.0",
      "model_name": "LayoutModel",
      "state": {
       "_model_module": "@jupyter-widgets/base",
       "_model_module_version": "1.2.0",
       "_model_name": "LayoutModel",
       "_view_count": null,
       "_view_module": "@jupyter-widgets/base",
       "_view_module_version": "1.2.0",
       "_view_name": "LayoutView",
       "align_content": null,
       "align_items": null,
       "align_self": null,
       "border": null,
       "bottom": null,
       "display": null,
       "flex": null,
       "flex_flow": null,
       "grid_area": null,
       "grid_auto_columns": null,
       "grid_auto_flow": null,
       "grid_auto_rows": null,
       "grid_column": null,
       "grid_gap": null,
       "grid_row": null,
       "grid_template_areas": null,
       "grid_template_columns": null,
       "grid_template_rows": null,
       "height": null,
       "justify_content": null,
       "justify_items": null,
       "left": null,
       "margin": null,
       "max_height": null,
       "max_width": null,
       "min_height": null,
       "min_width": null,
       "object_fit": null,
       "object_position": null,
       "order": null,
       "overflow": null,
       "overflow_x": null,
       "overflow_y": null,
       "padding": null,
       "right": null,
       "top": null,
       "visibility": null,
       "width": null
      }
     },
     "4175763af3a44a41a48e012bd7a23c33": {
      "model_module": "@jupyter-widgets/controls",
      "model_module_version": "1.5.0",
      "model_name": "DescriptionStyleModel",
      "state": {
       "_model_module": "@jupyter-widgets/controls",
       "_model_module_version": "1.5.0",
       "_model_name": "DescriptionStyleModel",
       "_view_count": null,
       "_view_module": "@jupyter-widgets/base",
       "_view_module_version": "1.2.0",
       "_view_name": "StyleView",
       "description_width": ""
      }
     },
     "4238c641b05842e2968d71b8a6a2fa7f": {
      "model_module": "@jupyter-widgets/controls",
      "model_module_version": "1.5.0",
      "model_name": "DescriptionStyleModel",
      "state": {
       "_model_module": "@jupyter-widgets/controls",
       "_model_module_version": "1.5.0",
       "_model_name": "DescriptionStyleModel",
       "_view_count": null,
       "_view_module": "@jupyter-widgets/base",
       "_view_module_version": "1.2.0",
       "_view_name": "StyleView",
       "description_width": ""
      }
     },
     "48f9e6cf0c6e49849f5c36b39d2d8265": {
      "model_module": "@jupyter-widgets/base",
      "model_module_version": "1.2.0",
      "model_name": "LayoutModel",
      "state": {
       "_model_module": "@jupyter-widgets/base",
       "_model_module_version": "1.2.0",
       "_model_name": "LayoutModel",
       "_view_count": null,
       "_view_module": "@jupyter-widgets/base",
       "_view_module_version": "1.2.0",
       "_view_name": "LayoutView",
       "align_content": null,
       "align_items": null,
       "align_self": null,
       "border": null,
       "bottom": null,
       "display": null,
       "flex": null,
       "flex_flow": null,
       "grid_area": null,
       "grid_auto_columns": null,
       "grid_auto_flow": null,
       "grid_auto_rows": null,
       "grid_column": null,
       "grid_gap": null,
       "grid_row": null,
       "grid_template_areas": null,
       "grid_template_columns": null,
       "grid_template_rows": null,
       "height": null,
       "justify_content": null,
       "justify_items": null,
       "left": null,
       "margin": null,
       "max_height": null,
       "max_width": null,
       "min_height": null,
       "min_width": null,
       "object_fit": null,
       "object_position": null,
       "order": null,
       "overflow": null,
       "overflow_x": null,
       "overflow_y": null,
       "padding": null,
       "right": null,
       "top": null,
       "visibility": null,
       "width": null
      }
     },
     "4f4258fcc4004b25b0631e2b6b040874": {
      "model_module": "@jupyter-widgets/controls",
      "model_module_version": "1.5.0",
      "model_name": "FloatProgressModel",
      "state": {
       "_dom_classes": [],
       "_model_module": "@jupyter-widgets/controls",
       "_model_module_version": "1.5.0",
       "_model_name": "FloatProgressModel",
       "_view_count": null,
       "_view_module": "@jupyter-widgets/controls",
       "_view_module_version": "1.5.0",
       "_view_name": "ProgressView",
       "bar_style": "success",
       "description": "",
       "description_tooltip": null,
       "layout": "IPY_MODEL_6f89f8f7f97f4ea28d05e0f49b8e8138",
       "max": 154,
       "min": 0,
       "orientation": "horizontal",
       "style": "IPY_MODEL_1f5c65c58b2f44309a17d3d6ed3ee172",
       "value": 154
      }
     },
     "6c6ba068ee034c678b3575f85be2bef1": {
      "model_module": "@jupyter-widgets/controls",
      "model_module_version": "1.5.0",
      "model_name": "HTMLModel",
      "state": {
       "_dom_classes": [],
       "_model_module": "@jupyter-widgets/controls",
       "_model_module_version": "1.5.0",
       "_model_name": "HTMLModel",
       "_view_count": null,
       "_view_module": "@jupyter-widgets/controls",
       "_view_module_version": "1.5.0",
       "_view_name": "HTMLView",
       "description": "",
       "description_tooltip": null,
       "layout": "IPY_MODEL_727b6bdc9b1f4e1cbec9e9e9595e05a7",
       "placeholder": "​",
       "style": "IPY_MODEL_4175763af3a44a41a48e012bd7a23c33",
       "value": " 896/896 [00:59&lt;00:00, 17.43it/s]"
      }
     },
     "6f89f8f7f97f4ea28d05e0f49b8e8138": {
      "model_module": "@jupyter-widgets/base",
      "model_module_version": "1.2.0",
      "model_name": "LayoutModel",
      "state": {
       "_model_module": "@jupyter-widgets/base",
       "_model_module_version": "1.2.0",
       "_model_name": "LayoutModel",
       "_view_count": null,
       "_view_module": "@jupyter-widgets/base",
       "_view_module_version": "1.2.0",
       "_view_name": "LayoutView",
       "align_content": null,
       "align_items": null,
       "align_self": null,
       "border": null,
       "bottom": null,
       "display": null,
       "flex": null,
       "flex_flow": null,
       "grid_area": null,
       "grid_auto_columns": null,
       "grid_auto_flow": null,
       "grid_auto_rows": null,
       "grid_column": null,
       "grid_gap": null,
       "grid_row": null,
       "grid_template_areas": null,
       "grid_template_columns": null,
       "grid_template_rows": null,
       "height": null,
       "justify_content": null,
       "justify_items": null,
       "left": null,
       "margin": null,
       "max_height": null,
       "max_width": null,
       "min_height": null,
       "min_width": null,
       "object_fit": null,
       "object_position": null,
       "order": null,
       "overflow": null,
       "overflow_x": null,
       "overflow_y": null,
       "padding": null,
       "right": null,
       "top": null,
       "visibility": null,
       "width": null
      }
     },
     "727b6bdc9b1f4e1cbec9e9e9595e05a7": {
      "model_module": "@jupyter-widgets/base",
      "model_module_version": "1.2.0",
      "model_name": "LayoutModel",
      "state": {
       "_model_module": "@jupyter-widgets/base",
       "_model_module_version": "1.2.0",
       "_model_name": "LayoutModel",
       "_view_count": null,
       "_view_module": "@jupyter-widgets/base",
       "_view_module_version": "1.2.0",
       "_view_name": "LayoutView",
       "align_content": null,
       "align_items": null,
       "align_self": null,
       "border": null,
       "bottom": null,
       "display": null,
       "flex": null,
       "flex_flow": null,
       "grid_area": null,
       "grid_auto_columns": null,
       "grid_auto_flow": null,
       "grid_auto_rows": null,
       "grid_column": null,
       "grid_gap": null,
       "grid_row": null,
       "grid_template_areas": null,
       "grid_template_columns": null,
       "grid_template_rows": null,
       "height": null,
       "justify_content": null,
       "justify_items": null,
       "left": null,
       "margin": null,
       "max_height": null,
       "max_width": null,
       "min_height": null,
       "min_width": null,
       "object_fit": null,
       "object_position": null,
       "order": null,
       "overflow": null,
       "overflow_x": null,
       "overflow_y": null,
       "padding": null,
       "right": null,
       "top": null,
       "visibility": null,
       "width": null
      }
     },
     "7994ddc1433243428f961f17207cf601": {
      "model_module": "@jupyter-widgets/controls",
      "model_module_version": "1.5.0",
      "model_name": "DescriptionStyleModel",
      "state": {
       "_model_module": "@jupyter-widgets/controls",
       "_model_module_version": "1.5.0",
       "_model_name": "DescriptionStyleModel",
       "_view_count": null,
       "_view_module": "@jupyter-widgets/base",
       "_view_module_version": "1.2.0",
       "_view_name": "StyleView",
       "description_width": ""
      }
     },
     "83796862a1754a9bb0aeb4355f9e795e": {
      "model_module": "@jupyter-widgets/controls",
      "model_module_version": "1.5.0",
      "model_name": "ProgressStyleModel",
      "state": {
       "_model_module": "@jupyter-widgets/controls",
       "_model_module_version": "1.5.0",
       "_model_name": "ProgressStyleModel",
       "_view_count": null,
       "_view_module": "@jupyter-widgets/base",
       "_view_module_version": "1.2.0",
       "_view_name": "StyleView",
       "bar_color": null,
       "description_width": ""
      }
     },
     "ae1f2b27f1f34348b09ef55edeb46c34": {
      "model_module": "@jupyter-widgets/controls",
      "model_module_version": "1.5.0",
      "model_name": "HTMLModel",
      "state": {
       "_dom_classes": [],
       "_model_module": "@jupyter-widgets/controls",
       "_model_module_version": "1.5.0",
       "_model_name": "HTMLModel",
       "_view_count": null,
       "_view_module": "@jupyter-widgets/controls",
       "_view_module_version": "1.5.0",
       "_view_name": "HTMLView",
       "description": "",
       "description_tooltip": null,
       "layout": "IPY_MODEL_32e461eea2ba43a284459fe9686b360f",
       "placeholder": "​",
       "style": "IPY_MODEL_7994ddc1433243428f961f17207cf601",
       "value": "100%"
      }
     },
     "b456492536ac489aafa1143bf9debb87": {
      "model_module": "@jupyter-widgets/controls",
      "model_module_version": "1.5.0",
      "model_name": "FloatProgressModel",
      "state": {
       "_dom_classes": [],
       "_model_module": "@jupyter-widgets/controls",
       "_model_module_version": "1.5.0",
       "_model_name": "FloatProgressModel",
       "_view_count": null,
       "_view_module": "@jupyter-widgets/controls",
       "_view_module_version": "1.5.0",
       "_view_name": "ProgressView",
       "bar_style": "success",
       "description": "",
       "description_tooltip": null,
       "layout": "IPY_MODEL_0f68b24377cc4ba8b20e1cb3ef6cdc6f",
       "max": 896,
       "min": 0,
       "orientation": "horizontal",
       "style": "IPY_MODEL_83796862a1754a9bb0aeb4355f9e795e",
       "value": 896
      }
     },
     "b5a93319c09d49cb8c92689d5f8c5484": {
      "model_module": "@jupyter-widgets/controls",
      "model_module_version": "1.5.0",
      "model_name": "HBoxModel",
      "state": {
       "_dom_classes": [],
       "_model_module": "@jupyter-widgets/controls",
       "_model_module_version": "1.5.0",
       "_model_name": "HBoxModel",
       "_view_count": null,
       "_view_module": "@jupyter-widgets/controls",
       "_view_module_version": "1.5.0",
       "_view_name": "HBoxView",
       "box_style": "",
       "children": [
        "IPY_MODEL_ae1f2b27f1f34348b09ef55edeb46c34",
        "IPY_MODEL_4f4258fcc4004b25b0631e2b6b040874",
        "IPY_MODEL_1cfcd3e67be74529ae87c8c692bf3e4c"
       ],
       "layout": "IPY_MODEL_3b745f89888148ccbc36e102293a90a3"
      }
     },
     "dbefdb67c31f4c96b528c3f826c59281": {
      "model_module": "@jupyter-widgets/controls",
      "model_module_version": "1.5.0",
      "model_name": "HTMLModel",
      "state": {
       "_dom_classes": [],
       "_model_module": "@jupyter-widgets/controls",
       "_model_module_version": "1.5.0",
       "_model_name": "HTMLModel",
       "_view_count": null,
       "_view_module": "@jupyter-widgets/controls",
       "_view_module_version": "1.5.0",
       "_view_name": "HTMLView",
       "description": "",
       "description_tooltip": null,
       "layout": "IPY_MODEL_48f9e6cf0c6e49849f5c36b39d2d8265",
       "placeholder": "​",
       "style": "IPY_MODEL_28c0c7b3755740d1b4b702b3d5bcec09",
       "value": "100%"
      }
     },
     "f2ca24c215db4b3d87c7cbce02db9faa": {
      "model_module": "@jupyter-widgets/base",
      "model_module_version": "1.2.0",
      "model_name": "LayoutModel",
      "state": {
       "_model_module": "@jupyter-widgets/base",
       "_model_module_version": "1.2.0",
       "_model_name": "LayoutModel",
       "_view_count": null,
       "_view_module": "@jupyter-widgets/base",
       "_view_module_version": "1.2.0",
       "_view_name": "LayoutView",
       "align_content": null,
       "align_items": null,
       "align_self": null,
       "border": null,
       "bottom": null,
       "display": null,
       "flex": null,
       "flex_flow": null,
       "grid_area": null,
       "grid_auto_columns": null,
       "grid_auto_flow": null,
       "grid_auto_rows": null,
       "grid_column": null,
       "grid_gap": null,
       "grid_row": null,
       "grid_template_areas": null,
       "grid_template_columns": null,
       "grid_template_rows": null,
       "height": null,
       "justify_content": null,
       "justify_items": null,
       "left": null,
       "margin": null,
       "max_height": null,
       "max_width": null,
       "min_height": null,
       "min_width": null,
       "object_fit": null,
       "object_position": null,
       "order": null,
       "overflow": null,
       "overflow_x": null,
       "overflow_y": null,
       "padding": null,
       "right": null,
       "top": null,
       "visibility": null,
       "width": null
      }
     }
    },
    "version_major": 2,
    "version_minor": 0
   }
  }
 },
 "nbformat": 4,
 "nbformat_minor": 5
}
