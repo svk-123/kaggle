{
 "cells": [
  {
   "cell_type": "markdown",
   "id": "f506feee-98f0-4106-a53a-ccbff09b3ce3",
   "metadata": {},
   "source": [
    "### https://www.kaggle.com/competitions/drawing-with-llms"
   ]
  },
  {
   "cell_type": "code",
   "execution_count": 50,
   "id": "e9062a4b-55ec-493c-a31e-f03a3489a374",
   "metadata": {},
   "outputs": [
    {
     "data": {
      "text/html": [
       "<div>\n",
       "<style scoped>\n",
       "    .dataframe tbody tr th:only-of-type {\n",
       "        vertical-align: middle;\n",
       "    }\n",
       "\n",
       "    .dataframe tbody tr th {\n",
       "        vertical-align: top;\n",
       "    }\n",
       "\n",
       "    .dataframe thead th {\n",
       "        text-align: right;\n",
       "    }\n",
       "</style>\n",
       "<table border=\"1\" class=\"dataframe\">\n",
       "  <thead>\n",
       "    <tr style=\"text-align: right;\">\n",
       "      <th></th>\n",
       "      <th>id</th>\n",
       "      <th>description</th>\n",
       "    </tr>\n",
       "  </thead>\n",
       "  <tbody>\n",
       "    <tr>\n",
       "      <th>0</th>\n",
       "      <td>04c411</td>\n",
       "      <td>a starlit night over snow-covered peaks</td>\n",
       "    </tr>\n",
       "    <tr>\n",
       "      <th>1</th>\n",
       "      <td>215136</td>\n",
       "      <td>black and white checkered pants</td>\n",
       "    </tr>\n",
       "    <tr>\n",
       "      <th>2</th>\n",
       "      <td>3e2bc6</td>\n",
       "      <td>crimson rectangles forming a chaotic grid</td>\n",
       "    </tr>\n",
       "    <tr>\n",
       "      <th>3</th>\n",
       "      <td>61d7a8</td>\n",
       "      <td>burgundy corduroy pants with patch pockets and...</td>\n",
       "    </tr>\n",
       "    <tr>\n",
       "      <th>4</th>\n",
       "      <td>6f2ca7</td>\n",
       "      <td>orange corduroy overalls</td>\n",
       "    </tr>\n",
       "  </tbody>\n",
       "</table>\n",
       "</div>"
      ],
      "text/plain": [
       "       id                                        description\n",
       "0  04c411            a starlit night over snow-covered peaks\n",
       "1  215136                    black and white checkered pants\n",
       "2  3e2bc6          crimson rectangles forming a chaotic grid\n",
       "3  61d7a8  burgundy corduroy pants with patch pockets and...\n",
       "4  6f2ca7                           orange corduroy overalls"
      ]
     },
     "execution_count": 50,
     "metadata": {},
     "output_type": "execute_result"
    }
   ],
   "source": [
    "import kagglehub\n",
    "import pandas as pd\n",
    "\n",
    "train_path = kagglehub.competition_download('drawing-with-llms', 'train.csv')\n",
    "train = pd.read_csv(train_path)\n",
    "\n",
    "train.head()"
   ]
  },
  {
   "cell_type": "code",
   "execution_count": 51,
   "id": "b8ecf579-aef1-4f5c-8ec8-22893780479b",
   "metadata": {},
   "outputs": [],
   "source": [
    "import openai\n",
    "import pandas as pd\n",
    "import time\n",
    "import os\n",
    "from dotenv import load_dotenv\n",
    "load_dotenv()\n",
    "openai_api_key = os.getenv(\"OPENAI_API_KEY\")"
   ]
  },
  {
   "cell_type": "code",
   "execution_count": 52,
   "id": "16c53cf3-524f-42cb-acbb-cc765759cfe4",
   "metadata": {},
   "outputs": [],
   "source": [
    "# Set up OpenAI client with your API key\n",
    "client = openai.OpenAI(api_key=openai_api_key)\n",
    "\n",
    "# Function to get summary from OpenAI API\n",
    "def get_summary(text):\n",
    "    instruction = f\"\"\"Generate SVG code to visually represent the following text description, while respecting the given constraints.\n",
    "    \n",
    "    <constraints>\n",
    "    * **Allowed Elements:** `svg`, `path`, `circle`, `rect`, `ellipse`, `line`, `polyline`, `polygon`, `g`, `linearGradient`, `radialGradient`, `stop`, `defs`\n",
    "    * **Allowed Attributes:** `viewBox`, `width`, `height`, `fill`, `stroke`, `stroke-width`, `d`, `cx`, `cy`, `r`, `x`, `y`, `rx`, `ry`, `x1`, `y1`, `x2`, `y2`, `points`, `transform`, `opacity`\n",
    "    </constraints>\n",
    "\n",
    "    <example>\n",
    "    <description>\"A red circle with a blue square inside\"</description>\n",
    "    ```svg\n",
    "    <svg viewBox=\"0 0 256 256\" width=\"256\" height=\"256\">\n",
    "      <circle cx=\"50\" cy=\"50\" r=\"40\" fill=\"red\"/>\n",
    "      <rect x=\"30\" y=\"30\" width=\"40\" height=\"40\" fill=\"blue\"/>\n",
    "    </svg>\n",
    "    ```\n",
    "    </example>\n",
    "\n",
    "    Please ensure that the generated SVG code is well-formed, valid, and strictly adheres to these constraints.\n",
    "    Focus on a clear and concise representation of the input description within the given limitations. \n",
    "    Always provide the complete SVG code with nothing omitted. Never use an ellipsis.\n",
    "\n",
    "    <description>\"{text}\"</description>\n",
    "    \"\"\"\n",
    "\n",
    "    try:\n",
    "        response = client.chat.completions.create(\n",
    "            model=\"gpt-3.5-turbo\",\n",
    "            messages=[\n",
    "                {\"role\": \"system\", \"content\": \"Generate an SVG code with the given instruction.\"},\n",
    "                {\"role\": \"user\", \"content\": instruction}\n",
    "            ],\n",
    "            temperature=0.5,\n",
    "            max_tokens=1024\n",
    "        )\n",
    "        return response.choices[0].message.content.strip()\n",
    "    \n",
    "    except Exception as e:\n",
    "        print(f\"Error: {e}\")\n",
    "        return None\n"
   ]
  },
  {
   "cell_type": "code",
   "execution_count": 53,
   "id": "d441407f-8e90-4ab1-b5c3-7b7537069027",
   "metadata": {},
   "outputs": [
    {
     "name": "stderr",
     "output_type": "stream",
     "text": [
      "100%|███████████████████████████████████████████| 15/15 [00:35<00:00,  2.37s/it]\n"
     ]
    }
   ],
   "source": [
    "from tqdm.auto import tqdm\n",
    "\n",
    "tqdm.pandas()  # Enable progress bar for pandas\n",
    "train[\"svg_code\"] = train[\"description\"].progress_apply(get_summary)"
   ]
  },
  {
   "cell_type": "code",
   "execution_count": 54,
   "id": "f8f8280d-6e93-421a-aa3c-f15c42924e71",
   "metadata": {},
   "outputs": [],
   "source": [
    "train['svg_code'] = train['svg_code'].str.replace(r\"```svg\\n|```\", \"\", regex=True)"
   ]
  },
  {
   "cell_type": "code",
   "execution_count": 55,
   "id": "811550eb-2369-4924-9c5c-ad7096476b63",
   "metadata": {},
   "outputs": [
    {
     "data": {
      "text/html": [
       "<div>\n",
       "<style scoped>\n",
       "    .dataframe tbody tr th:only-of-type {\n",
       "        vertical-align: middle;\n",
       "    }\n",
       "\n",
       "    .dataframe tbody tr th {\n",
       "        vertical-align: top;\n",
       "    }\n",
       "\n",
       "    .dataframe thead th {\n",
       "        text-align: right;\n",
       "    }\n",
       "</style>\n",
       "<table border=\"1\" class=\"dataframe\">\n",
       "  <thead>\n",
       "    <tr style=\"text-align: right;\">\n",
       "      <th></th>\n",
       "      <th>id</th>\n",
       "      <th>description</th>\n",
       "      <th>svg_code</th>\n",
       "    </tr>\n",
       "  </thead>\n",
       "  <tbody>\n",
       "    <tr>\n",
       "      <th>0</th>\n",
       "      <td>04c411</td>\n",
       "      <td>a starlit night over snow-covered peaks</td>\n",
       "      <td>&lt;svg viewBox=\"0 0 256 256\" width=\"256\" height=...</td>\n",
       "    </tr>\n",
       "    <tr>\n",
       "      <th>1</th>\n",
       "      <td>215136</td>\n",
       "      <td>black and white checkered pants</td>\n",
       "      <td>&lt;svg viewBox=\"0 0 100 100\" width=\"100\" height=...</td>\n",
       "    </tr>\n",
       "    <tr>\n",
       "      <th>2</th>\n",
       "      <td>3e2bc6</td>\n",
       "      <td>crimson rectangles forming a chaotic grid</td>\n",
       "      <td>&lt;svg viewBox=\"0 0 256 256\" width=\"256\" height=...</td>\n",
       "    </tr>\n",
       "    <tr>\n",
       "      <th>3</th>\n",
       "      <td>61d7a8</td>\n",
       "      <td>burgundy corduroy pants with patch pockets and...</td>\n",
       "      <td>&lt;svg viewBox=\"0 0 200 200\" width=\"200\" height=...</td>\n",
       "    </tr>\n",
       "    <tr>\n",
       "      <th>4</th>\n",
       "      <td>6f2ca7</td>\n",
       "      <td>orange corduroy overalls</td>\n",
       "      <td>&lt;svg viewBox=\"0 0 100 100\" width=\"100\" height=...</td>\n",
       "    </tr>\n",
       "    <tr>\n",
       "      <th>5</th>\n",
       "      <td>8066ae</td>\n",
       "      <td>a lighthouse overlooking the ocean</td>\n",
       "      <td>&lt;svg viewBox=\"0 0 256 256\" width=\"256\" height=...</td>\n",
       "    </tr>\n",
       "    <tr>\n",
       "      <th>6</th>\n",
       "      <td>828a8f</td>\n",
       "      <td>a green lagoon under a cloudy sky</td>\n",
       "      <td>&lt;svg viewBox=\"0 0 256 256\" width=\"256\" height=...</td>\n",
       "    </tr>\n",
       "    <tr>\n",
       "      <th>7</th>\n",
       "      <td>98f11f</td>\n",
       "      <td>a snowy plain</td>\n",
       "      <td>&lt;svg viewBox=\"0 0 256 256\" width=\"256\" height=...</td>\n",
       "    </tr>\n",
       "    <tr>\n",
       "      <th>8</th>\n",
       "      <td>9ce3c4</td>\n",
       "      <td>a maroon dodecahedron interwoven with teal thr...</td>\n",
       "      <td>&lt;svg viewBox=\"0 0 100 100\" width=\"100\" height=...</td>\n",
       "    </tr>\n",
       "    <tr>\n",
       "      <th>9</th>\n",
       "      <td>a9ecbb</td>\n",
       "      <td>a purple silk scarf with tassel trim</td>\n",
       "      <td>&lt;svg viewBox=\"0 0 200 200\" width=\"200\" height=...</td>\n",
       "    </tr>\n",
       "    <tr>\n",
       "      <th>10</th>\n",
       "      <td>bf3306</td>\n",
       "      <td>magenta trapezoids layered on a transluscent s...</td>\n",
       "      <td>&lt;svg viewBox=\"0 0 200 200\" width=\"200\" height=...</td>\n",
       "    </tr>\n",
       "    <tr>\n",
       "      <th>11</th>\n",
       "      <td>e2240f</td>\n",
       "      <td>gray wool coat with a faux fur collar</td>\n",
       "      <td>&lt;svg viewBox=\"0 0 200 200\" width=\"200\" height=...</td>\n",
       "    </tr>\n",
       "    <tr>\n",
       "      <th>12</th>\n",
       "      <td>f02e39</td>\n",
       "      <td>a purple forest at dusk</td>\n",
       "      <td>&lt;svg viewBox=\"0 0 256 256\" width=\"256\" height=...</td>\n",
       "    </tr>\n",
       "    <tr>\n",
       "      <th>13</th>\n",
       "      <td>f6790a</td>\n",
       "      <td>purple pyramids spiraling around a bronze cone</td>\n",
       "      <td>&lt;svg viewBox=\"0 0 256 256\" width=\"256\" height=...</td>\n",
       "    </tr>\n",
       "    <tr>\n",
       "      <th>14</th>\n",
       "      <td>f9edd5</td>\n",
       "      <td>khaki triangles and azure crescents</td>\n",
       "      <td>&lt;svg viewBox=\"0 0 256 256\" width=\"256\" height=...</td>\n",
       "    </tr>\n",
       "  </tbody>\n",
       "</table>\n",
       "</div>"
      ],
      "text/plain": [
       "        id                                        description  \\\n",
       "0   04c411            a starlit night over snow-covered peaks   \n",
       "1   215136                    black and white checkered pants   \n",
       "2   3e2bc6          crimson rectangles forming a chaotic grid   \n",
       "3   61d7a8  burgundy corduroy pants with patch pockets and...   \n",
       "4   6f2ca7                           orange corduroy overalls   \n",
       "5   8066ae                 a lighthouse overlooking the ocean   \n",
       "6   828a8f                  a green lagoon under a cloudy sky   \n",
       "7   98f11f                                      a snowy plain   \n",
       "8   9ce3c4  a maroon dodecahedron interwoven with teal thr...   \n",
       "9   a9ecbb               a purple silk scarf with tassel trim   \n",
       "10  bf3306  magenta trapezoids layered on a transluscent s...   \n",
       "11  e2240f              gray wool coat with a faux fur collar   \n",
       "12  f02e39                            a purple forest at dusk   \n",
       "13  f6790a     purple pyramids spiraling around a bronze cone   \n",
       "14  f9edd5                khaki triangles and azure crescents   \n",
       "\n",
       "                                             svg_code  \n",
       "0   <svg viewBox=\"0 0 256 256\" width=\"256\" height=...  \n",
       "1   <svg viewBox=\"0 0 100 100\" width=\"100\" height=...  \n",
       "2   <svg viewBox=\"0 0 256 256\" width=\"256\" height=...  \n",
       "3   <svg viewBox=\"0 0 200 200\" width=\"200\" height=...  \n",
       "4   <svg viewBox=\"0 0 100 100\" width=\"100\" height=...  \n",
       "5   <svg viewBox=\"0 0 256 256\" width=\"256\" height=...  \n",
       "6   <svg viewBox=\"0 0 256 256\" width=\"256\" height=...  \n",
       "7   <svg viewBox=\"0 0 256 256\" width=\"256\" height=...  \n",
       "8   <svg viewBox=\"0 0 100 100\" width=\"100\" height=...  \n",
       "9   <svg viewBox=\"0 0 200 200\" width=\"200\" height=...  \n",
       "10  <svg viewBox=\"0 0 200 200\" width=\"200\" height=...  \n",
       "11  <svg viewBox=\"0 0 200 200\" width=\"200\" height=...  \n",
       "12  <svg viewBox=\"0 0 256 256\" width=\"256\" height=...  \n",
       "13  <svg viewBox=\"0 0 256 256\" width=\"256\" height=...  \n",
       "14  <svg viewBox=\"0 0 256 256\" width=\"256\" height=...  "
      ]
     },
     "execution_count": 55,
     "metadata": {},
     "output_type": "execute_result"
    }
   ],
   "source": [
    "train"
   ]
  },
  {
   "cell_type": "code",
   "execution_count": 56,
   "id": "72d81c66-e911-49c4-906b-08a1130ce0cd",
   "metadata": {},
   "outputs": [
    {
     "data": {
      "image/svg+xml": [
       "<svg viewBox=\"0 0 256 256\" width=\"256\" height=\"256\">\n",
       "  <defs>\n",
       "    <radialGradient id=\"starGradient\" cx=\"50%\" cy=\"50%\" r=\"50%\" fx=\"50%\" fy=\"50%\">\n",
       "      <stop offset=\"0%\" style=\"stop-color: #ffffff; stop-opacity: 1\"/>\n",
       "      <stop offset=\"100%\" style=\"stop-color: #ffff00; stop-opacity: 1\"/>\n",
       "    </radialGradient>\n",
       "  </defs>\n",
       "  <rect x=\"0\" y=\"0\" width=\"256\" height=\"256\" fill=\"midnightblue\"/>\n",
       "  <polygon points=\"128,32 147,90 206,90 156,131 176,189 128,150 80,189 100,131 50,90 109,90\" fill=\"url(#starGradient)\" transform=\"translate(0, 30)\"/>\n",
       "  <polygon points=\"128,32 147,90 206,90 156,131 176,189 128,150 80,189 100,131 50,90 109,90\" fill=\"none\" stroke=\"white\" stroke-width=\"2\" transform=\"translate(0, 30)\"/>\n",
       "  <polygon points=\"128,32 147,90 206,90 156,131 176,189 128,150 80,189 100,131 50,90 109,90\" fill=\"none\" stroke=\"black\" stroke-width=\"1\" transform=\"translate(0, 30)\"/>\n",
       "</svg>"
      ],
      "text/plain": [
       "<IPython.core.display.SVG object>"
      ]
     },
     "metadata": {},
     "output_type": "display_data"
    },
    {
     "data": {
      "image/svg+xml": [
       "<svg viewBox=\"0 0 100 100\" width=\"100\" height=\"100\">\n",
       "  <rect x=\"0\" y=\"0\" width=\"50\" height=\"50\" fill=\"black\"/>\n",
       "  <rect x=\"50\" y=\"0\" width=\"50\" height=\"50\" fill=\"white\"/>\n",
       "  <rect x=\"0\" y=\"50\" width=\"50\" height=\"50\" fill=\"white\"/>\n",
       "  <rect x=\"50\" y=\"50\" width=\"50\" height=\"50\" fill=\"black\"/>\n",
       "</svg>"
      ],
      "text/plain": [
       "<IPython.core.display.SVG object>"
      ]
     },
     "metadata": {},
     "output_type": "display_data"
    },
    {
     "data": {
      "image/svg+xml": [
       "<svg viewBox=\"0 0 256 256\" width=\"256\" height=\"256\">\n",
       "  <rect x=\"0\" y=\"0\" width=\"85\" height=\"85\" fill=\"crimson\"/>\n",
       "  <rect x=\"85\" y=\"0\" width=\"85\" height=\"85\" fill=\"crimson\"/>\n",
       "  <rect x=\"170\" y=\"0\" width=\"85\" height=\"85\" fill=\"crimson\"/>\n",
       "  <rect x=\"0\" y=\"85\" width=\"85\" height=\"85\" fill=\"crimson\"/>\n",
       "  <rect x=\"85\" y=\"85\" width=\"85\" height=\"85\" fill=\"crimson\"/>\n",
       "  <rect x=\"170\" y=\"85\" width=\"85\" height=\"85\" fill=\"crimson\"/>\n",
       "  <rect x=\"0\" y=\"170\" width=\"85\" height=\"85\" fill=\"crimson\"/>\n",
       "  <rect x=\"85\" y=\"170\" width=\"85\" height=\"85\" fill=\"crimson\"/>\n",
       "  <rect x=\"170\" y=\"170\" width=\"85\" height=\"85\" fill=\"crimson\"/>\n",
       "</svg>"
      ],
      "text/plain": [
       "<IPython.core.display.SVG object>"
      ]
     },
     "metadata": {},
     "output_type": "display_data"
    },
    {
     "data": {
      "image/svg+xml": [
       "<svg viewBox=\"0 0 200 200\" width=\"200\" height=\"200\">\n",
       "  <rect x=\"50\" y=\"50\" width=\"100\" height=\"120\" fill=\"#800020\"/>\n",
       "  <rect x=\"60\" y=\"70\" width=\"80\" height=\"40\" fill=\"#708090\"/>\n",
       "  <circle cx=\"70\" cy=\"120\" r=\"5\" fill=\"#C0C0C0\"/>\n",
       "  <circle cx=\"130\" cy=\"120\" r=\"5\" fill=\"#C0C0C0\"/>\n",
       "</svg>"
      ],
      "text/plain": [
       "<IPython.core.display.SVG object>"
      ]
     },
     "metadata": {},
     "output_type": "display_data"
    },
    {
     "data": {
      "image/svg+xml": [
       "<svg viewBox=\"0 0 100 100\" width=\"100\" height=\"100\">\n",
       "  <rect x=\"20\" y=\"10\" width=\"60\" height=\"40\" fill=\"orange\"/>\n",
       "  <rect x=\"25\" y=\"30\" width=\"50\" height=\"60\" fill=\"peru\"/>\n",
       "</svg>"
      ],
      "text/plain": [
       "<IPython.core.display.SVG object>"
      ]
     },
     "metadata": {},
     "output_type": "display_data"
    },
    {
     "data": {
      "image/svg+xml": [
       "<svg viewBox=\"0 0 256 256\" width=\"256\" height=\"256\">\n",
       "  <!-- Ocean -->\n",
       "  <rect x=\"0\" y=\"128\" width=\"256\" height=\"128\" fill=\"#4FA9FF\"/>\n",
       "\n",
       "  <!-- Lighthouse Base -->\n",
       "  <rect x=\"80\" y=\"80\" width=\"96\" height=\"128\" fill=\"#BEBEBE\"/>\n",
       "\n",
       "  <!-- Lighthouse Top -->\n",
       "  <polygon points=\"80,80 176,80 128,32\" fill=\"#FFD700\"/>\n",
       "\n",
       "  <!-- Lighthouse Light -->\n",
       "  <circle cx=\"128\" cy=\"48\" r=\"8\" fill=\"#FFD700\"/>\n",
       "</svg>"
      ],
      "text/plain": [
       "<IPython.core.display.SVG object>"
      ]
     },
     "metadata": {},
     "output_type": "display_data"
    },
    {
     "data": {
      "image/svg+xml": [
       "<svg viewBox=\"0 0 256 256\" width=\"256\" height=\"256\">\n",
       "  <!-- Cloudy Sky -->\n",
       "  <rect x=\"0\" y=\"0\" width=\"256\" height=\"170\" fill=\"#c8d7e6\"/>\n",
       "  <!-- Clouds -->\n",
       "  <circle cx=\"40\" cy=\"40\" r=\"20\" fill=\"#ffffff\"/>\n",
       "  <circle cx=\"80\" cy=\"30\" r=\"25\" fill=\"#ffffff\"/>\n",
       "  <circle cx=\"120\" cy=\"50\" r=\"18\" fill=\"#ffffff\"/>\n",
       "  <circle cx=\"170\" cy=\"40\" r=\"22\" fill=\"#ffffff\"/>\n",
       "  <!-- Green Lagoon -->\n",
       "  <rect x=\"0\" y=\"170\" width=\"256\" height=\"86\" fill=\"#6ab04c\"/>\n",
       "</svg>"
      ],
      "text/plain": [
       "<IPython.core.display.SVG object>"
      ]
     },
     "metadata": {},
     "output_type": "display_data"
    },
    {
     "data": {
      "image/svg+xml": [
       "<svg viewBox=\"0 0 256 256\" width=\"256\" height=\"256\">\n",
       "  <rect x=\"0\" y=\"0\" width=\"256\" height=\"256\" fill=\"white\"/>\n",
       "</svg>"
      ],
      "text/plain": [
       "<IPython.core.display.SVG object>"
      ]
     },
     "metadata": {},
     "output_type": "display_data"
    },
    {
     "data": {
      "image/svg+xml": [
       "<svg viewBox=\"0 0 100 100\" width=\"100\" height=\"100\">\n",
       "  <defs>\n",
       "    <linearGradient id=\"tealGradient\" x1=\"0%\" y1=\"0%\" x2=\"100%\" y2=\"100%\">\n",
       "      <stop offset=\"0%\" style=\"stop-color:teal;stop-opacity:1\"/>\n",
       "      <stop offset=\"100%\" style=\"stop-color:teal;stop-opacity:0\"/>\n",
       "    </linearGradient>\n",
       "  </defs>\n",
       "  <g transform=\"translate(50,50)\">\n",
       "    <polygon points=\"50,5 95,20 95,70 50,95 5,70 5,20\" fill=\"maroon\"/>\n",
       "    <polygon points=\"50,5 50,95 95,70\" fill=\"url(#tealGradient)\"/>\n",
       "    <polygon points=\"50,5 5,20 50,95\" fill=\"url(#tealGradient)\"/>\n",
       "    <polygon points=\"5,20 50,5 95,20\" fill=\"url(#tealGradient)\"/>\n",
       "    <polygon points=\"95,20 95,70 50,95\" fill=\"url(#tealGradient)\"/>\n",
       "    <polygon points=\"50,95 5,70 5,20\" fill=\"url(#tealGradient)\"/>\n",
       "  </g>\n",
       "</svg>"
      ],
      "text/plain": [
       "<IPython.core.display.SVG object>"
      ]
     },
     "metadata": {},
     "output_type": "display_data"
    },
    {
     "data": {
      "image/svg+xml": [
       "<svg viewBox=\"0 0 200 200\" width=\"200\" height=\"200\">\n",
       "  <path d=\"M100,20 C70,40 70,60 100,80 C130,60 130,40 100,20\" fill=\"purple\"/>\n",
       "  <path d=\"M90,80 L110,80 L100,120 Z\" fill=\"tan\"/>\n",
       "  <line x1=\"100\" y1=\"80\" x2=\"100\" y2=\"120\" stroke=\"black\" stroke-width=\"2\"/>\n",
       "</svg>"
      ],
      "text/plain": [
       "<IPython.core.display.SVG object>"
      ]
     },
     "metadata": {},
     "output_type": "display_data"
    },
    {
     "data": {
      "image/svg+xml": [
       "<svg viewBox=\"0 0 200 200\" width=\"200\" height=\"200\">\n",
       "  <defs>\n",
       "    <linearGradient id=\"grad1\" x1=\"0%\" y1=\"0%\" x2=\"100%\" y2=\"0%\">\n",
       "      <stop offset=\"0%\" style=\"stop-color:magenta;stop-opacity:1\"/>\n",
       "      <stop offset=\"100%\" style=\"stop-color:silver;stop-opacity:0.5\"/>\n",
       "    </linearGradient>\n",
       "  </defs>\n",
       "  <polygon points=\"10,10 190,10 150,190 50,190\" fill=\"url(#grad1)\"/>\n",
       "  <polygon points=\"30,30 170,30 130,170 70,170\" fill=\"url(#grad1)\"/>\n",
       "</svg>"
      ],
      "text/plain": [
       "<IPython.core.display.SVG object>"
      ]
     },
     "metadata": {},
     "output_type": "display_data"
    },
    {
     "data": {
      "image/svg+xml": [
       "<svg viewBox=\"0 0 200 200\" width=\"200\" height=\"200\">\n",
       "  <rect x=\"30\" y=\"30\" width=\"140\" height=\"160\" fill=\"gray\"/>\n",
       "  <rect x=\"50\" y=\"30\" width=\"100\" height=\"50\" fill=\"white\"/>\n",
       "</svg>"
      ],
      "text/plain": [
       "<IPython.core.display.SVG object>"
      ]
     },
     "metadata": {},
     "output_type": "display_data"
    },
    {
     "data": {
      "image/svg+xml": [
       "<svg viewBox=\"0 0 256 256\" width=\"256\" height=\"256\">\n",
       "  <!-- sky -->\n",
       "  <rect x=\"0\" y=\"0\" width=\"256\" height=\"256\" fill=\"#6a287e\"/>\n",
       "  \n",
       "  <!-- sun -->\n",
       "  <circle cx=\"200\" cy=\"50\" r=\"30\" fill=\"#f9a602\"/>\n",
       "  \n",
       "  <!-- trees -->\n",
       "  <rect x=\"50\" y=\"120\" width=\"20\" height=\"80\" fill=\"#4f2d1f\"/>\n",
       "  <rect x=\"80\" y=\"100\" width=\"20\" height=\"100\" fill=\"#4f2d1f\"/>\n",
       "  <rect x=\"110\" y=\"130\" width=\"20\" height=\"70\" fill=\"#4f2d1f\"/>\n",
       "  <rect x=\"140\" y=\"110\" width=\"20\" height=\"90\" fill=\"#4f2d1f\"/>\n",
       "  <rect x=\"170\" y=\"120\" width=\"20\" height=\"80\" fill=\"#4f2d1f\"/>\n",
       "</svg>"
      ],
      "text/plain": [
       "<IPython.core.display.SVG object>"
      ]
     },
     "metadata": {},
     "output_type": "display_data"
    },
    {
     "data": {
      "image/svg+xml": [
       "<svg viewBox=\"0 0 256 256\" width=\"256\" height=\"256\">\n",
       "  <defs>\n",
       "    <linearGradient id=\"grad1\" x1=\"0%\" y1=\"0%\" x2=\"100%\" y2=\"100%\">\n",
       "      <stop offset=\"0%\" style=\"stop-color:purple;stop-opacity:1\"/>\n",
       "      <stop offset=\"100%\" style=\"stop-color:bronze;stop-opacity:1\"/>\n",
       "    </linearGradient>\n",
       "  </defs>\n",
       "  <circle cx=\"128\" cy=\"128\" r=\"100\" fill=\"url(#grad1)\"/>\n",
       "  <polygon points=\"128,28 178,78 128,128 78,78\" fill=\"url(#grad1)\"/>\n",
       "  <polygon points=\"128,28 128,128 78,78\" fill=\"url(#grad1)\" transform=\"rotate(120 128 128)\"/>\n",
       "  <polygon points=\"128,28 128,128 78,78\" fill=\"url(#grad1)\" transform=\"rotate(240 128 128)\"/>\n",
       "</svg>"
      ],
      "text/plain": [
       "<IPython.core.display.SVG object>"
      ]
     },
     "metadata": {},
     "output_type": "display_data"
    },
    {
     "data": {
      "image/svg+xml": [
       "<svg viewBox=\"0 0 256 256\" width=\"256\" height=\"256\">\n",
       "  <defs>\n",
       "    <linearGradient id=\"khakiGradient\" x1=\"0%\" y1=\"0%\" x2=\"100%\" y2=\"100%\">\n",
       "      <stop offset=\"0%\" stop-color=\"khaki\"/>\n",
       "      <stop offset=\"100%\" stop-color=\"khaki\"/>\n",
       "    </linearGradient>\n",
       "    <linearGradient id=\"azureGradient\" x1=\"0%\" y1=\"0%\" x2=\"100%\" y2=\"100%\">\n",
       "      <stop offset=\"0%\" stop-color=\"azure\"/>\n",
       "      <stop offset=\"100%\" stop-color=\"azure\"/>\n",
       "    </linearGradient>\n",
       "  </defs>\n",
       "  <polygon points=\"128,10 246,118 10,118\" fill=\"url(#khakiGradient)\"/>\n",
       "  <path d=\"M 128 10 Q 200 70 128 130 Q 56 70 128 10 Z\" fill=\"url(#azureGradient)\"/>\n",
       "</svg>"
      ],
      "text/plain": [
       "<IPython.core.display.SVG object>"
      ]
     },
     "metadata": {},
     "output_type": "display_data"
    }
   ],
   "source": [
    "# We can play with our Model and render its SVG output (don't export!)\n",
    "from IPython.display import SVG, display\n",
    "for svg in train[\"svg_code\"]:\n",
    "    #print(svg)\n",
    "    display(SVG(svg))"
   ]
  },
  {
   "cell_type": "code",
   "execution_count": 57,
   "id": "3035ccdc-64fc-4d02-9d7f-7b5dd33007c9",
   "metadata": {},
   "outputs": [],
   "source": [
    "from transformers import AutoProcessor, AutoModel\n",
    "model = AutoModel.from_pretrained(\"google/siglip-so400m-patch14-384\")\n",
    "processor = AutoProcessor.from_pretrained(\"google/siglip-so400m-patch14-384\")"
   ]
  },
  {
   "cell_type": "code",
   "execution_count": 79,
   "id": "78346aa9-4dcf-48d0-898d-39715647c12e",
   "metadata": {},
   "outputs": [],
   "source": [
    "import torch\n",
    "from PIL import Image\n",
    "import cairosvg\n",
    "import os\n",
    "\n",
    "def svgMetric(prompt, svg):\n",
    "    try:\n",
    "        # Convert SVG to PNG\n",
    "        cairosvg.svg2png(svg, write_to=\"./tmp/temp.png\")\n",
    "        \n",
    "        # Open and process the image\n",
    "        image = Image.open('./tmp/temp.png').convert(\"RGB\")\n",
    "        texts = [\"SVG illustration of \" + prompt]\n",
    "        inputs = processor(text=texts, images=image, padding=\"max_length\", return_tensors=\"pt\")\n",
    "        \n",
    "        # Inference without gradient tracking\n",
    "        with torch.no_grad():\n",
    "            outputs = model(**inputs)\n",
    "        \n",
    "        logits_per_image = outputs.logits_per_image\n",
    "        probs = torch.sigmoid(logits_per_image)\n",
    "        \n",
    "        # Clean up temporary PNG file\n",
    "        #os.remove('./tmp/temp.png')\n",
    "        \n",
    "        return probs[0][0].item()\n",
    "\n",
    "    \n",
    "    except Exception as e:\n",
    "        print(f\"An error occurred: {e}\")\n",
    "        return None\n",
    "\n",
    "\n"
   ]
  },
  {
   "cell_type": "code",
   "execution_count": 83,
   "id": "29c16f67-6d5e-44f3-a9aa-0c17cc28c687",
   "metadata": {},
   "outputs": [
    {
     "name": "stdout",
     "output_type": "stream",
     "text": [
      "mean open-ai score: 0.2936446070079304\n"
     ]
    }
   ],
   "source": [
    "# Using apply to process each row in the DataFrame\n",
    "train['score'] = train.apply(lambda row: svgMetric(row['description'], row['svg_code']), axis=1)\n"
   ]
  },
  {
   "cell_type": "code",
   "execution_count": 85,
   "id": "c40e235a-6b76-44a8-8e12-d811e3e40a3e",
   "metadata": {},
   "outputs": [
    {
     "name": "stdout",
     "output_type": "stream",
     "text": [
      "mean gpt-3.5-turbo score: 0.2936446070079304\n"
     ]
    }
   ],
   "source": [
    "# Display results\n",
    "#print(train[['description', 'score']])\n",
    "print('mean gpt-3.5-turbo score:',train['score'].mean())"
   ]
  },
  {
   "cell_type": "code",
   "execution_count": 86,
   "id": "9e481c7b-16b5-46f3-8760-2523ca3c2e0e",
   "metadata": {},
   "outputs": [
    {
     "data": {
      "text/html": [
       "<div>\n",
       "<style scoped>\n",
       "    .dataframe tbody tr th:only-of-type {\n",
       "        vertical-align: middle;\n",
       "    }\n",
       "\n",
       "    .dataframe tbody tr th {\n",
       "        vertical-align: top;\n",
       "    }\n",
       "\n",
       "    .dataframe thead th {\n",
       "        text-align: right;\n",
       "    }\n",
       "</style>\n",
       "<table border=\"1\" class=\"dataframe\">\n",
       "  <thead>\n",
       "    <tr style=\"text-align: right;\">\n",
       "      <th></th>\n",
       "      <th>id</th>\n",
       "      <th>description</th>\n",
       "      <th>svg_code</th>\n",
       "      <th>Score</th>\n",
       "      <th>score</th>\n",
       "    </tr>\n",
       "  </thead>\n",
       "  <tbody>\n",
       "    <tr>\n",
       "      <th>0</th>\n",
       "      <td>04c411</td>\n",
       "      <td>a starlit night over snow-covered peaks</td>\n",
       "      <td>&lt;svg viewBox=\"0 0 256 256\" width=\"256\" height=...</td>\n",
       "      <td>0.000239</td>\n",
       "      <td>0.000239</td>\n",
       "    </tr>\n",
       "    <tr>\n",
       "      <th>1</th>\n",
       "      <td>215136</td>\n",
       "      <td>black and white checkered pants</td>\n",
       "      <td>&lt;svg viewBox=\"0 0 100 100\" width=\"100\" height=...</td>\n",
       "      <td>0.007646</td>\n",
       "      <td>0.007646</td>\n",
       "    </tr>\n",
       "    <tr>\n",
       "      <th>2</th>\n",
       "      <td>3e2bc6</td>\n",
       "      <td>crimson rectangles forming a chaotic grid</td>\n",
       "      <td>&lt;svg viewBox=\"0 0 256 256\" width=\"256\" height=...</td>\n",
       "      <td>0.007120</td>\n",
       "      <td>0.007120</td>\n",
       "    </tr>\n",
       "    <tr>\n",
       "      <th>3</th>\n",
       "      <td>61d7a8</td>\n",
       "      <td>burgundy corduroy pants with patch pockets and...</td>\n",
       "      <td>&lt;svg viewBox=\"0 0 200 200\" width=\"200\" height=...</td>\n",
       "      <td>0.008671</td>\n",
       "      <td>0.008671</td>\n",
       "    </tr>\n",
       "    <tr>\n",
       "      <th>4</th>\n",
       "      <td>6f2ca7</td>\n",
       "      <td>orange corduroy overalls</td>\n",
       "      <td>&lt;svg viewBox=\"0 0 100 100\" width=\"100\" height=...</td>\n",
       "      <td>0.000078</td>\n",
       "      <td>0.000078</td>\n",
       "    </tr>\n",
       "    <tr>\n",
       "      <th>5</th>\n",
       "      <td>8066ae</td>\n",
       "      <td>a lighthouse overlooking the ocean</td>\n",
       "      <td>&lt;svg viewBox=\"0 0 256 256\" width=\"256\" height=...</td>\n",
       "      <td>0.007294</td>\n",
       "      <td>0.007294</td>\n",
       "    </tr>\n",
       "    <tr>\n",
       "      <th>6</th>\n",
       "      <td>828a8f</td>\n",
       "      <td>a green lagoon under a cloudy sky</td>\n",
       "      <td>&lt;svg viewBox=\"0 0 256 256\" width=\"256\" height=...</td>\n",
       "      <td>0.512742</td>\n",
       "      <td>0.512742</td>\n",
       "    </tr>\n",
       "    <tr>\n",
       "      <th>7</th>\n",
       "      <td>98f11f</td>\n",
       "      <td>a snowy plain</td>\n",
       "      <td>&lt;svg viewBox=\"0 0 256 256\" width=\"256\" height=...</td>\n",
       "      <td>0.000411</td>\n",
       "      <td>0.000411</td>\n",
       "    </tr>\n",
       "    <tr>\n",
       "      <th>8</th>\n",
       "      <td>9ce3c4</td>\n",
       "      <td>a maroon dodecahedron interwoven with teal thr...</td>\n",
       "      <td>&lt;svg viewBox=\"0 0 100 100\" width=\"100\" height=...</td>\n",
       "      <td>0.471928</td>\n",
       "      <td>0.471928</td>\n",
       "    </tr>\n",
       "    <tr>\n",
       "      <th>9</th>\n",
       "      <td>a9ecbb</td>\n",
       "      <td>a purple silk scarf with tassel trim</td>\n",
       "      <td>&lt;svg viewBox=\"0 0 200 200\" width=\"200\" height=...</td>\n",
       "      <td>0.000041</td>\n",
       "      <td>0.000041</td>\n",
       "    </tr>\n",
       "    <tr>\n",
       "      <th>10</th>\n",
       "      <td>bf3306</td>\n",
       "      <td>magenta trapezoids layered on a transluscent s...</td>\n",
       "      <td>&lt;svg viewBox=\"0 0 200 200\" width=\"200\" height=...</td>\n",
       "      <td>0.999855</td>\n",
       "      <td>0.999855</td>\n",
       "    </tr>\n",
       "    <tr>\n",
       "      <th>11</th>\n",
       "      <td>e2240f</td>\n",
       "      <td>gray wool coat with a faux fur collar</td>\n",
       "      <td>&lt;svg viewBox=\"0 0 200 200\" width=\"200\" height=...</td>\n",
       "      <td>0.000842</td>\n",
       "      <td>0.000842</td>\n",
       "    </tr>\n",
       "    <tr>\n",
       "      <th>12</th>\n",
       "      <td>f02e39</td>\n",
       "      <td>a purple forest at dusk</td>\n",
       "      <td>&lt;svg viewBox=\"0 0 256 256\" width=\"256\" height=...</td>\n",
       "      <td>0.837263</td>\n",
       "      <td>0.837263</td>\n",
       "    </tr>\n",
       "    <tr>\n",
       "      <th>13</th>\n",
       "      <td>f6790a</td>\n",
       "      <td>purple pyramids spiraling around a bronze cone</td>\n",
       "      <td>&lt;svg viewBox=\"0 0 256 256\" width=\"256\" height=...</td>\n",
       "      <td>0.839371</td>\n",
       "      <td>0.839371</td>\n",
       "    </tr>\n",
       "    <tr>\n",
       "      <th>14</th>\n",
       "      <td>f9edd5</td>\n",
       "      <td>khaki triangles and azure crescents</td>\n",
       "      <td>&lt;svg viewBox=\"0 0 256 256\" width=\"256\" height=...</td>\n",
       "      <td>0.711169</td>\n",
       "      <td>0.711169</td>\n",
       "    </tr>\n",
       "  </tbody>\n",
       "</table>\n",
       "</div>"
      ],
      "text/plain": [
       "        id                                        description  \\\n",
       "0   04c411            a starlit night over snow-covered peaks   \n",
       "1   215136                    black and white checkered pants   \n",
       "2   3e2bc6          crimson rectangles forming a chaotic grid   \n",
       "3   61d7a8  burgundy corduroy pants with patch pockets and...   \n",
       "4   6f2ca7                           orange corduroy overalls   \n",
       "5   8066ae                 a lighthouse overlooking the ocean   \n",
       "6   828a8f                  a green lagoon under a cloudy sky   \n",
       "7   98f11f                                      a snowy plain   \n",
       "8   9ce3c4  a maroon dodecahedron interwoven with teal thr...   \n",
       "9   a9ecbb               a purple silk scarf with tassel trim   \n",
       "10  bf3306  magenta trapezoids layered on a transluscent s...   \n",
       "11  e2240f              gray wool coat with a faux fur collar   \n",
       "12  f02e39                            a purple forest at dusk   \n",
       "13  f6790a     purple pyramids spiraling around a bronze cone   \n",
       "14  f9edd5                khaki triangles and azure crescents   \n",
       "\n",
       "                                             svg_code     Score     score  \n",
       "0   <svg viewBox=\"0 0 256 256\" width=\"256\" height=...  0.000239  0.000239  \n",
       "1   <svg viewBox=\"0 0 100 100\" width=\"100\" height=...  0.007646  0.007646  \n",
       "2   <svg viewBox=\"0 0 256 256\" width=\"256\" height=...  0.007120  0.007120  \n",
       "3   <svg viewBox=\"0 0 200 200\" width=\"200\" height=...  0.008671  0.008671  \n",
       "4   <svg viewBox=\"0 0 100 100\" width=\"100\" height=...  0.000078  0.000078  \n",
       "5   <svg viewBox=\"0 0 256 256\" width=\"256\" height=...  0.007294  0.007294  \n",
       "6   <svg viewBox=\"0 0 256 256\" width=\"256\" height=...  0.512742  0.512742  \n",
       "7   <svg viewBox=\"0 0 256 256\" width=\"256\" height=...  0.000411  0.000411  \n",
       "8   <svg viewBox=\"0 0 100 100\" width=\"100\" height=...  0.471928  0.471928  \n",
       "9   <svg viewBox=\"0 0 200 200\" width=\"200\" height=...  0.000041  0.000041  \n",
       "10  <svg viewBox=\"0 0 200 200\" width=\"200\" height=...  0.999855  0.999855  \n",
       "11  <svg viewBox=\"0 0 200 200\" width=\"200\" height=...  0.000842  0.000842  \n",
       "12  <svg viewBox=\"0 0 256 256\" width=\"256\" height=...  0.837263  0.837263  \n",
       "13  <svg viewBox=\"0 0 256 256\" width=\"256\" height=...  0.839371  0.839371  \n",
       "14  <svg viewBox=\"0 0 256 256\" width=\"256\" height=...  0.711169  0.711169  "
      ]
     },
     "execution_count": 86,
     "metadata": {},
     "output_type": "execute_result"
    }
   ],
   "source": [
    "train"
   ]
  },
  {
   "cell_type": "code",
   "execution_count": null,
   "id": "a09b6a9e-5a97-4994-bf71-99f3b4f1ac6d",
   "metadata": {},
   "outputs": [],
   "source": []
  }
 ],
 "metadata": {
  "kaggle": {
   "accelerator": "none",
   "dataSources": [
    {
     "databundleVersionId": 11175052,
     "sourceId": 89659,
     "sourceType": "competition"
    }
   ],
   "isGpuEnabled": false,
   "isInternetEnabled": false,
   "language": "python",
   "sourceType": "notebook"
  },
  "kernelspec": {
   "display_name": "Python 3 (ipykernel)",
   "language": "python",
   "name": "python3"
  },
  "language_info": {
   "codemirror_mode": {
    "name": "ipython",
    "version": 3
   },
   "file_extension": ".py",
   "mimetype": "text/x-python",
   "name": "python",
   "nbconvert_exporter": "python",
   "pygments_lexer": "ipython3",
   "version": "3.11.11"
  },
  "papermill": {
   "default_parameters": {},
   "duration": 6.756759,
   "end_time": "2025-02-26T02:09:27.363350",
   "environment_variables": {},
   "exception": null,
   "input_path": "__notebook__.ipynb",
   "output_path": "__notebook__.ipynb",
   "parameters": {},
   "start_time": "2025-02-26T02:09:20.606591",
   "version": "2.6.0"
  }
 },
 "nbformat": 4,
 "nbformat_minor": 5
}
