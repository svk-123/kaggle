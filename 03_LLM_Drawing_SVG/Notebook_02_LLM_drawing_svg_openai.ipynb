{
 "cells": [
  {
   "cell_type": "markdown",
   "id": "f506feee-98f0-4106-a53a-ccbff09b3ce3",
   "metadata": {},
   "source": [
    "### https://www.kaggle.com/competitions/drawing-with-llms"
   ]
  },
  {
   "cell_type": "code",
   "execution_count": 21,
   "id": "e9062a4b-55ec-493c-a31e-f03a3489a374",
   "metadata": {},
   "outputs": [
    {
     "data": {
      "text/html": [
       "<div>\n",
       "<style scoped>\n",
       "    .dataframe tbody tr th:only-of-type {\n",
       "        vertical-align: middle;\n",
       "    }\n",
       "\n",
       "    .dataframe tbody tr th {\n",
       "        vertical-align: top;\n",
       "    }\n",
       "\n",
       "    .dataframe thead th {\n",
       "        text-align: right;\n",
       "    }\n",
       "</style>\n",
       "<table border=\"1\" class=\"dataframe\">\n",
       "  <thead>\n",
       "    <tr style=\"text-align: right;\">\n",
       "      <th></th>\n",
       "      <th>id</th>\n",
       "      <th>description</th>\n",
       "    </tr>\n",
       "  </thead>\n",
       "  <tbody>\n",
       "    <tr>\n",
       "      <th>0</th>\n",
       "      <td>04c411</td>\n",
       "      <td>a starlit night over snow-covered peaks</td>\n",
       "    </tr>\n",
       "    <tr>\n",
       "      <th>1</th>\n",
       "      <td>215136</td>\n",
       "      <td>black and white checkered pants</td>\n",
       "    </tr>\n",
       "    <tr>\n",
       "      <th>2</th>\n",
       "      <td>3e2bc6</td>\n",
       "      <td>crimson rectangles forming a chaotic grid</td>\n",
       "    </tr>\n",
       "    <tr>\n",
       "      <th>3</th>\n",
       "      <td>61d7a8</td>\n",
       "      <td>burgundy corduroy pants with patch pockets and...</td>\n",
       "    </tr>\n",
       "    <tr>\n",
       "      <th>4</th>\n",
       "      <td>6f2ca7</td>\n",
       "      <td>orange corduroy overalls</td>\n",
       "    </tr>\n",
       "  </tbody>\n",
       "</table>\n",
       "</div>"
      ],
      "text/plain": [
       "       id                                        description\n",
       "0  04c411            a starlit night over snow-covered peaks\n",
       "1  215136                    black and white checkered pants\n",
       "2  3e2bc6          crimson rectangles forming a chaotic grid\n",
       "3  61d7a8  burgundy corduroy pants with patch pockets and...\n",
       "4  6f2ca7                           orange corduroy overalls"
      ]
     },
     "execution_count": 21,
     "metadata": {},
     "output_type": "execute_result"
    }
   ],
   "source": [
    "import kagglehub\n",
    "import pandas as pd\n",
    "\n",
    "train_path = kagglehub.competition_download('drawing-with-llms', 'train.csv')\n",
    "train = pd.read_csv(train_path)\n",
    "\n",
    "train.head()"
   ]
  },
  {
   "cell_type": "code",
   "execution_count": 22,
   "id": "b8ecf579-aef1-4f5c-8ec8-22893780479b",
   "metadata": {},
   "outputs": [],
   "source": [
    "import openai\n",
    "import pandas as pd\n",
    "import time\n",
    "import os\n",
    "from dotenv import load_dotenv\n",
    "load_dotenv()\n",
    "openai_api_key = os.getenv(\"OPENAI_API_KEY\")"
   ]
  },
  {
   "cell_type": "code",
   "execution_count": 23,
   "id": "baea62a4-cee2-48c6-820c-e7975a56b904",
   "metadata": {},
   "outputs": [],
   "source": [
    "# Set up OpenAI client with your API key\n",
    "client = openai.OpenAI(api_key=openai_api_key)\n",
    "\n",
    "# Function to get summary from OpenAI API\n",
    "def get_rephrased(text):\n",
    "\n",
    "\n",
    "    try:\n",
    "        response = client.chat.completions.create(\n",
    "            model=\"gpt-3.5-turbo\",\n",
    "            messages=[\n",
    "                {\"role\": \"system\", \"content\": \"rephase the following context to generate a SVG image better\"},\n",
    "                {\"role\": \"user\", \"content\": text}\n",
    "            ],\n",
    "            temperature=0.5,\n",
    "            max_tokens=1024\n",
    "        )\n",
    "        return response.choices[0].message.content.strip()\n",
    "    \n",
    "    except Exception as e:\n",
    "        print(f\"Error: {e}\")\n",
    "        return None"
   ]
  },
  {
   "cell_type": "code",
   "execution_count": 24,
   "id": "16c53cf3-524f-42cb-acbb-cc765759cfe4",
   "metadata": {},
   "outputs": [],
   "source": [
    "# Set up OpenAI client with your API key\n",
    "client = openai.OpenAI(api_key=openai_api_key)\n",
    "\n",
    "# Function to get summary from OpenAI API\n",
    "def get_summary(text):\n",
    "    instruction = f\"\"\"Generate SVG code to visually represent the following text description, while respecting the given constraints.\n",
    "    \n",
    "    <constraints>\n",
    "    * **Allowed Elements:** `svg`, `path`, `circle`, `rect`, `ellipse`, `line`, `polyline`, `polygon`, `g`, `linearGradient`, `radialGradient`, `stop`, `defs`\n",
    "    * **Allowed Attributes:** `viewBox`, `width`, `height`, `fill`, `stroke`, `stroke-width`, `d`, `cx`, `cy`, `r`, `x`, `y`, `rx`, `ry`, `x1`, `y1`, `x2`, `y2`, `points`, `transform`, `opacity`\n",
    "    </constraints>\n",
    "\n",
    "    <example>\n",
    "    <description>\"A red circle with a blue square inside\"</description>\n",
    "    ```svg\n",
    "    <svg viewBox=\"0 0 256 256\" width=\"256\" height=\"256\">\n",
    "      <circle cx=\"50\" cy=\"50\" r=\"40\" fill=\"red\"/>\n",
    "      <rect x=\"30\" y=\"30\" width=\"40\" height=\"40\" fill=\"blue\"/>\n",
    "    </svg>\n",
    "    ```\n",
    "    </example>\n",
    "\n",
    "    Please ensure that the generated SVG code is well-formed, valid, and strictly adheres to these constraints.\n",
    "    Focus on a clear and concise representation of the input description within the given limitations. \n",
    "    Always provide the complete SVG code with nothing omitted. Never use an ellipsis.\n",
    "\n",
    "    <description>\"{text}\"</description>\n",
    "    \"\"\"\n",
    "\n",
    "    try:\n",
    "        response = client.chat.completions.create(\n",
    "            model=\"gpt-3.5-turbo\",\n",
    "            messages=[\n",
    "                {\"role\": \"system\", \"content\": \"Generate an SVG code with the given instruction.\"},\n",
    "                {\"role\": \"user\", \"content\": instruction}\n",
    "            ],\n",
    "            temperature=0.5,\n",
    "            max_tokens=1024\n",
    "        )\n",
    "        return response.choices[0].message.content.strip()\n",
    "    \n",
    "    except Exception as e:\n",
    "        print(f\"Error: {e}\")\n",
    "        return None\n"
   ]
  },
  {
   "cell_type": "code",
   "execution_count": 25,
   "id": "d441407f-8e90-4ab1-b5c3-7b7537069027",
   "metadata": {},
   "outputs": [],
   "source": [
    "# from tqdm.auto import tqdm\n",
    "\n",
    "# tqdm.pandas()  # Enable progress bar for pandas\n",
    "# train[\"rephrased\"] = train[\"description\"].progress_apply(get_rephrased)"
   ]
  },
  {
   "cell_type": "code",
   "execution_count": 26,
   "id": "c486f5ec-1521-44ce-8295-f02330481cb4",
   "metadata": {},
   "outputs": [
    {
     "data": {
      "application/vnd.jupyter.widget-view+json": {
       "model_id": "b7d4e110795c4975b8f581445939f354",
       "version_major": 2,
       "version_minor": 0
      },
      "text/plain": [
       "  0%|          | 0/15 [00:00<?, ?it/s]"
      ]
     },
     "metadata": {},
     "output_type": "display_data"
    }
   ],
   "source": [
    "train[\"svg_code\"] = train[\"description\"].progress_apply(get_summary)"
   ]
  },
  {
   "cell_type": "code",
   "execution_count": 27,
   "id": "f8f8280d-6e93-421a-aa3c-f15c42924e71",
   "metadata": {},
   "outputs": [],
   "source": [
    "#train['svg_code'] = train['svg_code'].str.replace(r\"```svg\\n|```\", \"\", regex=True)"
   ]
  },
  {
   "cell_type": "code",
   "execution_count": 28,
   "id": "811550eb-2369-4924-9c5c-ad7096476b63",
   "metadata": {},
   "outputs": [],
   "source": [
    "# Function to extract SVG code from a text string\n",
    "import re\n",
    "default_svg='<svg width=\"256\" height=\"256\" viewBox=\"0 0 256 256\"><circle cx=\"50\" cy=\"50\" r=\"40\" fill=\"red\" /></svg>'\n",
    "\n",
    "def extract_svg_code(text):\n",
    "    svg_pattern = r'<svg.*?>.*?</svg>'\n",
    "    match = re.search(svg_pattern, text, re.DOTALL)\n",
    "    if match:\n",
    "        return match.group(0)  # Return the SVG code\n",
    "    else:\n",
    "        return default_svg  # No SVG found\n",
    "\n",
    "# Apply the function to the 'svg_code' column\n",
    "train['extracted_svg'] = train['svg_code'].apply(extract_svg_code)"
   ]
  },
  {
   "cell_type": "code",
   "execution_count": 29,
   "id": "72d81c66-e911-49c4-906b-08a1130ce0cd",
   "metadata": {},
   "outputs": [
    {
     "data": {
      "image/svg+xml": [
       "<svg viewBox=\"0 0 256 256\" width=\"256\" height=\"256\">\n",
       "  <defs>\n",
       "    <linearGradient id=\"sky\" x1=\"0%\" y1=\"0%\" x2=\"0%\" y2=\"100%\">\n",
       "      <stop offset=\"0%\" style=\"stop-color:#0000FF;stop-opacity:1\"/>\n",
       "      <stop offset=\"100%\" style=\"stop-color:#000033;stop-opacity:1\"/>\n",
       "    </linearGradient>\n",
       "  </defs>\n",
       "  <rect x=\"0\" y=\"0\" width=\"256\" height=\"256\" fill=\"url(#sky)\"/>\n",
       "  <polygon points=\"128,48 136,80 168,80 144,104 152,136 128,120 104,136 112,104 88,80 120,80\" fill=\"#FFFFCC\"/>\n",
       "</svg>"
      ],
      "text/plain": [
       "<IPython.core.display.SVG object>"
      ]
     },
     "metadata": {},
     "output_type": "display_data"
    },
    {
     "data": {
      "image/svg+xml": [
       "<svg viewBox=\"0 0 100 100\" width=\"100\" height=\"100\">\n",
       "  <rect x=\"0\" y=\"0\" width=\"50\" height=\"50\" fill=\"black\"/>\n",
       "  <rect x=\"50\" y=\"0\" width=\"50\" height=\"50\" fill=\"white\"/>\n",
       "  <rect x=\"0\" y=\"50\" width=\"50\" height=\"50\" fill=\"white\"/>\n",
       "  <rect x=\"50\" y=\"50\" width=\"50\" height=\"50\" fill=\"black\"/>\n",
       "</svg>"
      ],
      "text/plain": [
       "<IPython.core.display.SVG object>"
      ]
     },
     "metadata": {},
     "output_type": "display_data"
    },
    {
     "data": {
      "image/svg+xml": [
       "<svg viewBox=\"0 0 256 256\" width=\"256\" height=\"256\">\n",
       "  <rect x=\"0\" y=\"0\" width=\"85\" height=\"85\" fill=\"crimson\"/>\n",
       "  <rect x=\"85\" y=\"0\" width=\"85\" height=\"85\" fill=\"crimson\"/>\n",
       "  <rect x=\"170\" y=\"0\" width=\"85\" height=\"85\" fill=\"crimson\"/>\n",
       "  <rect x=\"0\" y=\"85\" width=\"85\" height=\"85\" fill=\"crimson\"/>\n",
       "  <rect x=\"85\" y=\"85\" width=\"85\" height=\"85\" fill=\"crimson\"/>\n",
       "  <rect x=\"170\" y=\"85\" width=\"85\" height=\"85\" fill=\"crimson\"/>\n",
       "  <rect x=\"0\" y=\"170\" width=\"85\" height=\"85\" fill=\"crimson\"/>\n",
       "  <rect x=\"85\" y=\"170\" width=\"85\" height=\"85\" fill=\"crimson\"/>\n",
       "  <rect x=\"170\" y=\"170\" width=\"85\" height=\"85\" fill=\"crimson\"/>\n",
       "</svg>"
      ],
      "text/plain": [
       "<IPython.core.display.SVG object>"
      ]
     },
     "metadata": {},
     "output_type": "display_data"
    },
    {
     "data": {
      "image/svg+xml": [
       "<svg viewBox=\"0 0 200 200\" width=\"200\" height=\"200\">\n",
       "  <rect x=\"50\" y=\"50\" width=\"100\" height=\"150\" fill=\"#800020\"/>\n",
       "  <rect x=\"60\" y=\"70\" width=\"30\" height=\"30\" fill=\"#808080\"/>\n",
       "  <rect x=\"110\" y=\"70\" width=\"30\" height=\"30\" fill=\"#808080\"/>\n",
       "  <circle cx=\"70\" cy=\"150\" r=\"5\" fill=\"#C0C0C0\"/>\n",
       "  <circle cx=\"130\" cy=\"150\" r=\"5\" fill=\"#C0C0C0\"/>\n",
       "</svg>"
      ],
      "text/plain": [
       "<IPython.core.display.SVG object>"
      ]
     },
     "metadata": {},
     "output_type": "display_data"
    },
    {
     "data": {
      "image/svg+xml": [
       "<svg viewBox=\"0 0 100 100\" width=\"100\" height=\"100\">\n",
       "  <rect x=\"10\" y=\"20\" width=\"80\" height=\"50\" fill=\"orange\"/>\n",
       "  <rect x=\"20\" y=\"30\" width=\"60\" height=\"40\" fill=\"rgb(139, 69, 19)\"/>\n",
       "</svg>"
      ],
      "text/plain": [
       "<IPython.core.display.SVG object>"
      ]
     },
     "metadata": {},
     "output_type": "display_data"
    },
    {
     "data": {
      "image/svg+xml": [
       "<svg viewBox=\"0 0 200 200\" width=\"200\" height=\"200\">\n",
       "  <!-- Ocean -->\n",
       "  <rect x=\"0\" y=\"100\" width=\"200\" height=\"100\" fill=\"#4F82C3\"/>\n",
       "  <!-- Lighthouse -->\n",
       "  <rect x=\"75\" y=\"50\" width=\"50\" height=\"100\" fill=\"#F2EAE1\"/>\n",
       "  <rect x=\"85\" y=\"30\" width=\"30\" height=\"20\" fill=\"#F2EAE1\"/>\n",
       "  <line x1=\"100\" y1=\"30\" x2=\"100\" y2=\"0\" stroke=\"#F2EAE1\" stroke-width=\"2\"/>\n",
       "  <!-- Light -->\n",
       "  <circle cx=\"100\" cy=\"10\" r=\"5\" fill=\"#F2EAE1\"/>\n",
       "</svg>"
      ],
      "text/plain": [
       "<IPython.core.display.SVG object>"
      ]
     },
     "metadata": {},
     "output_type": "display_data"
    },
    {
     "data": {
      "image/svg+xml": [
       "<svg viewBox=\"0 0 256 256\" width=\"256\" height=\"256\">\n",
       "  <!-- Cloudy Sky -->\n",
       "  <rect x=\"0\" y=\"0\" width=\"256\" height=\"170\" fill=\"lightblue\"/>\n",
       "\n",
       "  <!-- Green Lagoon -->\n",
       "  <rect x=\"0\" y=\"170\" width=\"256\" height=\"86\" fill=\"lightgreen\"/>\n",
       "\n",
       "  <!-- Clouds -->\n",
       "  <circle cx=\"40\" cy=\"40\" r=\"20\" fill=\"white\"/>\n",
       "  <circle cx=\"80\" cy=\"30\" r=\"25\" fill=\"white\"/>\n",
       "  <circle cx=\"120\" cy=\"50\" r=\"30\" fill=\"white\"/>\n",
       "  <circle cx=\"160\" cy=\"40\" r=\"22\" fill=\"white\"/>\n",
       "  <circle cx=\"200\" cy=\"60\" r=\"28\" fill=\"white\"/>\n",
       "</svg>"
      ],
      "text/plain": [
       "<IPython.core.display.SVG object>"
      ]
     },
     "metadata": {},
     "output_type": "display_data"
    },
    {
     "data": {
      "image/svg+xml": [
       "<svg viewBox=\"0 0 256 256\" width=\"256\" height=\"256\">\n",
       "  <rect x=\"0\" y=\"0\" width=\"256\" height=\"256\" fill=\"white\"/>\n",
       "</svg>"
      ],
      "text/plain": [
       "<IPython.core.display.SVG object>"
      ]
     },
     "metadata": {},
     "output_type": "display_data"
    },
    {
     "data": {
      "image/svg+xml": [
       "<svg viewBox=\"0 0 100 100\" width=\"100\" height=\"100\">\n",
       "  <polygon points=\"50,10 75,25 75,65 50,80 25,65 25,25\" fill=\"maroon\"/>\n",
       "  <polygon points=\"50,10 25,25 25,65 50,80 75,65 75,25\" fill=\"teal\"/>\n",
       "  <polygon points=\"50,10 75,25 50,40 25,25\" fill=\"maroon\"/>\n",
       "  <polygon points=\"50,40 75,25 75,65 50,80\" fill=\"teal\"/>\n",
       "  <polygon points=\"50,40 25,25 50,10\" fill=\"maroon\"/>\n",
       "  <polygon points=\"50,40 25,65 25,25\" fill=\"teal\"/>\n",
       "  <polygon points=\"50,40 50,80 75,65\" fill=\"teal\"/>\n",
       "  <polygon points=\"50,40 25,65 50,80\" fill=\"maroon\"/>\n",
       "</svg>"
      ],
      "text/plain": [
       "<IPython.core.display.SVG object>"
      ]
     },
     "metadata": {},
     "output_type": "display_data"
    },
    {
     "data": {
      "image/svg+xml": [
       "<svg viewBox=\"0 0 200 200\" width=\"200\" height=\"200\">\n",
       "  <path d=\"M50,100 Q100,50 150,100 Q100,150 50,100\" fill=\"purple\"/>\n",
       "  <path d=\"M50,100 Q75,75 100,100 Q125,125 150,100\" fill=\"none\" stroke=\"black\" stroke-width=\"2\"/>\n",
       "  <circle cx=\"100\" cy=\"100\" r=\"5\" fill=\"black\"/>\n",
       "</svg>"
      ],
      "text/plain": [
       "<IPython.core.display.SVG object>"
      ]
     },
     "metadata": {},
     "output_type": "display_data"
    },
    {
     "data": {
      "image/svg+xml": [
       "<svg viewBox=\"0 0 200 200\" width=\"200\" height=\"200\">\n",
       "  <defs>\n",
       "    <linearGradient id=\"grad1\" x1=\"0%\" y1=\"0%\" x2=\"100%\" y2=\"0%\">\n",
       "      <stop offset=\"0%\" style=\"stop-color:magenta;stop-opacity:1\"/>\n",
       "      <stop offset=\"100%\" style=\"stop-color:silver;stop-opacity:0.5\"/>\n",
       "    </linearGradient>\n",
       "  </defs>\n",
       "  <polygon points=\"100,20 20,80 180,80\" fill=\"url(#grad1)\"/>\n",
       "  <polygon points=\"100,50 30,110 170,110\" fill=\"url(#grad1)\"/>\n",
       "</svg>"
      ],
      "text/plain": [
       "<IPython.core.display.SVG object>"
      ]
     },
     "metadata": {},
     "output_type": "display_data"
    },
    {
     "data": {
      "image/svg+xml": [
       "<svg viewBox=\"0 0 100 100\" width=\"100\" height=\"100\">\n",
       "  <rect x=\"10\" y=\"20\" width=\"80\" height=\"60\" fill=\"gray\"/>\n",
       "  <rect x=\"20\" y=\"10\" width=\"60\" height=\"20\" fill=\"white\"/>\n",
       "</svg>"
      ],
      "text/plain": [
       "<IPython.core.display.SVG object>"
      ]
     },
     "metadata": {},
     "output_type": "display_data"
    },
    {
     "data": {
      "image/svg+xml": [
       "<svg viewBox=\"0 0 256 256\" width=\"256\" height=\"256\">\n",
       "  <rect x=\"0\" y=\"0\" width=\"256\" height=\"256\" fill=\"#6b5b95\"/>\n",
       "  <circle cx=\"128\" cy=\"128\" r=\"80\" fill=\"#4a3f76\"/>\n",
       "  <circle cx=\"50\" cy=\"100\" r=\"30\" fill=\"#5b4e77\"/>\n",
       "  <circle cx=\"90\" cy=\"140\" r=\"20\" fill=\"#5b4e77\"/>\n",
       "  <circle cx=\"150\" cy=\"120\" r=\"25\" fill=\"#5b4e77\"/>\n",
       "  <circle cx=\"190\" cy=\"160\" r=\"30\" fill=\"#5b4e77\"/>\n",
       "</svg>"
      ],
      "text/plain": [
       "<IPython.core.display.SVG object>"
      ]
     },
     "metadata": {},
     "output_type": "display_data"
    },
    {
     "data": {
      "image/svg+xml": [
       "<svg viewBox=\"0 0 256 256\" width=\"256\" height=\"256\">\n",
       "  <defs>\n",
       "    <linearGradient id=\"purpleGradient\" x1=\"0%\" y1=\"0%\" x2=\"100%\" y2=\"100%\">\n",
       "      <stop offset=\"0%\" style=\"stop-color:purple;stop-opacity:1\"/>\n",
       "      <stop offset=\"100%\" style=\"stop-color:purple;stop-opacity:0\"/>\n",
       "    </linearGradient>\n",
       "    <linearGradient id=\"bronzeGradient\" x1=\"0%\" y1=\"0%\" x2=\"100%\" y2=\"100%\">\n",
       "      <stop offset=\"0%\" style=\"stop-color:bronze;stop-opacity:1\"/>\n",
       "      <stop offset=\"100%\" style=\"stop-color:bronze;stop-opacity:0\"/>\n",
       "    </linearGradient>\n",
       "  </defs>\n",
       "  <circle cx=\"128\" cy=\"128\" r=\"100\" fill=\"url(#bronzeGradient)\"/>\n",
       "  <polygon points=\"128,28 217,105 178,200 78,200 39,105\" fill=\"url(#purpleGradient)\"/>\n",
       "  <polygon points=\"128,28 39,105 78,200 178,200 217,105\" fill=\"url(#purpleGradient)\"/>\n",
       "</svg>"
      ],
      "text/plain": [
       "<IPython.core.display.SVG object>"
      ]
     },
     "metadata": {},
     "output_type": "display_data"
    },
    {
     "data": {
      "image/svg+xml": [
       "<svg viewBox=\"0 0 256 256\" width=\"256\" height=\"256\">\n",
       "  <defs>\n",
       "    <linearGradient id=\"khakiGradient\" x1=\"0%\" y1=\"0%\" x2=\"100%\" y2=\"100%\">\n",
       "      <stop offset=\"0%\" style=\"stop-color:khaki;stop-opacity:1\"/>\n",
       "      <stop offset=\"100%\" style=\"stop-color:khaki;stop-opacity:0\"/>\n",
       "    </linearGradient>\n",
       "    <linearGradient id=\"azureGradient\" x1=\"0%\" y1=\"0%\" x2=\"100%\" y2=\"100%\">\n",
       "      <stop offset=\"0%\" style=\"stop-color:azure;stop-opacity:1\"/>\n",
       "      <stop offset=\"100%\" style=\"stop-color:azure;stop-opacity:0\"/>\n",
       "    </linearGradient>\n",
       "  </defs>\n",
       "  <polygon points=\"128,10 246,200 10,200\" fill=\"url(#khakiGradient)\"/>\n",
       "  <path d=\"M 128,10 A 120,120 0 0 1 246,200 A 120,120 0 0 1 10,200 Z\" fill=\"url(#azureGradient)\"/>\n",
       "</svg>"
      ],
      "text/plain": [
       "<IPython.core.display.SVG object>"
      ]
     },
     "metadata": {},
     "output_type": "display_data"
    }
   ],
   "source": [
    "# We can play with our Model and render its SVG output (don't export!)\n",
    "from IPython.display import SVG, display\n",
    "for svg in train[\"extracted_svg\"]:\n",
    "    #print(svg)\n",
    "    display(SVG(svg))"
   ]
  },
  {
   "cell_type": "code",
   "execution_count": 30,
   "id": "3035ccdc-64fc-4d02-9d7f-7b5dd33007c9",
   "metadata": {},
   "outputs": [],
   "source": [
    "from transformers import AutoProcessor, AutoModel\n",
    "model = AutoModel.from_pretrained(\"google/siglip-so400m-patch14-384\")\n",
    "processor = AutoProcessor.from_pretrained(\"google/siglip-so400m-patch14-384\")"
   ]
  },
  {
   "cell_type": "code",
   "execution_count": 31,
   "id": "78346aa9-4dcf-48d0-898d-39715647c12e",
   "metadata": {},
   "outputs": [],
   "source": [
    "import torch\n",
    "from PIL import Image\n",
    "import cairosvg\n",
    "import os\n",
    "\n",
    "def svgMetric(prompt, svg):\n",
    "    try:\n",
    "        # Convert SVG to PNG\n",
    "        cairosvg.svg2png(svg, write_to=\"./tmp/temp.png\")\n",
    "        \n",
    "        # Open and process the image\n",
    "        image = Image.open('./tmp/temp.png').convert(\"RGB\")\n",
    "        texts = [\"SVG illustration of \" + prompt]\n",
    "        inputs = processor(text=texts, images=image, padding=\"max_length\", return_tensors=\"pt\")\n",
    "        \n",
    "        # Inference without gradient tracking\n",
    "        with torch.no_grad():\n",
    "            outputs = model(**inputs)\n",
    "        \n",
    "        logits_per_image = outputs.logits_per_image\n",
    "        probs = torch.sigmoid(logits_per_image)\n",
    "        \n",
    "        # Clean up temporary PNG file\n",
    "        #os.remove('./tmp/temp.png')\n",
    "        \n",
    "        return probs[0][0].item()\n",
    "\n",
    "    \n",
    "    except Exception as e:\n",
    "        print(f\"An error occurred: {e}\")\n",
    "        return None\n",
    "\n",
    "\n"
   ]
  },
  {
   "cell_type": "code",
   "execution_count": 32,
   "id": "29c16f67-6d5e-44f3-a9aa-0c17cc28c687",
   "metadata": {},
   "outputs": [],
   "source": [
    "# Using apply to process each row in the DataFrame\n",
    "train['score'] = train.apply(lambda row: svgMetric(row['description'], row['extracted_svg']), axis=1)\n"
   ]
  },
  {
   "cell_type": "code",
   "execution_count": 33,
   "id": "c40e235a-6b76-44a8-8e12-d811e3e40a3e",
   "metadata": {},
   "outputs": [
    {
     "name": "stdout",
     "output_type": "stream",
     "text": [
      "mean gpt-3.5-turbo score: 0.10510278232207687\n"
     ]
    }
   ],
   "source": [
    "# Display results\n",
    "#print(train[['description', 'score']])\n",
    "print('mean gpt-3.5-turbo score:',train['score'].mean())"
   ]
  },
  {
   "cell_type": "code",
   "execution_count": 34,
   "id": "67b55c56-43b6-4a3b-989b-1c17583ebb20",
   "metadata": {},
   "outputs": [
    {
     "data": {
      "text/html": [
       "<div>\n",
       "<style scoped>\n",
       "    .dataframe tbody tr th:only-of-type {\n",
       "        vertical-align: middle;\n",
       "    }\n",
       "\n",
       "    .dataframe tbody tr th {\n",
       "        vertical-align: top;\n",
       "    }\n",
       "\n",
       "    .dataframe thead th {\n",
       "        text-align: right;\n",
       "    }\n",
       "</style>\n",
       "<table border=\"1\" class=\"dataframe\">\n",
       "  <thead>\n",
       "    <tr style=\"text-align: right;\">\n",
       "      <th></th>\n",
       "      <th>id</th>\n",
       "      <th>description</th>\n",
       "      <th>svg_code</th>\n",
       "      <th>extracted_svg</th>\n",
       "      <th>score</th>\n",
       "    </tr>\n",
       "  </thead>\n",
       "  <tbody>\n",
       "    <tr>\n",
       "      <th>0</th>\n",
       "      <td>04c411</td>\n",
       "      <td>a starlit night over snow-covered peaks</td>\n",
       "      <td>```svg\\n&lt;svg viewBox=\"0 0 256 256\" width=\"256\"...</td>\n",
       "      <td>&lt;svg viewBox=\"0 0 256 256\" width=\"256\" height=...</td>\n",
       "      <td>0.005045</td>\n",
       "    </tr>\n",
       "    <tr>\n",
       "      <th>1</th>\n",
       "      <td>215136</td>\n",
       "      <td>black and white checkered pants</td>\n",
       "      <td>```svg\\n&lt;svg viewBox=\"0 0 100 100\" width=\"100\"...</td>\n",
       "      <td>&lt;svg viewBox=\"0 0 100 100\" width=\"100\" height=...</td>\n",
       "      <td>0.007646</td>\n",
       "    </tr>\n",
       "    <tr>\n",
       "      <th>2</th>\n",
       "      <td>3e2bc6</td>\n",
       "      <td>crimson rectangles forming a chaotic grid</td>\n",
       "      <td>```svg\\n&lt;svg viewBox=\"0 0 256 256\" width=\"256\"...</td>\n",
       "      <td>&lt;svg viewBox=\"0 0 256 256\" width=\"256\" height=...</td>\n",
       "      <td>0.007120</td>\n",
       "    </tr>\n",
       "    <tr>\n",
       "      <th>3</th>\n",
       "      <td>61d7a8</td>\n",
       "      <td>burgundy corduroy pants with patch pockets and...</td>\n",
       "      <td>```svg\\n&lt;svg viewBox=\"0 0 200 200\" width=\"200\"...</td>\n",
       "      <td>&lt;svg viewBox=\"0 0 200 200\" width=\"200\" height=...</td>\n",
       "      <td>0.000453</td>\n",
       "    </tr>\n",
       "    <tr>\n",
       "      <th>4</th>\n",
       "      <td>6f2ca7</td>\n",
       "      <td>orange corduroy overalls</td>\n",
       "      <td>```svg\\n&lt;svg viewBox=\"0 0 100 100\" width=\"100\"...</td>\n",
       "      <td>&lt;svg viewBox=\"0 0 100 100\" width=\"100\" height=...</td>\n",
       "      <td>0.000017</td>\n",
       "    </tr>\n",
       "    <tr>\n",
       "      <th>5</th>\n",
       "      <td>8066ae</td>\n",
       "      <td>a lighthouse overlooking the ocean</td>\n",
       "      <td>```svg\\n&lt;svg viewBox=\"0 0 200 200\" width=\"200\"...</td>\n",
       "      <td>&lt;svg viewBox=\"0 0 200 200\" width=\"200\" height=...</td>\n",
       "      <td>0.053586</td>\n",
       "    </tr>\n",
       "    <tr>\n",
       "      <th>6</th>\n",
       "      <td>828a8f</td>\n",
       "      <td>a green lagoon under a cloudy sky</td>\n",
       "      <td>```svg\\n&lt;svg viewBox=\"0 0 256 256\" width=\"256\"...</td>\n",
       "      <td>&lt;svg viewBox=\"0 0 256 256\" width=\"256\" height=...</td>\n",
       "      <td>0.605665</td>\n",
       "    </tr>\n",
       "    <tr>\n",
       "      <th>7</th>\n",
       "      <td>98f11f</td>\n",
       "      <td>a snowy plain</td>\n",
       "      <td>```svg\\n&lt;svg viewBox=\"0 0 256 256\" width=\"256\"...</td>\n",
       "      <td>&lt;svg viewBox=\"0 0 256 256\" width=\"256\" height=...</td>\n",
       "      <td>0.000411</td>\n",
       "    </tr>\n",
       "    <tr>\n",
       "      <th>8</th>\n",
       "      <td>9ce3c4</td>\n",
       "      <td>a maroon dodecahedron interwoven with teal thr...</td>\n",
       "      <td>```svg\\n&lt;svg viewBox=\"0 0 100 100\" width=\"100\"...</td>\n",
       "      <td>&lt;svg viewBox=\"0 0 100 100\" width=\"100\" height=...</td>\n",
       "      <td>0.132344</td>\n",
       "    </tr>\n",
       "    <tr>\n",
       "      <th>9</th>\n",
       "      <td>a9ecbb</td>\n",
       "      <td>a purple silk scarf with tassel trim</td>\n",
       "      <td>```svg\\n&lt;svg viewBox=\"0 0 200 200\" width=\"200\"...</td>\n",
       "      <td>&lt;svg viewBox=\"0 0 200 200\" width=\"200\" height=...</td>\n",
       "      <td>0.000011</td>\n",
       "    </tr>\n",
       "    <tr>\n",
       "      <th>10</th>\n",
       "      <td>bf3306</td>\n",
       "      <td>magenta trapezoids layered on a transluscent s...</td>\n",
       "      <td>```svg\\n&lt;svg viewBox=\"0 0 200 200\" width=\"200\"...</td>\n",
       "      <td>&lt;svg viewBox=\"0 0 200 200\" width=\"200\" height=...</td>\n",
       "      <td>0.016421</td>\n",
       "    </tr>\n",
       "    <tr>\n",
       "      <th>11</th>\n",
       "      <td>e2240f</td>\n",
       "      <td>gray wool coat with a faux fur collar</td>\n",
       "      <td>```svg\\n&lt;svg viewBox=\"0 0 100 100\" width=\"100\"...</td>\n",
       "      <td>&lt;svg viewBox=\"0 0 100 100\" width=\"100\" height=...</td>\n",
       "      <td>0.000295</td>\n",
       "    </tr>\n",
       "    <tr>\n",
       "      <th>12</th>\n",
       "      <td>f02e39</td>\n",
       "      <td>a purple forest at dusk</td>\n",
       "      <td>```svg\\n&lt;svg viewBox=\"0 0 256 256\" width=\"256\"...</td>\n",
       "      <td>&lt;svg viewBox=\"0 0 256 256\" width=\"256\" height=...</td>\n",
       "      <td>0.002695</td>\n",
       "    </tr>\n",
       "    <tr>\n",
       "      <th>13</th>\n",
       "      <td>f6790a</td>\n",
       "      <td>purple pyramids spiraling around a bronze cone</td>\n",
       "      <td>```svg\\n&lt;svg viewBox=\"0 0 256 256\" width=\"256\"...</td>\n",
       "      <td>&lt;svg viewBox=\"0 0 256 256\" width=\"256\" height=...</td>\n",
       "      <td>0.001257</td>\n",
       "    </tr>\n",
       "    <tr>\n",
       "      <th>14</th>\n",
       "      <td>f9edd5</td>\n",
       "      <td>khaki triangles and azure crescents</td>\n",
       "      <td>```svg\\n&lt;svg viewBox=\"0 0 256 256\" width=\"256\"...</td>\n",
       "      <td>&lt;svg viewBox=\"0 0 256 256\" width=\"256\" height=...</td>\n",
       "      <td>0.743577</td>\n",
       "    </tr>\n",
       "  </tbody>\n",
       "</table>\n",
       "</div>"
      ],
      "text/plain": [
       "        id                                        description  \\\n",
       "0   04c411            a starlit night over snow-covered peaks   \n",
       "1   215136                    black and white checkered pants   \n",
       "2   3e2bc6          crimson rectangles forming a chaotic grid   \n",
       "3   61d7a8  burgundy corduroy pants with patch pockets and...   \n",
       "4   6f2ca7                           orange corduroy overalls   \n",
       "5   8066ae                 a lighthouse overlooking the ocean   \n",
       "6   828a8f                  a green lagoon under a cloudy sky   \n",
       "7   98f11f                                      a snowy plain   \n",
       "8   9ce3c4  a maroon dodecahedron interwoven with teal thr...   \n",
       "9   a9ecbb               a purple silk scarf with tassel trim   \n",
       "10  bf3306  magenta trapezoids layered on a transluscent s...   \n",
       "11  e2240f              gray wool coat with a faux fur collar   \n",
       "12  f02e39                            a purple forest at dusk   \n",
       "13  f6790a     purple pyramids spiraling around a bronze cone   \n",
       "14  f9edd5                khaki triangles and azure crescents   \n",
       "\n",
       "                                             svg_code  \\\n",
       "0   ```svg\\n<svg viewBox=\"0 0 256 256\" width=\"256\"...   \n",
       "1   ```svg\\n<svg viewBox=\"0 0 100 100\" width=\"100\"...   \n",
       "2   ```svg\\n<svg viewBox=\"0 0 256 256\" width=\"256\"...   \n",
       "3   ```svg\\n<svg viewBox=\"0 0 200 200\" width=\"200\"...   \n",
       "4   ```svg\\n<svg viewBox=\"0 0 100 100\" width=\"100\"...   \n",
       "5   ```svg\\n<svg viewBox=\"0 0 200 200\" width=\"200\"...   \n",
       "6   ```svg\\n<svg viewBox=\"0 0 256 256\" width=\"256\"...   \n",
       "7   ```svg\\n<svg viewBox=\"0 0 256 256\" width=\"256\"...   \n",
       "8   ```svg\\n<svg viewBox=\"0 0 100 100\" width=\"100\"...   \n",
       "9   ```svg\\n<svg viewBox=\"0 0 200 200\" width=\"200\"...   \n",
       "10  ```svg\\n<svg viewBox=\"0 0 200 200\" width=\"200\"...   \n",
       "11  ```svg\\n<svg viewBox=\"0 0 100 100\" width=\"100\"...   \n",
       "12  ```svg\\n<svg viewBox=\"0 0 256 256\" width=\"256\"...   \n",
       "13  ```svg\\n<svg viewBox=\"0 0 256 256\" width=\"256\"...   \n",
       "14  ```svg\\n<svg viewBox=\"0 0 256 256\" width=\"256\"...   \n",
       "\n",
       "                                        extracted_svg     score  \n",
       "0   <svg viewBox=\"0 0 256 256\" width=\"256\" height=...  0.005045  \n",
       "1   <svg viewBox=\"0 0 100 100\" width=\"100\" height=...  0.007646  \n",
       "2   <svg viewBox=\"0 0 256 256\" width=\"256\" height=...  0.007120  \n",
       "3   <svg viewBox=\"0 0 200 200\" width=\"200\" height=...  0.000453  \n",
       "4   <svg viewBox=\"0 0 100 100\" width=\"100\" height=...  0.000017  \n",
       "5   <svg viewBox=\"0 0 200 200\" width=\"200\" height=...  0.053586  \n",
       "6   <svg viewBox=\"0 0 256 256\" width=\"256\" height=...  0.605665  \n",
       "7   <svg viewBox=\"0 0 256 256\" width=\"256\" height=...  0.000411  \n",
       "8   <svg viewBox=\"0 0 100 100\" width=\"100\" height=...  0.132344  \n",
       "9   <svg viewBox=\"0 0 200 200\" width=\"200\" height=...  0.000011  \n",
       "10  <svg viewBox=\"0 0 200 200\" width=\"200\" height=...  0.016421  \n",
       "11  <svg viewBox=\"0 0 100 100\" width=\"100\" height=...  0.000295  \n",
       "12  <svg viewBox=\"0 0 256 256\" width=\"256\" height=...  0.002695  \n",
       "13  <svg viewBox=\"0 0 256 256\" width=\"256\" height=...  0.001257  \n",
       "14  <svg viewBox=\"0 0 256 256\" width=\"256\" height=...  0.743577  "
      ]
     },
     "execution_count": 34,
     "metadata": {},
     "output_type": "execute_result"
    }
   ],
   "source": [
    "train"
   ]
  },
  {
   "cell_type": "code",
   "execution_count": null,
   "id": "238d63cb-4c2b-4a1c-a8fc-6180a38f678c",
   "metadata": {},
   "outputs": [],
   "source": []
  },
  {
   "cell_type": "code",
   "execution_count": null,
   "id": "6e606502-dd71-46b6-a778-aa0e2d755298",
   "metadata": {},
   "outputs": [],
   "source": []
  }
 ],
 "metadata": {
  "kaggle": {
   "accelerator": "none",
   "dataSources": [
    {
     "databundleVersionId": 11175052,
     "sourceId": 89659,
     "sourceType": "competition"
    }
   ],
   "isGpuEnabled": false,
   "isInternetEnabled": false,
   "language": "python",
   "sourceType": "notebook"
  },
  "kernelspec": {
   "display_name": "Python 3 (ipykernel)",
   "language": "python",
   "name": "python3"
  },
  "language_info": {
   "codemirror_mode": {
    "name": "ipython",
    "version": 3
   },
   "file_extension": ".py",
   "mimetype": "text/x-python",
   "name": "python",
   "nbconvert_exporter": "python",
   "pygments_lexer": "ipython3",
   "version": "3.11.11"
  },
  "papermill": {
   "default_parameters": {},
   "duration": 6.756759,
   "end_time": "2025-02-26T02:09:27.363350",
   "environment_variables": {},
   "exception": null,
   "input_path": "__notebook__.ipynb",
   "output_path": "__notebook__.ipynb",
   "parameters": {},
   "start_time": "2025-02-26T02:09:20.606591",
   "version": "2.6.0"
  }
 },
 "nbformat": 4,
 "nbformat_minor": 5
}
