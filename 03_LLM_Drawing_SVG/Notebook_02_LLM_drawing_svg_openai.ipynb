{
 "cells": [
  {
   "cell_type": "markdown",
   "id": "f506feee-98f0-4106-a53a-ccbff09b3ce3",
   "metadata": {},
   "source": [
    "### https://www.kaggle.com/competitions/drawing-with-llms"
   ]
  },
  {
   "cell_type": "code",
   "execution_count": 35,
   "id": "e9062a4b-55ec-493c-a31e-f03a3489a374",
   "metadata": {},
   "outputs": [
    {
     "data": {
      "text/html": [
       "<div>\n",
       "<style scoped>\n",
       "    .dataframe tbody tr th:only-of-type {\n",
       "        vertical-align: middle;\n",
       "    }\n",
       "\n",
       "    .dataframe tbody tr th {\n",
       "        vertical-align: top;\n",
       "    }\n",
       "\n",
       "    .dataframe thead th {\n",
       "        text-align: right;\n",
       "    }\n",
       "</style>\n",
       "<table border=\"1\" class=\"dataframe\">\n",
       "  <thead>\n",
       "    <tr style=\"text-align: right;\">\n",
       "      <th></th>\n",
       "      <th>id</th>\n",
       "      <th>description</th>\n",
       "    </tr>\n",
       "  </thead>\n",
       "  <tbody>\n",
       "    <tr>\n",
       "      <th>0</th>\n",
       "      <td>04c411</td>\n",
       "      <td>a starlit night over snow-covered peaks</td>\n",
       "    </tr>\n",
       "    <tr>\n",
       "      <th>1</th>\n",
       "      <td>215136</td>\n",
       "      <td>black and white checkered pants</td>\n",
       "    </tr>\n",
       "    <tr>\n",
       "      <th>2</th>\n",
       "      <td>3e2bc6</td>\n",
       "      <td>crimson rectangles forming a chaotic grid</td>\n",
       "    </tr>\n",
       "    <tr>\n",
       "      <th>3</th>\n",
       "      <td>61d7a8</td>\n",
       "      <td>burgundy corduroy pants with patch pockets and...</td>\n",
       "    </tr>\n",
       "    <tr>\n",
       "      <th>4</th>\n",
       "      <td>6f2ca7</td>\n",
       "      <td>orange corduroy overalls</td>\n",
       "    </tr>\n",
       "  </tbody>\n",
       "</table>\n",
       "</div>"
      ],
      "text/plain": [
       "       id                                        description\n",
       "0  04c411            a starlit night over snow-covered peaks\n",
       "1  215136                    black and white checkered pants\n",
       "2  3e2bc6          crimson rectangles forming a chaotic grid\n",
       "3  61d7a8  burgundy corduroy pants with patch pockets and...\n",
       "4  6f2ca7                           orange corduroy overalls"
      ]
     },
     "execution_count": 35,
     "metadata": {},
     "output_type": "execute_result"
    }
   ],
   "source": [
    "import kagglehub\n",
    "import pandas as pd\n",
    "\n",
    "train_path = kagglehub.competition_download('drawing-with-llms', 'train.csv')\n",
    "train = pd.read_csv(train_path)\n",
    "\n",
    "train.head()"
   ]
  },
  {
   "cell_type": "code",
   "execution_count": 36,
   "id": "b8ecf579-aef1-4f5c-8ec8-22893780479b",
   "metadata": {},
   "outputs": [],
   "source": [
    "import openai\n",
    "import pandas as pd\n",
    "import time\n",
    "import os\n",
    "from dotenv import load_dotenv\n",
    "load_dotenv()\n",
    "openai_api_key = os.getenv(\"OPENAI_API_KEY\")"
   ]
  },
  {
   "cell_type": "code",
   "execution_count": 37,
   "id": "16c53cf3-524f-42cb-acbb-cc765759cfe4",
   "metadata": {},
   "outputs": [],
   "source": [
    "# Set up OpenAI client with your API key\n",
    "client = openai.OpenAI(api_key=openai_api_key)\n",
    "\n",
    "# Function to get summary from OpenAI API\n",
    "def get_summary(text):\n",
    "    instruction = f\"\"\"Generate SVG code to visually represent the following text description, while respecting the given constraints.\n",
    "    \n",
    "    <constraints>\n",
    "    * **Allowed Elements:** `svg`, `path`, `circle`, `rect`, `ellipse`, `line`, `polyline`, `polygon`, `g`, `linearGradient`, `radialGradient`, `stop`, `defs`\n",
    "    * **Allowed Attributes:** `viewBox`, `width`, `height`, `fill`, `stroke`, `stroke-width`, `d`, `cx`, `cy`, `r`, `x`, `y`, `rx`, `ry`, `x1`, `y1`, `x2`, `y2`, `points`, `transform`, `opacity`\n",
    "    </constraints>\n",
    "\n",
    "    <example>\n",
    "    <description>\"A red circle with a blue square inside\"</description>\n",
    "    ```svg\n",
    "    <svg viewBox=\"0 0 256 256\" width=\"256\" height=\"256\">\n",
    "      <circle cx=\"50\" cy=\"50\" r=\"40\" fill=\"red\"/>\n",
    "      <rect x=\"30\" y=\"30\" width=\"40\" height=\"40\" fill=\"blue\"/>\n",
    "    </svg>\n",
    "    ```\n",
    "    </example>\n",
    "\n",
    "    Please ensure that the generated SVG code is well-formed, valid, and strictly adheres to these constraints.\n",
    "    Focus on a clear and concise representation of the input description within the given limitations. \n",
    "    Always provide the complete SVG code with nothing omitted. Never use an ellipsis.\n",
    "\n",
    "    <description>\"{text}\"</description>\n",
    "    \"\"\"\n",
    "\n",
    "    try:\n",
    "        response = client.chat.completions.create(\n",
    "            model=\"gpt-3.5-turbo\",\n",
    "            messages=[\n",
    "                {\"role\": \"system\", \"content\": \"Generate an SVG code with the given instruction.\"},\n",
    "                {\"role\": \"user\", \"content\": instruction}\n",
    "            ],\n",
    "            temperature=0.5,\n",
    "            max_tokens=1024\n",
    "        )\n",
    "        return response.choices[0].message.content.strip()\n",
    "    \n",
    "    except Exception as e:\n",
    "        print(f\"Error: {e}\")\n",
    "        return None\n"
   ]
  },
  {
   "cell_type": "code",
   "execution_count": 38,
   "id": "d441407f-8e90-4ab1-b5c3-7b7537069027",
   "metadata": {},
   "outputs": [
    {
     "name": "stderr",
     "output_type": "stream",
     "text": [
      "100%|███████████████████████████████████████████| 15/15 [00:34<00:00,  2.28s/it]\n"
     ]
    }
   ],
   "source": [
    "from tqdm.auto import tqdm\n",
    "\n",
    "tqdm.pandas()  # Enable progress bar for pandas\n",
    "train[\"svg_code\"] = train[\"description\"].progress_apply(get_summary)"
   ]
  },
  {
   "cell_type": "code",
   "execution_count": 39,
   "id": "f8f8280d-6e93-421a-aa3c-f15c42924e71",
   "metadata": {},
   "outputs": [
    {
     "data": {
      "text/plain": [
       "'<svg viewBox=\"0 0 100 100\" width=\"100\" height=\"100\" xmlns=\"http://www.w3.org/2000/svg\">\\n  <rect x=\"0\" y=\"0\" width=\"50\" height=\"50\" fill=\"black\"/>\\n  <rect x=\"50\" y=\"0\" width=\"50\" height=\"50\" fill=\"white\"/>\\n  <rect x=\"0\" y=\"50\" width=\"50\" height=\"50\" fill=\"white\"/>\\n  <rect x=\"50\" y=\"50\" width=\"50\" height=\"50\" fill=\"black\"/>\\n</svg>'"
      ]
     },
     "execution_count": 39,
     "metadata": {},
     "output_type": "execute_result"
    }
   ],
   "source": [
    "svg_code"
   ]
  },
  {
   "cell_type": "code",
   "execution_count": 40,
   "id": "72d81c66-e911-49c4-906b-08a1130ce0cd",
   "metadata": {},
   "outputs": [
    {
     "ename": "ExpatError",
     "evalue": "not well-formed (invalid token): line 1, column 0",
     "output_type": "error",
     "traceback": [
      "\u001b[31m---------------------------------------------------------------------------\u001b[39m",
      "\u001b[31mExpatError\u001b[39m                                Traceback (most recent call last)",
      "\u001b[36mCell\u001b[39m\u001b[36m \u001b[39m\u001b[32mIn[40]\u001b[39m\u001b[32m, line 4\u001b[39m\n\u001b[32m      2\u001b[39m \u001b[38;5;28;01mfrom\u001b[39;00m\u001b[38;5;250m \u001b[39m\u001b[34;01mIPython\u001b[39;00m\u001b[34;01m.\u001b[39;00m\u001b[34;01mdisplay\u001b[39;00m\u001b[38;5;250m \u001b[39m\u001b[38;5;28;01mimport\u001b[39;00m SVG, display\n\u001b[32m      3\u001b[39m \u001b[38;5;28;01mfor\u001b[39;00m svg \u001b[38;5;129;01min\u001b[39;00m train[\u001b[33m\"\u001b[39m\u001b[33msvg_code\u001b[39m\u001b[33m\"\u001b[39m]:\n\u001b[32m----> \u001b[39m\u001b[32m4\u001b[39m     display(\u001b[43mSVG\u001b[49m\u001b[43m(\u001b[49m\u001b[43msvg\u001b[49m\u001b[43m)\u001b[49m)\n",
      "\u001b[36mFile \u001b[39m\u001b[32m~/anaconda3/envs/kaggle/lib/python3.11/site-packages/IPython/core/display.py:336\u001b[39m, in \u001b[36mDisplayObject.__init__\u001b[39m\u001b[34m(self, data, url, filename, metadata)\u001b[39m\n\u001b[32m    332\u001b[39m \u001b[38;5;28mself\u001b[39m.filename = filename\n\u001b[32m    333\u001b[39m \u001b[38;5;66;03m# because of @data.setter methods in\u001b[39;00m\n\u001b[32m    334\u001b[39m \u001b[38;5;66;03m# subclasses ensure url and filename are set\u001b[39;00m\n\u001b[32m    335\u001b[39m \u001b[38;5;66;03m# before assigning to self.data\u001b[39;00m\n\u001b[32m--> \u001b[39m\u001b[32m336\u001b[39m \u001b[38;5;28;43mself\u001b[39;49m\u001b[43m.\u001b[49m\u001b[43mdata\u001b[49m = data\n\u001b[32m    338\u001b[39m \u001b[38;5;28;01mif\u001b[39;00m metadata \u001b[38;5;129;01mis\u001b[39;00m \u001b[38;5;129;01mnot\u001b[39;00m \u001b[38;5;28;01mNone\u001b[39;00m:\n\u001b[32m    339\u001b[39m     \u001b[38;5;28mself\u001b[39m.metadata = metadata\n",
      "\u001b[36mFile \u001b[39m\u001b[32m~/anaconda3/envs/kaggle/lib/python3.11/site-packages/IPython/core/display.py:507\u001b[39m, in \u001b[36mSVG.data\u001b[39m\u001b[34m(self, svg)\u001b[39m\n\u001b[32m    505\u001b[39m \u001b[38;5;66;03m# parse into dom object\u001b[39;00m\n\u001b[32m    506\u001b[39m \u001b[38;5;28;01mfrom\u001b[39;00m\u001b[38;5;250m \u001b[39m\u001b[34;01mxml\u001b[39;00m\u001b[34;01m.\u001b[39;00m\u001b[34;01mdom\u001b[39;00m\u001b[38;5;250m \u001b[39m\u001b[38;5;28;01mimport\u001b[39;00m minidom\n\u001b[32m--> \u001b[39m\u001b[32m507\u001b[39m x = \u001b[43mminidom\u001b[49m\u001b[43m.\u001b[49m\u001b[43mparseString\u001b[49m\u001b[43m(\u001b[49m\u001b[43msvg\u001b[49m\u001b[43m)\u001b[49m\n\u001b[32m    508\u001b[39m \u001b[38;5;66;03m# get svg tag (should be 1)\u001b[39;00m\n\u001b[32m    509\u001b[39m found_svg = x.getElementsByTagName(\u001b[33m'\u001b[39m\u001b[33msvg\u001b[39m\u001b[33m'\u001b[39m)\n",
      "\u001b[36mFile \u001b[39m\u001b[32m~/anaconda3/envs/kaggle/lib/python3.11/xml/dom/minidom.py:2000\u001b[39m, in \u001b[36mparseString\u001b[39m\u001b[34m(string, parser)\u001b[39m\n\u001b[32m   1998\u001b[39m \u001b[38;5;28;01mif\u001b[39;00m parser \u001b[38;5;129;01mis\u001b[39;00m \u001b[38;5;28;01mNone\u001b[39;00m:\n\u001b[32m   1999\u001b[39m     \u001b[38;5;28;01mfrom\u001b[39;00m\u001b[38;5;250m \u001b[39m\u001b[34;01mxml\u001b[39;00m\u001b[34;01m.\u001b[39;00m\u001b[34;01mdom\u001b[39;00m\u001b[38;5;250m \u001b[39m\u001b[38;5;28;01mimport\u001b[39;00m expatbuilder\n\u001b[32m-> \u001b[39m\u001b[32m2000\u001b[39m     \u001b[38;5;28;01mreturn\u001b[39;00m \u001b[43mexpatbuilder\u001b[49m\u001b[43m.\u001b[49m\u001b[43mparseString\u001b[49m\u001b[43m(\u001b[49m\u001b[43mstring\u001b[49m\u001b[43m)\u001b[49m\n\u001b[32m   2001\u001b[39m \u001b[38;5;28;01melse\u001b[39;00m:\n\u001b[32m   2002\u001b[39m     \u001b[38;5;28;01mfrom\u001b[39;00m\u001b[38;5;250m \u001b[39m\u001b[34;01mxml\u001b[39;00m\u001b[34;01m.\u001b[39;00m\u001b[34;01mdom\u001b[39;00m\u001b[38;5;250m \u001b[39m\u001b[38;5;28;01mimport\u001b[39;00m pulldom\n",
      "\u001b[36mFile \u001b[39m\u001b[32m~/anaconda3/envs/kaggle/lib/python3.11/xml/dom/expatbuilder.py:925\u001b[39m, in \u001b[36mparseString\u001b[39m\u001b[34m(string, namespaces)\u001b[39m\n\u001b[32m    923\u001b[39m \u001b[38;5;28;01melse\u001b[39;00m:\n\u001b[32m    924\u001b[39m     builder = ExpatBuilder()\n\u001b[32m--> \u001b[39m\u001b[32m925\u001b[39m \u001b[38;5;28;01mreturn\u001b[39;00m \u001b[43mbuilder\u001b[49m\u001b[43m.\u001b[49m\u001b[43mparseString\u001b[49m\u001b[43m(\u001b[49m\u001b[43mstring\u001b[49m\u001b[43m)\u001b[49m\n",
      "\u001b[36mFile \u001b[39m\u001b[32m~/anaconda3/envs/kaggle/lib/python3.11/xml/dom/expatbuilder.py:223\u001b[39m, in \u001b[36mExpatBuilder.parseString\u001b[39m\u001b[34m(self, string)\u001b[39m\n\u001b[32m    221\u001b[39m parser = \u001b[38;5;28mself\u001b[39m.getParser()\n\u001b[32m    222\u001b[39m \u001b[38;5;28;01mtry\u001b[39;00m:\n\u001b[32m--> \u001b[39m\u001b[32m223\u001b[39m     \u001b[43mparser\u001b[49m\u001b[43m.\u001b[49m\u001b[43mParse\u001b[49m\u001b[43m(\u001b[49m\u001b[43mstring\u001b[49m\u001b[43m,\u001b[49m\u001b[43m \u001b[49m\u001b[38;5;28;43;01mTrue\u001b[39;49;00m\u001b[43m)\u001b[49m\n\u001b[32m    224\u001b[39m     \u001b[38;5;28mself\u001b[39m._setup_subset(string)\n\u001b[32m    225\u001b[39m \u001b[38;5;28;01mexcept\u001b[39;00m ParseEscape:\n",
      "\u001b[31mExpatError\u001b[39m: not well-formed (invalid token): line 1, column 0"
     ]
    }
   ],
   "source": [
    "# We can play with our Model and render its SVG output (don't export!)\n",
    "from IPython.display import SVG, display\n",
    "for svg in train[\"svg_code\"]:\n",
    "    display(SVG(svg))"
   ]
  },
  {
   "cell_type": "code",
   "execution_count": null,
   "id": "10a0635b-7cdc-4322-a5e2-32f5ba839531",
   "metadata": {},
   "outputs": [],
   "source": [
    "train"
   ]
  },
  {
   "cell_type": "code",
   "execution_count": null,
   "id": "3035ccdc-64fc-4d02-9d7f-7b5dd33007c9",
   "metadata": {},
   "outputs": [],
   "source": []
  }
 ],
 "metadata": {
  "kaggle": {
   "accelerator": "none",
   "dataSources": [
    {
     "databundleVersionId": 11175052,
     "sourceId": 89659,
     "sourceType": "competition"
    }
   ],
   "isGpuEnabled": false,
   "isInternetEnabled": false,
   "language": "python",
   "sourceType": "notebook"
  },
  "kernelspec": {
   "display_name": "Python 3 (ipykernel)",
   "language": "python",
   "name": "python3"
  },
  "language_info": {
   "codemirror_mode": {
    "name": "ipython",
    "version": 3
   },
   "file_extension": ".py",
   "mimetype": "text/x-python",
   "name": "python",
   "nbconvert_exporter": "python",
   "pygments_lexer": "ipython3",
   "version": "3.11.11"
  },
  "papermill": {
   "default_parameters": {},
   "duration": 6.756759,
   "end_time": "2025-02-26T02:09:27.363350",
   "environment_variables": {},
   "exception": null,
   "input_path": "__notebook__.ipynb",
   "output_path": "__notebook__.ipynb",
   "parameters": {},
   "start_time": "2025-02-26T02:09:20.606591",
   "version": "2.6.0"
  }
 },
 "nbformat": 4,
 "nbformat_minor": 5
}
