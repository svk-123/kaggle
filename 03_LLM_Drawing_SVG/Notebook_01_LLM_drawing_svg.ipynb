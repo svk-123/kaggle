{
 "cells": [
  {
   "cell_type": "markdown",
   "id": "f506feee-98f0-4106-a53a-ccbff09b3ce3",
   "metadata": {},
   "source": [
    "### https://www.kaggle.com/competitions/drawing-with-llms"
   ]
  },
  {
   "cell_type": "code",
   "execution_count": 1,
   "id": "e9062a4b-55ec-493c-a31e-f03a3489a374",
   "metadata": {},
   "outputs": [
    {
     "data": {
      "text/html": [
       "<div>\n",
       "<style scoped>\n",
       "    .dataframe tbody tr th:only-of-type {\n",
       "        vertical-align: middle;\n",
       "    }\n",
       "\n",
       "    .dataframe tbody tr th {\n",
       "        vertical-align: top;\n",
       "    }\n",
       "\n",
       "    .dataframe thead th {\n",
       "        text-align: right;\n",
       "    }\n",
       "</style>\n",
       "<table border=\"1\" class=\"dataframe\">\n",
       "  <thead>\n",
       "    <tr style=\"text-align: right;\">\n",
       "      <th></th>\n",
       "      <th>id</th>\n",
       "      <th>description</th>\n",
       "    </tr>\n",
       "  </thead>\n",
       "  <tbody>\n",
       "    <tr>\n",
       "      <th>0</th>\n",
       "      <td>04c411</td>\n",
       "      <td>a starlit night over snow-covered peaks</td>\n",
       "    </tr>\n",
       "    <tr>\n",
       "      <th>1</th>\n",
       "      <td>215136</td>\n",
       "      <td>black and white checkered pants</td>\n",
       "    </tr>\n",
       "    <tr>\n",
       "      <th>2</th>\n",
       "      <td>3e2bc6</td>\n",
       "      <td>crimson rectangles forming a chaotic grid</td>\n",
       "    </tr>\n",
       "    <tr>\n",
       "      <th>3</th>\n",
       "      <td>61d7a8</td>\n",
       "      <td>burgundy corduroy pants with patch pockets and...</td>\n",
       "    </tr>\n",
       "    <tr>\n",
       "      <th>4</th>\n",
       "      <td>6f2ca7</td>\n",
       "      <td>orange corduroy overalls</td>\n",
       "    </tr>\n",
       "  </tbody>\n",
       "</table>\n",
       "</div>"
      ],
      "text/plain": [
       "       id                                        description\n",
       "0  04c411            a starlit night over snow-covered peaks\n",
       "1  215136                    black and white checkered pants\n",
       "2  3e2bc6          crimson rectangles forming a chaotic grid\n",
       "3  61d7a8  burgundy corduroy pants with patch pockets and...\n",
       "4  6f2ca7                           orange corduroy overalls"
      ]
     },
     "execution_count": 1,
     "metadata": {},
     "output_type": "execute_result"
    }
   ],
   "source": [
    "import kagglehub\n",
    "import pandas as pd\n",
    "\n",
    "train_path = kagglehub.competition_download('drawing-with-llms', 'train.csv')\n",
    "train = pd.read_csv(train_path)\n",
    "\n",
    "train.head()"
   ]
  },
  {
   "cell_type": "code",
   "execution_count": 2,
   "id": "14045bdd-8b5c-483b-b17f-1fb34ffb0fb6",
   "metadata": {},
   "outputs": [
    {
     "name": "stdout",
     "output_type": "stream",
     "text": [
      "🦥 Unsloth: Will patch your computer to enable 2x faster free finetuning.\n",
      "🦥 Unsloth Zoo will now patch everything to make training faster!\n",
      "==((====))==  Unsloth 2025.2.15: Fast Llama patching. Transformers: 4.49.0.\n",
      "   \\\\   /|    GPU: NVIDIA GeForce RTX 4070 Ti SUPER. Max memory: 15.693 GB. Platform: Linux.\n",
      "O^O/ \\_/ \\    Torch: 2.6.0+cu124. CUDA: 8.9. CUDA Toolkit: 12.4. Triton: 3.2.0\n",
      "\\        /    Bfloat16 = TRUE. FA [Xformers = 0.0.29.post3. FA2 = False]\n",
      " \"-____-\"     Free Apache license: http://github.com/unslothai/unsloth\n",
      "Unsloth: Fast downloading is enabled - ignore downloading bars which are red colored!\n"
     ]
    }
   ],
   "source": [
    "from unsloth import FastLanguageModel\n",
    "import torch\n",
    "\n",
    "max_seq_length = 2048  # Choose any! We auto support RoPE Scaling internally!\n",
    "dtype = (\n",
    "    None  # None for auto detection. Float16 for Tesla T4, V100, Bfloat16 for Ampere+\n",
    ")\n",
    "load_in_4bit = False # Use 4bit quantization to reduce memory usage. Can be False.\n",
    "\n",
    "# 4bit pre quantized models we support for 4x faster downloading + no OOMs.\n",
    "fourbit_models = [\n",
    "    \"unsloth/Meta-Llama-3.1-8B-bnb-4bit\",  # Llama-3.1 15 trillion tokens model 2x faster!\n",
    "    \"unsloth/Meta-Llama-3.1-8B-Instruct-bnb-4bit\",\n",
    "    \"unsloth/Meta-Llama-3.1-70B-bnb-4bit\",\n",
    "    \"unsloth/Meta-Llama-3.1-405B-bnb-4bit\",  # We also uploaded 4bit for 405b!\n",
    "    \"unsloth/Mistral-Nemo-Base-2407-bnb-4bit\",  # New Mistral 12b 2x faster!\n",
    "    \"unsloth/Mistral-Nemo-Instruct-2407-bnb-4bit\",\n",
    "    \"unsloth/mistral-7b-v0.3-bnb-4bit\",  # Mistral v3 2x faster!\n",
    "    \"unsloth/mistral-7b-instruct-v0.3-bnb-4bit\",\n",
    "    \"unsloth/Phi-3.5-mini-instruct\",  # Phi-3.5 2x faster!\n",
    "    \"unsloth/Phi-3-medium-4k-instruct\",\n",
    "    \"unsloth/gemma-2-9b-bnb-4bit\",\n",
    "    \"unsloth/gemma-2-27b-bnb-4bit\",  # Gemma 2x faster!\n",
    "]  # More models at https://huggingface.co/unsloth\n",
    "\n",
    "model, tokenizer = FastLanguageModel.from_pretrained(\n",
    "    model_name=\"unsloth/Llama-3.2-3B-Instruct\",\n",
    "    max_seq_length=max_seq_length,\n",
    "    dtype=dtype,\n",
    "    load_in_4bit=load_in_4bit,\n",
    "    # token = \"hf_...\", # use one if using gated models like meta-llama/Llama-2-7b-hf\n",
    ")"
   ]
  },
  {
   "cell_type": "code",
   "execution_count": 3,
   "id": "73f6e2f5-ca36-40a4-922d-2f90ad2af3b5",
   "metadata": {},
   "outputs": [
    {
     "name": "stderr",
     "output_type": "stream",
     "text": [
      "Unsloth: Will map <|im_end|> to EOS = <|eot_id|>.\n"
     ]
    }
   ],
   "source": [
    "import re\n",
    "import json\n",
    "from unsloth.chat_templates import get_chat_template\n",
    "\n",
    "# Define your tokenizer with a flexible chat template\n",
    "tokenizer = get_chat_template(\n",
    "    tokenizer,\n",
    "    chat_template=\"chatml\",  # Flexible for multiple models (Zephyr, LLaMA, Mistral, etc.)\n",
    "    mapping={\n",
    "        \"role\": \"from\", \n",
    "        \"content\": \"value\", \n",
    "        \"user\": \"human\", \n",
    "        \"assistant\": \"gpt\"\n",
    "    },\n",
    "    map_eos_token=True,  # Ensures <|im_end|> maps to </s> for end-of-sentence\n",
    ")\n",
    "\n",
    "# Enable faster inference (2x speed up)\n",
    "FastLanguageModel.for_inference(model)\n",
    "\n",
    "def get_svg_code(text):\n",
    "    \"\"\"\n",
    "    This function generates a minimal, valid SVG based on the provided text input.\n",
    "    \"\"\"\n",
    "\n",
    "    # Structured chat template for SVG generation request\n",
    "    messages = [\n",
    "        {\n",
    "            \"from\": \"system\", \n",
    "            \"value\": \"You are a helpful assistant specialized in generating minimal, valid SVG code\"\n",
    "        },\n",
    "        {\n",
    "            \"from\": \"human\", \n",
    "            \"value\": f\"Now, create an SVG based on the following topic: {text}\"\n",
    "        }\n",
    "    ]\n",
    "    \n",
    "    # Apply the tokenizer and prepare the inputs for the model\n",
    "    inputs = tokenizer.apply_chat_template(\n",
    "        messages,\n",
    "        tokenize=True,\n",
    "        padding=True,\n",
    "        truncation=False,\n",
    "        add_generation_prompt=True,  # Necessary for generation to work\n",
    "        return_tensors=\"pt\",\n",
    "    ).to(\"cuda\")\n",
    "    \n",
    "    # Create an attention mask to avoid padding interference during inference\n",
    "    attention_mask = (inputs != tokenizer.pad_token_id).int() \n",
    "\n",
    "    # Generate output using the model\n",
    "    outputs = model.generate(\n",
    "        input_ids=inputs,\n",
    "        attention_mask=attention_mask,\n",
    "        temperature=0.5,  # Low temperature for deterministic results\n",
    "        max_new_tokens=2048,  # Adjust max tokens if needed\n",
    "        use_cache=True\n",
    "    )\n",
    "    \n",
    "    # Decode and return the unformatted output (processed into a clean response)\n",
    "    unformatted_output = tokenizer.decode(outputs[0], skip_special_tokens=True)\n",
    "    \n",
    "    return unformatted_output\n",
    "\n"
   ]
  },
  {
   "cell_type": "code",
   "execution_count": 4,
   "id": "9e2bba70-5043-41a7-b7e5-63d85bf9bcf2",
   "metadata": {},
   "outputs": [],
   "source": [
    "train['response']=train['description'].apply(get_svg_code)"
   ]
  },
  {
   "cell_type": "code",
   "execution_count": 5,
   "id": "993d8976-454b-4c58-8010-17ccaa6d1861",
   "metadata": {},
   "outputs": [],
   "source": [
    "# # We can play with our Model and render its SVG output (don't export!)\n",
    "# from IPython.display import SVG, display\n",
    "# display(SVG(tmp))"
   ]
  },
  {
   "cell_type": "code",
   "execution_count": 6,
   "id": "55707d5c-6513-49b9-93fb-8cd863bc4ab2",
   "metadata": {},
   "outputs": [
    {
     "name": "stdin",
     "output_type": "stream",
     "text": [
      "\n",
      "WARNING: You are about to execute untrusted code.\n",
      "This code could modify your python environment or operating system.\n",
      "\n",
      "Review this code at https://www.kaggle.com/code/metric/svg-constraints/versions/1\n",
      "or in your download cache at /home/vino/.cache/kagglehub/notebooks/metric/svg-constraints/output/versions/1\n",
      "\n",
      "It is strongly recommended that you run this code within a container\n",
      "such as Docker to provide a secure, isolated execution environment.\n",
      "See https://www.kaggle.com/docs/packages for more information.\n",
      "\n",
      "Do you want to proceed? (y)es/[no]:  y\n"
     ]
    }
   ],
   "source": [
    "## Ref: https://www.kaggle.com/code/ryanholbrook/drawing-with-llms-getting-started-with-gemma-2\n",
    "\n",
    "import concurrent\n",
    "import io\n",
    "import logging\n",
    "import re\n",
    "import re2\n",
    "\n",
    "import cairosvg\n",
    "import kagglehub\n",
    "import torch\n",
    "from lxml import etree\n",
    "from transformers import AutoTokenizer, AutoModelForCausalLM, BitsAndBytesConfig\n",
    "\n",
    "svg_constraints = kagglehub.package_import('metric/svg-constraints')\n",
    "\n",
    "DEVICE = torch.device(\"cuda\" if torch.cuda.is_available() else \"cpu\")\n",
    "\n",
    "\n",
    "class Model:\n",
    "    def __init__(self):\n",
    "\n",
    "        self.prompt_template = \"\"\"Generate SVG code to visually represent the following text description, while respecting the given constraints.\n",
    "        <constraints>\n",
    "        * **Allowed Elements:** `svg`, `path`, `circle`, `rect`, `ellipse`, `line`, `polyline`, `polygon`, `g`, `linearGradient`, `radialGradient`, `stop`, `defs`\n",
    "        * **Allowed Attributes:** `viewBox`, `width`, `height`, `fill`, `stroke`, `stroke-width`, `d`, `cx`, `cy`, `r`, `x`, `y`, `rx`, `ry`, `x1`, `y1`, `x2`, `y2`, `points`, `transform`, `opacity`\n",
    "        </constraints>\n",
    "        \n",
    "        <example>\n",
    "        <description>\"A red circle with a blue square inside\"</description>\n",
    "        ```svg\n",
    "        <svg viewBox=\"0 0 256 256\" width=\"256\" height=\"256\">\n",
    "          <circle cx=\"50\" cy=\"50\" r=\"40\" fill=\"red\"/>\n",
    "          <rect x=\"30\" y=\"30\" width=\"40\" height=\"40\" fill=\"blue\"/>\n",
    "        </svg>\n",
    "        ```\n",
    "        </example>\n",
    "        \n",
    "        \n",
    "        Please ensure that the generated SVG code is well-formed, valid, and strictly adheres to these constraints. Focus on a clear and concise representation of the input description within the given limitations. Always give the complete SVG code with nothing omitted. Never use an ellipsis.\n",
    "        \n",
    "        <description>\"{}\"</description>\n",
    "        ```svg\n",
    "        <svg viewBox=\"0 0 256 256\" width=\"256\" height=\"256\">\n",
    "        \"\"\"\n",
    "        self.default_svg = \"\"\"<svg width=\"256\" height=\"256\" viewBox=\"0 0 256 256\"><circle cx=\"50\" cy=\"50\" r=\"40\" fill=\"red\" /></svg>\"\"\"\n",
    "        self.constraints = svg_constraints.SVGConstraints()\n",
    "        self.timeout_seconds = 90\n",
    "\n",
    "    # You could try increasing `max_new_tokens`\n",
    "    def predict(self, description: str, max_new_tokens=512) -> str:\n",
    "\n",
    "            return self.default_svg\n",
    "\n",
    "    def enforce_constraints(self, svg_string: str) -> str:\n",
    "        \"\"\"Enforces constraints on an SVG string, removing disallowed elements\n",
    "        and attributes.\n",
    "\n",
    "        Parameters\n",
    "        ----------\n",
    "        svg_string : str\n",
    "            The SVG string to process.\n",
    "\n",
    "        Returns\n",
    "        -------\n",
    "        str\n",
    "            The processed SVG string, or the default SVG if constraints\n",
    "            cannot be satisfied.\n",
    "        \"\"\"\n",
    "        logging.info('Sanitizing SVG...')\n",
    "\n",
    "        try:\n",
    "            parser = etree.XMLParser(remove_blank_text=True, remove_comments=True)\n",
    "            root = etree.fromstring(svg_string, parser=parser)\n",
    "        except etree.ParseError as e:\n",
    "            logging.error('SVG Parse Error: %s. Returning default SVG.', e)\n",
    "            return self.default_svg\n",
    "    \n",
    "        elements_to_remove = []\n",
    "        for element in root.iter():\n",
    "            tag_name = etree.QName(element.tag).localname\n",
    "    \n",
    "            # Remove disallowed elements\n",
    "            if tag_name not in self.constraints.allowed_elements:\n",
    "                elements_to_remove.append(element)\n",
    "                continue  # Skip attribute checks for removed elements\n",
    "    \n",
    "            # Remove disallowed attributes\n",
    "            attrs_to_remove = []\n",
    "            for attr in element.attrib:\n",
    "                attr_name = etree.QName(attr).localname\n",
    "                if (\n",
    "                    attr_name\n",
    "                    not in self.constraints.allowed_elements[tag_name]\n",
    "                    and attr_name\n",
    "                    not in self.constraints.allowed_elements['common']\n",
    "                ):\n",
    "                    attrs_to_remove.append(attr)\n",
    "    \n",
    "            for attr in attrs_to_remove:\n",
    "                logging.debug(\n",
    "                    'Attribute \"%s\" for element \"%s\" not allowed. Removing.',\n",
    "                    attr,\n",
    "                    tag_name,\n",
    "                )\n",
    "                del element.attrib[attr]\n",
    "    \n",
    "            # Check and remove invalid href attributes\n",
    "            for attr, value in element.attrib.items():\n",
    "                 if etree.QName(attr).localname == 'href' and not value.startswith('#'):\n",
    "                    logging.debug(\n",
    "                        'Removing invalid href attribute in element \"%s\".', tag_name\n",
    "                    )\n",
    "                    del element.attrib[attr]\n",
    "\n",
    "            # Validate path elements to help ensure SVG conversion\n",
    "            if tag_name == 'path':\n",
    "                d_attribute = element.get('d')\n",
    "                if not d_attribute:\n",
    "                    logging.warning('Path element is missing \"d\" attribute. Removing path.')\n",
    "                    elements_to_remove.append(element)\n",
    "                    continue # Skip further checks for this removed element\n",
    "                # Use regex to validate 'd' attribute format\n",
    "                path_regex = re2.compile(\n",
    "                    r'^'  # Start of string\n",
    "                    r'(?:'  # Non-capturing group for each command + numbers block\n",
    "                    r'[MmZzLlHhVvCcSsQqTtAa]'  # Valid SVG path commands (adjusted to exclude extra letters)\n",
    "                    r'\\s*'  # Optional whitespace after command\n",
    "                    r'(?:'  # Non-capturing group for optional numbers\n",
    "                    r'-?\\d+(?:\\.\\d+)?(?:[Ee][+-]?\\d+)?'  # First number\n",
    "                    r'(?:[\\s,]+-?\\d+(?:\\.\\d+)?(?:[Ee][+-]?\\d+)?)*'  # Subsequent numbers with mandatory separator(s)\n",
    "                    r')?'  # Numbers are optional (e.g. for Z command)\n",
    "                    r'\\s*'  # Optional whitespace after numbers/command block\n",
    "                    r')+'  # One or more command blocks\n",
    "                    r'\\s*'  # Optional trailing whitespace\n",
    "                    r'$'  # End of string\n",
    "                )\n",
    "                if not path_regex.match(d_attribute):\n",
    "                    logging.warning(\n",
    "                        'Path element has malformed \"d\" attribute format. Removing path.'\n",
    "                    )\n",
    "                    elements_to_remove.append(element)\n",
    "                    continue\n",
    "                logging.debug('Path element \"d\" attribute validated (regex check).')\n",
    "        \n",
    "        # Remove elements marked for removal\n",
    "        for element in elements_to_remove:\n",
    "            if element.getparent() is not None:\n",
    "                element.getparent().remove(element)\n",
    "                logging.debug('Removed element: %s', element.tag)\n",
    "\n",
    "        try:\n",
    "            cleaned_svg_string = etree.tostring(root, encoding='unicode')\n",
    "            return cleaned_svg_string\n",
    "        except ValueError as e:\n",
    "            logging.error(\n",
    "                'SVG could not be sanitized to meet constraints: %s', e\n",
    "            )\n",
    "            return self.default_svg"
   ]
  },
  {
   "cell_type": "code",
   "execution_count": 8,
   "id": "9f8837eb-e83e-40da-890f-b4b8255a33bc",
   "metadata": {},
   "outputs": [],
   "source": [
    "import re\n",
    "\n",
    "default_svg = \"\"\"<svg width=\"256\" height=\"256\" viewBox=\"0 0 256 256\"><circle cx=\"50\" cy=\"50\" r=\"40\" fill=\"red\" /></svg>\"\"\"\n",
    "\n",
    "# Assuming train is a DataFrame with an existing 'svg_code' column\n",
    "train['svg_code'] = default_svg  # Initialize the 'clean_svg_code' column with the default SVG\n",
    "\n",
    "# Iterate over the first 15 rows in the 'svg_code' column\n",
    "for i in range(15):\n",
    "    # Regex to extract all SVGs from the string in the 'svg_code' column\n",
    "    svg_matches = re.findall(r'\\n(<svg.*?</svg>)\\n', train.loc[i, 'response'], re.DOTALL)\n",
    "    \n",
    "    # Check if any SVGs were found\n",
    "    if svg_matches:\n",
    "        # Update with the last SVG in the matches (if there are multiple)\n",
    "        train.loc[i, 'svg_code'] = svg_matches[-1]\n",
    "\n",
    "    else:\n",
    "        # If no SVG is found, keep the default SVG\n",
    "        train.loc[i, 'svg_code'] = default_svg\n",
    "\n"
   ]
  },
  {
   "cell_type": "code",
   "execution_count": 9,
   "id": "999493fd-0e59-4cd1-b938-a17ac72bd333",
   "metadata": {},
   "outputs": [
    {
     "data": {
      "text/plain": [
       "0     <svg xmlns=\"http://www.w3.org/2000/svg\" viewBo...\n",
       "1     <svg xmlns=\"http://www.w3.org/2000/svg\" viewBo...\n",
       "2     <svg width=\"600\" height=\"600\" viewBox=\"0 0 600...\n",
       "3     <svg width=\"256\" height=\"256\" viewBox=\"0 0 256...\n",
       "4     <svg xmlns=\"http://www.w3.org/2000/svg\" width=...\n",
       "5     <svg width=\"400\" height=\"400\" viewBox=\"0 0 400...\n",
       "6     <svg xmlns=\"http://www.w3.org/2000/svg\" viewBo...\n",
       "7     <svg xmlns=\"http://www.w3.org/2000/svg\" width=...\n",
       "8     <svg width=\"256\" height=\"256\" viewBox=\"0 0 256...\n",
       "9     <svg width=\"256\" height=\"256\" viewBox=\"0 0 256...\n",
       "10    <svg width=\"300\" height=\"300\" xmlns=\"http://ww...\n",
       "11    <svg width=\"200\" height=\"300\">\\n  <rect x=\"0\" ...\n",
       "12    <svg xmlns=\"http://www.w3.org/2000/svg\" width=...\n",
       "13    <svg width=\"400\" height=\"400\" viewBox=\"0 0 400...\n",
       "14    <svg width=\"100%\" height=\"100%\" viewBox=\"0 0 1...\n",
       "Name: svg_code, dtype: object"
      ]
     },
     "execution_count": 9,
     "metadata": {},
     "output_type": "execute_result"
    }
   ],
   "source": [
    "train['svg_code']"
   ]
  },
  {
   "cell_type": "code",
   "execution_count": 10,
   "id": "8286844d-2043-4839-893c-b260779990f6",
   "metadata": {},
   "outputs": [],
   "source": [
    "model=Model()"
   ]
  },
  {
   "cell_type": "code",
   "execution_count": 17,
   "id": "1cf45887-2b51-418b-863d-a6e3ebda3c09",
   "metadata": {},
   "outputs": [
    {
     "name": "stderr",
     "output_type": "stream",
     "text": [
      "WARNING:root:Path element has malformed \"d\" attribute format. Removing path.\n",
      "WARNING:root:Path element has malformed \"d\" attribute format. Removing path.\n",
      "WARNING:root:Path element has malformed \"d\" attribute format. Removing path.\n",
      "WARNING:root:Path element has malformed \"d\" attribute format. Removing path.\n",
      "WARNING:root:Path element has malformed \"d\" attribute format. Removing path.\n",
      "WARNING:root:Path element has malformed \"d\" attribute format. Removing path.\n",
      "WARNING:root:Path element has malformed \"d\" attribute format. Removing path.\n",
      "WARNING:root:Path element has malformed \"d\" attribute format. Removing path.\n",
      "WARNING:root:Path element has malformed \"d\" attribute format. Removing path.\n",
      "WARNING:root:Path element has malformed \"d\" attribute format. Removing path.\n"
     ]
    },
    {
     "name": "stdout",
     "output_type": "stream",
     "text": [
      "<svg xmlns=\"http://www.w3.org/2000/svg\" viewBox=\"0 0 1000 1000\" width=\"1000\" height=\"1000\"><rect x=\"0\" y=\"0\" width=\"1000\" height=\"1000\" fill=\"#2c3e50\" rx=\"10\"/><rect x=\"0\" y=\"0\" width=\"1000\" height=\"1000\" fill=\"#1a1d23\" opacity=\"0.5\" rx=\"10\"/><circle cx=\"500\" cy=\"500\" r=\"2\" fill=\"#fff\"/><circle cx=\"550\" cy=\"550\" r=\"2\" fill=\"#fff\"/><circle cx=\"600\" cy=\"600\" r=\"2\" fill=\"#fff\"/><circle cx=\"650\" cy=\"650\" r=\"2\" fill=\"#fff\"/><circle cx=\"700\" cy=\"700\" r=\"2\" fill=\"#fff\"/><circle cx=\"750\" cy=\"750\" r=\"2\" fill=\"#fff\"/><circle cx=\"800\" cy=\"800\" r=\"2\" fill=\"#fff\"/><circle cx=\"850\" cy=\"850\" r=\"2\" fill=\"#fff\"/><circle cx=\"900\" cy=\"900\" r=\"2\" fill=\"#fff\"/><circle cx=\"950\" cy=\"950\" r=\"2\" fill=\"#fff\"/><circle cx=\"500\" cy=\"450\" r=\"30\" fill=\"#fff\"/></svg>\n",
      "------------------------------------------------------------\n",
      "<svg xmlns=\"http://www.w3.org/2000/svg\" viewBox=\"0 0 100 100\"><rect x=\"0\" y=\"0\" width=\"100%\" height=\"100%\" fill=\"#000000\"/><rect x=\"0\" y=\"0\" width=\"50%\" height=\"100%\" fill=\"#FFFFFF\" rx=\"10\"/><rect x=\"50%\" y=\"0\" width=\"50%\" height=\"100%\" fill=\"#FFFFFF\" rx=\"10\"/></svg>\n",
      "------------------------------------------------------------\n",
      "<svg xmlns=\"http://www.w3.org/2000/svg\" width=\"600\" height=\"600\" viewBox=\"0 0 600 600\"><rect x=\"10\" y=\"10\" width=\"50\" height=\"50\" fill=\"#8B0A1A\" rx=\"5\"/><rect x=\"70\" y=\"70\" width=\"30\" height=\"30\" fill=\"#8B0A1A\" rx=\"5\"/><rect x=\"140\" y=\"140\" width=\"20\" height=\"20\" fill=\"#8B0A1A\" rx=\"5\"/><rect x=\"210\" y=\"210\" width=\"40\" height=\"40\" fill=\"#8B0A1A\" rx=\"5\"/><rect x=\"280\" y=\"280\" width=\"50\" height=\"50\" fill=\"#8B0A1A\" rx=\"5\"/><rect x=\"350\" y=\"350\" width=\"30\" height=\"30\" fill=\"#8B0A1A\" rx=\"5\"/><rect x=\"420\" y=\"420\" width=\"20\" height=\"20\" fill=\"#8B0A1A\" rx=\"5\"/><rect x=\"490\" y=\"490\" width=\"40\" height=\"40\" fill=\"#8B0A1A\" rx=\"5\"/><rect x=\"560\" y=\"560\" width=\"50\" height=\"50\" fill=\"#8B0A1A\" rx=\"5\"/><rect x=\"10\" y=\"560\" width=\"50\" height=\"50\" fill=\"#8B0A1A\" rx=\"5\"/><rect x=\"70\" y=\"10\" width=\"30\" height=\"30\" fill=\"#8B0A1A\" rx=\"5\"/><rect x=\"140\" y=\"70\" width=\"20\" height=\"20\" fill=\"#8B0A1A\" rx=\"5\"/><rect x=\"210\" y=\"140\" width=\"40\" height=\"40\" fill=\"#8B0A1A\" rx=\"5\"/><rect x=\"280\" y=\"210\" width=\"50\" height=\"50\" fill=\"#8B0A1A\" rx=\"5\"/><rect x=\"350\" y=\"280\" width=\"30\" height=\"30\" fill=\"#8B0A1A\" rx=\"5\"/><rect x=\"420\" y=\"350\" width=\"20\" height=\"20\" fill=\"#8B0A1A\" rx=\"5\"/><rect x=\"490\" y=\"420\" width=\"40\" height=\"40\" fill=\"#8B0A1A\" rx=\"5\"/><rect x=\"560\" y=\"490\" width=\"50\" height=\"50\" fill=\"#8B0A1A\" rx=\"5\"/></svg>\n",
      "------------------------------------------------------------\n",
      "<svg width=\"256\" height=\"256\" viewBox=\"0 0 256 256\"><circle cx=\"50\" cy=\"50\" r=\"40\" fill=\"red\"/></svg>\n",
      "------------------------------------------------------------\n",
      "<svg xmlns=\"http://www.w3.org/2000/svg\" width=\"200\" height=\"200\"><rect x=\"50\" y=\"50\" width=\"100\" height=\"100\" fill=\"#FF9900\" rx=\"10\"/><path d=\"M 50 150 L 150 150\" stroke=\"#FF9900\" stroke-width=\"5\" fill=\"none\"/><path d=\"M 50 150 L 50 100\" stroke=\"#FF9900\" stroke-width=\"5\" fill=\"none\"/><rect x=\"60\" y=\"120\" width=\"20\" height=\"20\" fill=\"#FF9900\" rx=\"5\"/><rect x=\"80\" y=\"120\" width=\"20\" height=\"20\" fill=\"#FF9900\" rx=\"5\"/><circle cx=\"80\" cy=\"140\" r=\"10\" fill=\"#FF9900\"/></svg>\n",
      "------------------------------------------------------------\n",
      "<svg xmlns=\"http://www.w3.org/2000/svg\" width=\"400\" height=\"400\" viewBox=\"0 0 400 400\"><circle cx=\"200\" cy=\"50\" r=\"50\" fill=\"#FFFFFF\" stroke=\"#000000\" stroke-width=\"4\"/><circle cx=\"200\" cy=\"50\" r=\"30\" fill=\"#FFFFFF\" stroke=\"#000000\" stroke-width=\"2\"/><path d=\"M 200,50 C 150,50 150,30 200,30 L 200,10\" stroke=\"#000000\" stroke-width=\"2\"/><path d=\"M 200,30 L 250,30\" stroke=\"#000000\" stroke-width=\"2\"/><path d=\"M 200,30 L 150,30\" stroke=\"#000000\" stroke-width=\"2\"/><rect x=\"0\" y=\"50\" width=\"400\" height=\"350\" fill=\"#000000\"/><circle cx=\"200\" cy=\"200\" r=\"150\" fill=\"#000000\"/><path d=\"M 200,200 C 220,210 240,210 260,200\" stroke=\"#FFFFFF\" stroke-width=\"2\"/><path d=\"M 200,200 C 180,210 160,210 140,200\" stroke=\"#FFFFFF\" stroke-width=\"2\"/><path d=\"M 200,200 C 180,190 160,190 140,180\" stroke=\"#FFFFFF\" stroke-width=\"2\"/><path d=\"M 200,200 C 220,190 240,190 260,180\" stroke=\"#FFFFFF\" stroke-width=\"2\"/></svg>\n",
      "------------------------------------------------------------\n",
      "<svg xmlns=\"http://www.w3.org/2000/svg\" viewBox=\"0 0 100 100\"><rect x=\"0\" y=\"0\" width=\"100\" height=\"100\" fill=\"#87CEEB\" rx=\"10\"/><rect x=\"0\" y=\"0\" width=\"100\" height=\"100\" fill=\"#87CEEB\" opacity=\"0.5\"/><ellipse cx=\"50\" cy=\"20\" rx=\"30\" ry=\"20\" fill=\"#FFFFFF\" opacity=\"0.2\"/><ellipse cx=\"30\" cy=\"40\" rx=\"20\" ry=\"20\" fill=\"#FFFFFF\" opacity=\"0.2\"/><ellipse cx=\"70\" cy=\"40\" rx=\"20\" ry=\"20\" fill=\"#FFFFFF\" opacity=\"0.2\"/><rect x=\"20\" y=\"50\" width=\"60\" height=\"30\" fill=\"#34C759\" rx=\"10\"/><rect x=\"25\" y=\"55\" width=\"50\" height=\"20\" fill=\"#34C759\" rx=\"5\"/></svg>\n",
      "------------------------------------------------------------\n",
      "<svg xmlns=\"http://www.w3.org/2000/svg\" width=\"100%\" height=\"100%\"><rect x=\"0\" y=\"0\" width=\"100%\" height=\"100%\" fill=\"#f2f2f2\" rx=\"10\"/><rect x=\"0\" y=\"0\" width=\"100%\" height=\"100%\" fill=\"#ffffff\" rx=\"10\"/><rect x=\"0\" y=\"0\" width=\"100%\" height=\"100%\" fill=\"#ffffff\" rx=\"10\"/><path d=\"M 0 0 L 0 100 L 100 100 L 100 0 Z\" stroke=\"#ffffff\" stroke-width=\"2\" fill=\"none\"/><path d=\"M 50 50 L 50 90 L 90 90 L 90 50 Z\" stroke=\"#ffffff\" stroke-width=\"2\" fill=\"none\"/><path d=\"M 70 70 L 70 100 L 100 100 L 100 70 Z\" stroke=\"#ffffff\" stroke-width=\"2\" fill=\"none\"/><path d=\"M 30 30 L 30 70 L 70 70 L 70 30 Z\" stroke=\"#ffffff\" stroke-width=\"2\" fill=\"none\"/><path d=\"M 80 80 L 80 110 L 110 110 L 110 80 Z\" stroke=\"#ffffff\" stroke-width=\"2\" fill=\"none\"/><path d=\"M 10 10 L 10 50 L 50 50 L 50 10 Z\" stroke=\"#ffffff\" stroke-width=\"2\" fill=\"none\"/><path d=\"M 40 40 L 40 80 L 80 80 L 80 40 Z\" stroke=\"#ffffff\" stroke-width=\"2\" fill=\"none\"/><path d=\"M 60 60 L 60 100 L 100 100 L 100 60 Z\" stroke=\"#ffffff\" stroke-width=\"2\" fill=\"none\"/></svg>\n",
      "------------------------------------------------------------\n",
      "<svg width=\"256\" height=\"256\" viewBox=\"0 0 256 256\"><circle cx=\"50\" cy=\"50\" r=\"40\" fill=\"red\"/></svg>\n",
      "------------------------------------------------------------\n",
      "<svg width=\"256\" height=\"256\" viewBox=\"0 0 256 256\"><circle cx=\"50\" cy=\"50\" r=\"40\" fill=\"red\"/></svg>\n",
      "------------------------------------------------------------\n",
      "<svg xmlns=\"http://www.w3.org/2000/svg\" width=\"300\" height=\"300\"><rect x=\"0\" y=\"0\" width=\"300\" height=\"300\" fill=\"rgba(192,192,192,0.5)\"/><polygon points=\"100,50 150,100 50,100\" fill=\"#FF69B4\" stroke=\"black\" stroke-width=\"2\"/></svg>\n",
      "------------------------------------------------------------\n",
      "<svg width=\"200\" height=\"300\"><rect x=\"0\" y=\"0\" width=\"200\" height=\"300\" fill=\"#ccc\" rx=\"5\"/><rect x=\"5\" y=\"5\" width=\"190\" height=\"290\" fill=\"#ddd\" rx=\"5\"/><rect x=\"10\" y=\"10\" width=\"180\" height=\"280\" fill=\"#aaa\" rx=\"5\"/><rect x=\"15\" y=\"15\" width=\"170\" height=\"270\" fill=\"#666\" rx=\"5\"/><rect x=\"20\" y=\"20\" width=\"160\" height=\"260\" fill=\"#555\" rx=\"5\"/><rect x=\"25\" y=\"25\" width=\"150\" height=\"250\" fill=\"#444\" rx=\"5\"/><rect x=\"30\" y=\"30\" width=\"140\" height=\"240\" fill=\"#333\" rx=\"5\"/><rect x=\"35\" y=\"35\" width=\"130\" height=\"230\" fill=\"#222\" rx=\"5\"/><rect x=\"40\" y=\"40\" width=\"120\" height=\"220\" fill=\"#111\" rx=\"5\"/><rect x=\"45\" y=\"45\" width=\"110\" height=\"210\" fill=\"#000\" rx=\"5\"/><path d=\"M 50 50 L 100 100 L 150 150 L 50 50\" stroke=\"#000\" stroke-width=\"2\"/><path d=\"M 50 50 L 100 100 L 150 150 L 50 50\" stroke=\"#666\" stroke-width=\"1\"/></svg>\n",
      "------------------------------------------------------------\n",
      "<svg xmlns=\"http://www.w3.org/2000/svg\" width=\"800\" height=\"600\"><rect x=\"0\" y=\"0\" width=\"800\" height=\"200\" fill=\"#C7B8EA\" rx=\"10\"/><rect x=\"0\" y=\"200\" width=\"800\" height=\"400\" fill=\"#87CEEB\" rx=\"10\"/><g transform=\"translate(100, 250)\"><circle cx=\"0\" cy=\"0\" r=\"20\" fill=\"#800080\" stroke=\"#000\" stroke-width=\"2\"/><circle cx=\"0\" cy=\"0\" r=\"30\" fill=\"#6c5ce7\" stroke=\"#000\" stroke-width=\"2\"/><circle cx=\"0\" cy=\"0\" r=\"40\" fill=\"#8f0a8f\" stroke=\"#000\" stroke-width=\"2\"/><circle cx=\"0\" cy=\"0\" r=\"50\" fill=\"#b300b3\" stroke=\"#000\" stroke-width=\"2\"/></g><circle cx=\"400\" cy=\"300\" r=\"50\" fill=\"#FFC080\" stroke=\"#000\" stroke-width=\"2\"/><g transform=\"translate(100, 250)\"><rect x=\"-20\" y=\"0\" width=\"40\" height=\"40\" fill=\"#800080\" opacity=\"0.5\"/><rect x=\"-20\" y=\"0\" width=\"40\" height=\"40\" fill=\"#6c5ce7\" opacity=\"0.5\"/><rect x=\"-20\" y=\"0\" width=\"40\" height=\"40\" fill=\"#8f0a8f\" opacity=\"0.5\"/><rect x=\"-20\" y=\"0\" width=\"40\" height=\"40\" fill=\"#b300b3\" opacity=\"0.5\"/></g></svg>\n",
      "------------------------------------------------------------\n",
      "<svg xmlns=\"http://www.w3.org/2000/svg\" width=\"400\" height=\"400\" viewBox=\"0 0 400 400\"><circle cx=\"200\" cy=\"200\" r=\"150\" fill=\"#964B00\" stroke=\"#964B00\" stroke-width=\"2\"/><path d=\"M 200,200 L 200,350\" fill=\"#7A288A\" stroke=\"#7A288A\" stroke-width=\"2\"/><path d=\"M 200,350 L 250,350\" fill=\"#7A288A\" stroke=\"#7A288A\" stroke-width=\"2\"/><path d=\"M 200,350 L 250,250\" fill=\"#7A288A\" stroke=\"#7A288A\" stroke-width=\"2\"/><path d=\"M 250,250 L 250,350\" fill=\"#7A288A\" stroke=\"#7A288A\" stroke-width=\"2\"/><path d=\"M 250,350 L 200,350\" fill=\"#7A288A\" stroke=\"#7A288A\" stroke-width=\"2\"/><path d=\"M 200,200 L 220,220\" fill=\"#7A288A\" stroke=\"#7A288A\" stroke-width=\"2\"/><path d=\"M 220,220 L 240,240\" fill=\"#7A288A\" stroke=\"#7A288A\" stroke-width=\"2\"/><path d=\"M 240,240 L 260,260\" fill=\"#7A288A\" stroke=\"#7A288A\" stroke-width=\"2\"/><path d=\"M 260,260 L 280,280\" fill=\"#7A288A\" stroke=\"#7A288A\" stroke-width=\"2\"/><path d=\"M 280,280 L 300,300\" fill=\"#7A288A\" stroke=\"#7A288A\" stroke-width=\"2\"/><path d=\"M 300,300 L 320,320\" fill=\"#7A288A\" stroke=\"#7A288A\" stroke-width=\"2\"/><path d=\"M 320,320 L 340,340\" fill=\"#7A288A\" stroke=\"#7A288A\" stroke-width=\"2\"/><path d=\"M 340,340 L 360,360\" fill=\"#7A288A\" stroke=\"#7A288A\" stroke-width=\"2\"/><path d=\"M 360,360 L 380,380\" fill=\"#7A288A\" stroke=\"#7A288A\" stroke-width=\"2\"/><path d=\"M 380,380 L 400,400\" fill=\"#7A288A\" stroke=\"#7A288A\" stroke-width=\"2\"/></svg>\n",
      "------------------------------------------------------------\n",
      "<svg xmlns=\"http://www.w3.org/2000/svg\" width=\"100%\" height=\"100%\" viewBox=\"0 0 100 100\"><path d=\"M 50,0 L 75,100 L 25,100 Z\" stroke=\"#F5DEB3\" stroke-width=\"2\" fill=\"none\"/><path d=\"M 50,0 L 75,0 L 25,0 Z\" stroke=\"#F5DEB3\" stroke-width=\"2\" fill=\"none\"/><path d=\"M 50,50 L 75,75 L 25,75 Z\" stroke=\"#007FFF\" stroke-width=\"2\" fill=\"none\"/><path d=\"M 50,50 L 75,0 L 25,0 Z\" stroke=\"#007FFF\" stroke-width=\"2\" fill=\"none\"/></svg>\n",
      "------------------------------------------------------------\n"
     ]
    }
   ],
   "source": [
    "train['svg_code_clean']=train['svg_code'].copy()\n",
    "for i in range(15):\n",
    "    train.loc[i,'svg_code_clean']=model.enforce_constraints(train.loc[i,'svg_code'])\n",
    "    print(train.loc[i,'svg_code_clean'])\n",
    "    print('--' * 30)"
   ]
  },
  {
   "cell_type": "code",
   "execution_count": 15,
   "id": "1126acaf-f709-4529-9407-639e6eaffc4c",
   "metadata": {},
   "outputs": [
    {
     "data": {
      "text/html": [
       "<div>\n",
       "<style scoped>\n",
       "    .dataframe tbody tr th:only-of-type {\n",
       "        vertical-align: middle;\n",
       "    }\n",
       "\n",
       "    .dataframe tbody tr th {\n",
       "        vertical-align: top;\n",
       "    }\n",
       "\n",
       "    .dataframe thead th {\n",
       "        text-align: right;\n",
       "    }\n",
       "</style>\n",
       "<table border=\"1\" class=\"dataframe\">\n",
       "  <thead>\n",
       "    <tr style=\"text-align: right;\">\n",
       "      <th></th>\n",
       "      <th>id</th>\n",
       "      <th>description</th>\n",
       "      <th>response</th>\n",
       "      <th>clean_svg_code</th>\n",
       "      <th>svg_code</th>\n",
       "      <th>svg_code_clean</th>\n",
       "    </tr>\n",
       "  </thead>\n",
       "  <tbody>\n",
       "    <tr>\n",
       "      <th>0</th>\n",
       "      <td>04c411</td>\n",
       "      <td>a starlit night over snow-covered peaks</td>\n",
       "      <td>&lt;|im_start|&gt;system\\nYou are a helpful assistan...</td>\n",
       "      <td>&lt;svg width=\"256\" height=\"256\" viewBox=\"0 0 256...</td>\n",
       "      <td>&lt;svg xmlns=\"http://www.w3.org/2000/svg\" viewBo...</td>\n",
       "      <td>&lt;svg xmlns=\"http://www.w3.org/2000/svg\" viewBo...</td>\n",
       "    </tr>\n",
       "    <tr>\n",
       "      <th>1</th>\n",
       "      <td>215136</td>\n",
       "      <td>black and white checkered pants</td>\n",
       "      <td>&lt;|im_start|&gt;system\\nYou are a helpful assistan...</td>\n",
       "      <td>&lt;svg width=\"256\" height=\"256\" viewBox=\"0 0 256...</td>\n",
       "      <td>&lt;svg xmlns=\"http://www.w3.org/2000/svg\" viewBo...</td>\n",
       "      <td>&lt;svg xmlns=\"http://www.w3.org/2000/svg\" viewBo...</td>\n",
       "    </tr>\n",
       "    <tr>\n",
       "      <th>2</th>\n",
       "      <td>3e2bc6</td>\n",
       "      <td>crimson rectangles forming a chaotic grid</td>\n",
       "      <td>&lt;|im_start|&gt;system\\nYou are a helpful assistan...</td>\n",
       "      <td>&lt;svg width=\"256\" height=\"256\" viewBox=\"0 0 256...</td>\n",
       "      <td>&lt;svg width=\"600\" height=\"600\" viewBox=\"0 0 600...</td>\n",
       "      <td>&lt;svg width=\"600\" height=\"600\" viewBox=\"0 0 600...</td>\n",
       "    </tr>\n",
       "    <tr>\n",
       "      <th>3</th>\n",
       "      <td>61d7a8</td>\n",
       "      <td>burgundy corduroy pants with patch pockets and...</td>\n",
       "      <td>&lt;|im_start|&gt;system\\nYou are a helpful assistan...</td>\n",
       "      <td>&lt;svg width=\"256\" height=\"256\" viewBox=\"0 0 256...</td>\n",
       "      <td>&lt;svg width=\"256\" height=\"256\" viewBox=\"0 0 256...</td>\n",
       "      <td>&lt;svg width=\"256\" height=\"256\" viewBox=\"0 0 256...</td>\n",
       "    </tr>\n",
       "    <tr>\n",
       "      <th>4</th>\n",
       "      <td>6f2ca7</td>\n",
       "      <td>orange corduroy overalls</td>\n",
       "      <td>&lt;|im_start|&gt;system\\nYou are a helpful assistan...</td>\n",
       "      <td>&lt;svg width=\"256\" height=\"256\" viewBox=\"0 0 256...</td>\n",
       "      <td>&lt;svg xmlns=\"http://www.w3.org/2000/svg\" width=...</td>\n",
       "      <td>&lt;svg xmlns=\"http://www.w3.org/2000/svg\" width=...</td>\n",
       "    </tr>\n",
       "    <tr>\n",
       "      <th>5</th>\n",
       "      <td>8066ae</td>\n",
       "      <td>a lighthouse overlooking the ocean</td>\n",
       "      <td>&lt;|im_start|&gt;system\\nYou are a helpful assistan...</td>\n",
       "      <td>&lt;svg width=\"256\" height=\"256\" viewBox=\"0 0 256...</td>\n",
       "      <td>&lt;svg width=\"400\" height=\"400\" viewBox=\"0 0 400...</td>\n",
       "      <td>&lt;svg width=\"400\" height=\"400\" viewBox=\"0 0 400...</td>\n",
       "    </tr>\n",
       "    <tr>\n",
       "      <th>6</th>\n",
       "      <td>828a8f</td>\n",
       "      <td>a green lagoon under a cloudy sky</td>\n",
       "      <td>&lt;|im_start|&gt;system\\nYou are a helpful assistan...</td>\n",
       "      <td>&lt;svg width=\"256\" height=\"256\" viewBox=\"0 0 256...</td>\n",
       "      <td>&lt;svg xmlns=\"http://www.w3.org/2000/svg\" viewBo...</td>\n",
       "      <td>&lt;svg xmlns=\"http://www.w3.org/2000/svg\" viewBo...</td>\n",
       "    </tr>\n",
       "    <tr>\n",
       "      <th>7</th>\n",
       "      <td>98f11f</td>\n",
       "      <td>a snowy plain</td>\n",
       "      <td>&lt;|im_start|&gt;system\\nYou are a helpful assistan...</td>\n",
       "      <td>&lt;svg width=\"256\" height=\"256\" viewBox=\"0 0 256...</td>\n",
       "      <td>&lt;svg xmlns=\"http://www.w3.org/2000/svg\" width=...</td>\n",
       "      <td>&lt;svg xmlns=\"http://www.w3.org/2000/svg\" width=...</td>\n",
       "    </tr>\n",
       "    <tr>\n",
       "      <th>8</th>\n",
       "      <td>9ce3c4</td>\n",
       "      <td>a maroon dodecahedron interwoven with teal thr...</td>\n",
       "      <td>&lt;|im_start|&gt;system\\nYou are a helpful assistan...</td>\n",
       "      <td>&lt;svg width=\"256\" height=\"256\" viewBox=\"0 0 256...</td>\n",
       "      <td>&lt;svg width=\"256\" height=\"256\" viewBox=\"0 0 256...</td>\n",
       "      <td>&lt;svg width=\"256\" height=\"256\" viewBox=\"0 0 256...</td>\n",
       "    </tr>\n",
       "    <tr>\n",
       "      <th>9</th>\n",
       "      <td>a9ecbb</td>\n",
       "      <td>a purple silk scarf with tassel trim</td>\n",
       "      <td>&lt;|im_start|&gt;system\\nYou are a helpful assistan...</td>\n",
       "      <td>&lt;svg width=\"256\" height=\"256\" viewBox=\"0 0 256...</td>\n",
       "      <td>&lt;svg width=\"256\" height=\"256\" viewBox=\"0 0 256...</td>\n",
       "      <td>&lt;svg width=\"256\" height=\"256\" viewBox=\"0 0 256...</td>\n",
       "    </tr>\n",
       "    <tr>\n",
       "      <th>10</th>\n",
       "      <td>bf3306</td>\n",
       "      <td>magenta trapezoids layered on a transluscent s...</td>\n",
       "      <td>&lt;|im_start|&gt;system\\nYou are a helpful assistan...</td>\n",
       "      <td>&lt;svg width=\"256\" height=\"256\" viewBox=\"0 0 256...</td>\n",
       "      <td>&lt;svg width=\"300\" height=\"300\" xmlns=\"http://ww...</td>\n",
       "      <td>&lt;svg width=\"300\" height=\"300\" xmlns=\"http://ww...</td>\n",
       "    </tr>\n",
       "    <tr>\n",
       "      <th>11</th>\n",
       "      <td>e2240f</td>\n",
       "      <td>gray wool coat with a faux fur collar</td>\n",
       "      <td>&lt;|im_start|&gt;system\\nYou are a helpful assistan...</td>\n",
       "      <td>&lt;svg width=\"256\" height=\"256\" viewBox=\"0 0 256...</td>\n",
       "      <td>&lt;svg width=\"200\" height=\"300\"&gt;\\n  &lt;rect x=\"0\" ...</td>\n",
       "      <td>&lt;svg width=\"200\" height=\"300\"&gt;\\n  &lt;rect x=\"0\" ...</td>\n",
       "    </tr>\n",
       "    <tr>\n",
       "      <th>12</th>\n",
       "      <td>f02e39</td>\n",
       "      <td>a purple forest at dusk</td>\n",
       "      <td>&lt;|im_start|&gt;system\\nYou are a helpful assistan...</td>\n",
       "      <td>&lt;svg width=\"256\" height=\"256\" viewBox=\"0 0 256...</td>\n",
       "      <td>&lt;svg xmlns=\"http://www.w3.org/2000/svg\" width=...</td>\n",
       "      <td>&lt;svg xmlns=\"http://www.w3.org/2000/svg\" width=...</td>\n",
       "    </tr>\n",
       "    <tr>\n",
       "      <th>13</th>\n",
       "      <td>f6790a</td>\n",
       "      <td>purple pyramids spiraling around a bronze cone</td>\n",
       "      <td>&lt;|im_start|&gt;system\\nYou are a helpful assistan...</td>\n",
       "      <td>&lt;svg width=\"256\" height=\"256\" viewBox=\"0 0 256...</td>\n",
       "      <td>&lt;svg width=\"400\" height=\"400\" viewBox=\"0 0 400...</td>\n",
       "      <td>&lt;svg width=\"400\" height=\"400\" viewBox=\"0 0 400...</td>\n",
       "    </tr>\n",
       "    <tr>\n",
       "      <th>14</th>\n",
       "      <td>f9edd5</td>\n",
       "      <td>khaki triangles and azure crescents</td>\n",
       "      <td>&lt;|im_start|&gt;system\\nYou are a helpful assistan...</td>\n",
       "      <td>&lt;svg width=\"256\" height=\"256\" viewBox=\"0 0 256...</td>\n",
       "      <td>&lt;svg width=\"100%\" height=\"100%\" viewBox=\"0 0 1...</td>\n",
       "      <td>&lt;svg width=\"100%\" height=\"100%\" viewBox=\"0 0 1...</td>\n",
       "    </tr>\n",
       "  </tbody>\n",
       "</table>\n",
       "</div>"
      ],
      "text/plain": [
       "        id                                        description  \\\n",
       "0   04c411            a starlit night over snow-covered peaks   \n",
       "1   215136                    black and white checkered pants   \n",
       "2   3e2bc6          crimson rectangles forming a chaotic grid   \n",
       "3   61d7a8  burgundy corduroy pants with patch pockets and...   \n",
       "4   6f2ca7                           orange corduroy overalls   \n",
       "5   8066ae                 a lighthouse overlooking the ocean   \n",
       "6   828a8f                  a green lagoon under a cloudy sky   \n",
       "7   98f11f                                      a snowy plain   \n",
       "8   9ce3c4  a maroon dodecahedron interwoven with teal thr...   \n",
       "9   a9ecbb               a purple silk scarf with tassel trim   \n",
       "10  bf3306  magenta trapezoids layered on a transluscent s...   \n",
       "11  e2240f              gray wool coat with a faux fur collar   \n",
       "12  f02e39                            a purple forest at dusk   \n",
       "13  f6790a     purple pyramids spiraling around a bronze cone   \n",
       "14  f9edd5                khaki triangles and azure crescents   \n",
       "\n",
       "                                             response  \\\n",
       "0   <|im_start|>system\\nYou are a helpful assistan...   \n",
       "1   <|im_start|>system\\nYou are a helpful assistan...   \n",
       "2   <|im_start|>system\\nYou are a helpful assistan...   \n",
       "3   <|im_start|>system\\nYou are a helpful assistan...   \n",
       "4   <|im_start|>system\\nYou are a helpful assistan...   \n",
       "5   <|im_start|>system\\nYou are a helpful assistan...   \n",
       "6   <|im_start|>system\\nYou are a helpful assistan...   \n",
       "7   <|im_start|>system\\nYou are a helpful assistan...   \n",
       "8   <|im_start|>system\\nYou are a helpful assistan...   \n",
       "9   <|im_start|>system\\nYou are a helpful assistan...   \n",
       "10  <|im_start|>system\\nYou are a helpful assistan...   \n",
       "11  <|im_start|>system\\nYou are a helpful assistan...   \n",
       "12  <|im_start|>system\\nYou are a helpful assistan...   \n",
       "13  <|im_start|>system\\nYou are a helpful assistan...   \n",
       "14  <|im_start|>system\\nYou are a helpful assistan...   \n",
       "\n",
       "                                       clean_svg_code  \\\n",
       "0   <svg width=\"256\" height=\"256\" viewBox=\"0 0 256...   \n",
       "1   <svg width=\"256\" height=\"256\" viewBox=\"0 0 256...   \n",
       "2   <svg width=\"256\" height=\"256\" viewBox=\"0 0 256...   \n",
       "3   <svg width=\"256\" height=\"256\" viewBox=\"0 0 256...   \n",
       "4   <svg width=\"256\" height=\"256\" viewBox=\"0 0 256...   \n",
       "5   <svg width=\"256\" height=\"256\" viewBox=\"0 0 256...   \n",
       "6   <svg width=\"256\" height=\"256\" viewBox=\"0 0 256...   \n",
       "7   <svg width=\"256\" height=\"256\" viewBox=\"0 0 256...   \n",
       "8   <svg width=\"256\" height=\"256\" viewBox=\"0 0 256...   \n",
       "9   <svg width=\"256\" height=\"256\" viewBox=\"0 0 256...   \n",
       "10  <svg width=\"256\" height=\"256\" viewBox=\"0 0 256...   \n",
       "11  <svg width=\"256\" height=\"256\" viewBox=\"0 0 256...   \n",
       "12  <svg width=\"256\" height=\"256\" viewBox=\"0 0 256...   \n",
       "13  <svg width=\"256\" height=\"256\" viewBox=\"0 0 256...   \n",
       "14  <svg width=\"256\" height=\"256\" viewBox=\"0 0 256...   \n",
       "\n",
       "                                             svg_code  \\\n",
       "0   <svg xmlns=\"http://www.w3.org/2000/svg\" viewBo...   \n",
       "1   <svg xmlns=\"http://www.w3.org/2000/svg\" viewBo...   \n",
       "2   <svg width=\"600\" height=\"600\" viewBox=\"0 0 600...   \n",
       "3   <svg width=\"256\" height=\"256\" viewBox=\"0 0 256...   \n",
       "4   <svg xmlns=\"http://www.w3.org/2000/svg\" width=...   \n",
       "5   <svg width=\"400\" height=\"400\" viewBox=\"0 0 400...   \n",
       "6   <svg xmlns=\"http://www.w3.org/2000/svg\" viewBo...   \n",
       "7   <svg xmlns=\"http://www.w3.org/2000/svg\" width=...   \n",
       "8   <svg width=\"256\" height=\"256\" viewBox=\"0 0 256...   \n",
       "9   <svg width=\"256\" height=\"256\" viewBox=\"0 0 256...   \n",
       "10  <svg width=\"300\" height=\"300\" xmlns=\"http://ww...   \n",
       "11  <svg width=\"200\" height=\"300\">\\n  <rect x=\"0\" ...   \n",
       "12  <svg xmlns=\"http://www.w3.org/2000/svg\" width=...   \n",
       "13  <svg width=\"400\" height=\"400\" viewBox=\"0 0 400...   \n",
       "14  <svg width=\"100%\" height=\"100%\" viewBox=\"0 0 1...   \n",
       "\n",
       "                                       svg_code_clean  \n",
       "0   <svg xmlns=\"http://www.w3.org/2000/svg\" viewBo...  \n",
       "1   <svg xmlns=\"http://www.w3.org/2000/svg\" viewBo...  \n",
       "2   <svg width=\"600\" height=\"600\" viewBox=\"0 0 600...  \n",
       "3   <svg width=\"256\" height=\"256\" viewBox=\"0 0 256...  \n",
       "4   <svg xmlns=\"http://www.w3.org/2000/svg\" width=...  \n",
       "5   <svg width=\"400\" height=\"400\" viewBox=\"0 0 400...  \n",
       "6   <svg xmlns=\"http://www.w3.org/2000/svg\" viewBo...  \n",
       "7   <svg xmlns=\"http://www.w3.org/2000/svg\" width=...  \n",
       "8   <svg width=\"256\" height=\"256\" viewBox=\"0 0 256...  \n",
       "9   <svg width=\"256\" height=\"256\" viewBox=\"0 0 256...  \n",
       "10  <svg width=\"300\" height=\"300\" xmlns=\"http://ww...  \n",
       "11  <svg width=\"200\" height=\"300\">\\n  <rect x=\"0\" ...  \n",
       "12  <svg xmlns=\"http://www.w3.org/2000/svg\" width=...  \n",
       "13  <svg width=\"400\" height=\"400\" viewBox=\"0 0 400...  \n",
       "14  <svg width=\"100%\" height=\"100%\" viewBox=\"0 0 1...  "
      ]
     },
     "execution_count": 15,
     "metadata": {},
     "output_type": "execute_result"
    }
   ],
   "source": [
    "train"
   ]
  },
  {
   "cell_type": "code",
   "execution_count": 19,
   "id": "1c968240-a6ff-4af9-ab83-097f3fd045e1",
   "metadata": {},
   "outputs": [
    {
     "data": {
      "image/svg+xml": [
       "<svg xmlns=\"http://www.w3.org/2000/svg\" viewBox=\"0 0 1000 1000\" width=\"1000\" height=\"1000\"><rect x=\"0\" y=\"0\" width=\"1000\" height=\"1000\" fill=\"#2c3e50\" rx=\"10\"/><rect x=\"0\" y=\"0\" width=\"1000\" height=\"1000\" fill=\"#1a1d23\" opacity=\"0.5\" rx=\"10\"/><circle cx=\"500\" cy=\"500\" r=\"2\" fill=\"#fff\"/><circle cx=\"550\" cy=\"550\" r=\"2\" fill=\"#fff\"/><circle cx=\"600\" cy=\"600\" r=\"2\" fill=\"#fff\"/><circle cx=\"650\" cy=\"650\" r=\"2\" fill=\"#fff\"/><circle cx=\"700\" cy=\"700\" r=\"2\" fill=\"#fff\"/><circle cx=\"750\" cy=\"750\" r=\"2\" fill=\"#fff\"/><circle cx=\"800\" cy=\"800\" r=\"2\" fill=\"#fff\"/><circle cx=\"850\" cy=\"850\" r=\"2\" fill=\"#fff\"/><circle cx=\"900\" cy=\"900\" r=\"2\" fill=\"#fff\"/><circle cx=\"950\" cy=\"950\" r=\"2\" fill=\"#fff\"/><circle cx=\"500\" cy=\"450\" r=\"30\" fill=\"#fff\"/></svg>"
      ],
      "text/plain": [
       "<IPython.core.display.SVG object>"
      ]
     },
     "metadata": {},
     "output_type": "display_data"
    },
    {
     "data": {
      "image/svg+xml": [
       "<svg xmlns=\"http://www.w3.org/2000/svg\" viewBox=\"0 0 100 100\"><rect x=\"0\" y=\"0\" width=\"100%\" height=\"100%\" fill=\"#000000\"/><rect x=\"0\" y=\"0\" width=\"50%\" height=\"100%\" fill=\"#FFFFFF\" rx=\"10\"/><rect x=\"50%\" y=\"0\" width=\"50%\" height=\"100%\" fill=\"#FFFFFF\" rx=\"10\"/></svg>"
      ],
      "text/plain": [
       "<IPython.core.display.SVG object>"
      ]
     },
     "metadata": {},
     "output_type": "display_data"
    },
    {
     "data": {
      "image/svg+xml": [
       "<svg xmlns=\"http://www.w3.org/2000/svg\" width=\"600\" height=\"600\" viewBox=\"0 0 600 600\"><rect x=\"10\" y=\"10\" width=\"50\" height=\"50\" fill=\"#8B0A1A\" rx=\"5\"/><rect x=\"70\" y=\"70\" width=\"30\" height=\"30\" fill=\"#8B0A1A\" rx=\"5\"/><rect x=\"140\" y=\"140\" width=\"20\" height=\"20\" fill=\"#8B0A1A\" rx=\"5\"/><rect x=\"210\" y=\"210\" width=\"40\" height=\"40\" fill=\"#8B0A1A\" rx=\"5\"/><rect x=\"280\" y=\"280\" width=\"50\" height=\"50\" fill=\"#8B0A1A\" rx=\"5\"/><rect x=\"350\" y=\"350\" width=\"30\" height=\"30\" fill=\"#8B0A1A\" rx=\"5\"/><rect x=\"420\" y=\"420\" width=\"20\" height=\"20\" fill=\"#8B0A1A\" rx=\"5\"/><rect x=\"490\" y=\"490\" width=\"40\" height=\"40\" fill=\"#8B0A1A\" rx=\"5\"/><rect x=\"560\" y=\"560\" width=\"50\" height=\"50\" fill=\"#8B0A1A\" rx=\"5\"/><rect x=\"10\" y=\"560\" width=\"50\" height=\"50\" fill=\"#8B0A1A\" rx=\"5\"/><rect x=\"70\" y=\"10\" width=\"30\" height=\"30\" fill=\"#8B0A1A\" rx=\"5\"/><rect x=\"140\" y=\"70\" width=\"20\" height=\"20\" fill=\"#8B0A1A\" rx=\"5\"/><rect x=\"210\" y=\"140\" width=\"40\" height=\"40\" fill=\"#8B0A1A\" rx=\"5\"/><rect x=\"280\" y=\"210\" width=\"50\" height=\"50\" fill=\"#8B0A1A\" rx=\"5\"/><rect x=\"350\" y=\"280\" width=\"30\" height=\"30\" fill=\"#8B0A1A\" rx=\"5\"/><rect x=\"420\" y=\"350\" width=\"20\" height=\"20\" fill=\"#8B0A1A\" rx=\"5\"/><rect x=\"490\" y=\"420\" width=\"40\" height=\"40\" fill=\"#8B0A1A\" rx=\"5\"/><rect x=\"560\" y=\"490\" width=\"50\" height=\"50\" fill=\"#8B0A1A\" rx=\"5\"/></svg>"
      ],
      "text/plain": [
       "<IPython.core.display.SVG object>"
      ]
     },
     "metadata": {},
     "output_type": "display_data"
    },
    {
     "data": {
      "image/svg+xml": [
       "<svg width=\"256\" height=\"256\" viewBox=\"0 0 256 256\"><circle cx=\"50\" cy=\"50\" r=\"40\" fill=\"red\"/></svg>"
      ],
      "text/plain": [
       "<IPython.core.display.SVG object>"
      ]
     },
     "metadata": {},
     "output_type": "display_data"
    },
    {
     "data": {
      "image/svg+xml": [
       "<svg xmlns=\"http://www.w3.org/2000/svg\" width=\"200\" height=\"200\"><rect x=\"50\" y=\"50\" width=\"100\" height=\"100\" fill=\"#FF9900\" rx=\"10\"/><path d=\"M 50 150 L 150 150\" stroke=\"#FF9900\" stroke-width=\"5\" fill=\"none\"/><path d=\"M 50 150 L 50 100\" stroke=\"#FF9900\" stroke-width=\"5\" fill=\"none\"/><rect x=\"60\" y=\"120\" width=\"20\" height=\"20\" fill=\"#FF9900\" rx=\"5\"/><rect x=\"80\" y=\"120\" width=\"20\" height=\"20\" fill=\"#FF9900\" rx=\"5\"/><circle cx=\"80\" cy=\"140\" r=\"10\" fill=\"#FF9900\"/></svg>"
      ],
      "text/plain": [
       "<IPython.core.display.SVG object>"
      ]
     },
     "metadata": {},
     "output_type": "display_data"
    },
    {
     "data": {
      "image/svg+xml": [
       "<svg xmlns=\"http://www.w3.org/2000/svg\" width=\"400\" height=\"400\" viewBox=\"0 0 400 400\"><circle cx=\"200\" cy=\"50\" r=\"50\" fill=\"#FFFFFF\" stroke=\"#000000\" stroke-width=\"4\"/><circle cx=\"200\" cy=\"50\" r=\"30\" fill=\"#FFFFFF\" stroke=\"#000000\" stroke-width=\"2\"/><path d=\"M 200,50 C 150,50 150,30 200,30 L 200,10\" stroke=\"#000000\" stroke-width=\"2\"/><path d=\"M 200,30 L 250,30\" stroke=\"#000000\" stroke-width=\"2\"/><path d=\"M 200,30 L 150,30\" stroke=\"#000000\" stroke-width=\"2\"/><rect x=\"0\" y=\"50\" width=\"400\" height=\"350\" fill=\"#000000\"/><circle cx=\"200\" cy=\"200\" r=\"150\" fill=\"#000000\"/><path d=\"M 200,200 C 220,210 240,210 260,200\" stroke=\"#FFFFFF\" stroke-width=\"2\"/><path d=\"M 200,200 C 180,210 160,210 140,200\" stroke=\"#FFFFFF\" stroke-width=\"2\"/><path d=\"M 200,200 C 180,190 160,190 140,180\" stroke=\"#FFFFFF\" stroke-width=\"2\"/><path d=\"M 200,200 C 220,190 240,190 260,180\" stroke=\"#FFFFFF\" stroke-width=\"2\"/></svg>"
      ],
      "text/plain": [
       "<IPython.core.display.SVG object>"
      ]
     },
     "metadata": {},
     "output_type": "display_data"
    },
    {
     "data": {
      "image/svg+xml": [
       "<svg xmlns=\"http://www.w3.org/2000/svg\" viewBox=\"0 0 100 100\"><rect x=\"0\" y=\"0\" width=\"100\" height=\"100\" fill=\"#87CEEB\" rx=\"10\"/><rect x=\"0\" y=\"0\" width=\"100\" height=\"100\" fill=\"#87CEEB\" opacity=\"0.5\"/><ellipse cx=\"50\" cy=\"20\" rx=\"30\" ry=\"20\" fill=\"#FFFFFF\" opacity=\"0.2\"/><ellipse cx=\"30\" cy=\"40\" rx=\"20\" ry=\"20\" fill=\"#FFFFFF\" opacity=\"0.2\"/><ellipse cx=\"70\" cy=\"40\" rx=\"20\" ry=\"20\" fill=\"#FFFFFF\" opacity=\"0.2\"/><rect x=\"20\" y=\"50\" width=\"60\" height=\"30\" fill=\"#34C759\" rx=\"10\"/><rect x=\"25\" y=\"55\" width=\"50\" height=\"20\" fill=\"#34C759\" rx=\"5\"/></svg>"
      ],
      "text/plain": [
       "<IPython.core.display.SVG object>"
      ]
     },
     "metadata": {},
     "output_type": "display_data"
    },
    {
     "data": {
      "image/svg+xml": [
       "<svg xmlns=\"http://www.w3.org/2000/svg\" width=\"100%\" height=\"100%\"><rect x=\"0\" y=\"0\" width=\"100%\" height=\"100%\" fill=\"#f2f2f2\" rx=\"10\"/><rect x=\"0\" y=\"0\" width=\"100%\" height=\"100%\" fill=\"#ffffff\" rx=\"10\"/><rect x=\"0\" y=\"0\" width=\"100%\" height=\"100%\" fill=\"#ffffff\" rx=\"10\"/><path d=\"M 0 0 L 0 100 L 100 100 L 100 0 Z\" stroke=\"#ffffff\" stroke-width=\"2\" fill=\"none\"/><path d=\"M 50 50 L 50 90 L 90 90 L 90 50 Z\" stroke=\"#ffffff\" stroke-width=\"2\" fill=\"none\"/><path d=\"M 70 70 L 70 100 L 100 100 L 100 70 Z\" stroke=\"#ffffff\" stroke-width=\"2\" fill=\"none\"/><path d=\"M 30 30 L 30 70 L 70 70 L 70 30 Z\" stroke=\"#ffffff\" stroke-width=\"2\" fill=\"none\"/><path d=\"M 80 80 L 80 110 L 110 110 L 110 80 Z\" stroke=\"#ffffff\" stroke-width=\"2\" fill=\"none\"/><path d=\"M 10 10 L 10 50 L 50 50 L 50 10 Z\" stroke=\"#ffffff\" stroke-width=\"2\" fill=\"none\"/><path d=\"M 40 40 L 40 80 L 80 80 L 80 40 Z\" stroke=\"#ffffff\" stroke-width=\"2\" fill=\"none\"/><path d=\"M 60 60 L 60 100 L 100 100 L 100 60 Z\" stroke=\"#ffffff\" stroke-width=\"2\" fill=\"none\"/></svg>"
      ],
      "text/plain": [
       "<IPython.core.display.SVG object>"
      ]
     },
     "metadata": {},
     "output_type": "display_data"
    },
    {
     "data": {
      "image/svg+xml": [
       "<svg width=\"256\" height=\"256\" viewBox=\"0 0 256 256\"><circle cx=\"50\" cy=\"50\" r=\"40\" fill=\"red\"/></svg>"
      ],
      "text/plain": [
       "<IPython.core.display.SVG object>"
      ]
     },
     "metadata": {},
     "output_type": "display_data"
    },
    {
     "data": {
      "image/svg+xml": [
       "<svg width=\"256\" height=\"256\" viewBox=\"0 0 256 256\"><circle cx=\"50\" cy=\"50\" r=\"40\" fill=\"red\"/></svg>"
      ],
      "text/plain": [
       "<IPython.core.display.SVG object>"
      ]
     },
     "metadata": {},
     "output_type": "display_data"
    },
    {
     "data": {
      "image/svg+xml": [
       "<svg xmlns=\"http://www.w3.org/2000/svg\" width=\"300\" height=\"300\"><rect x=\"0\" y=\"0\" width=\"300\" height=\"300\" fill=\"rgba(192,192,192,0.5)\"/><polygon points=\"100,50 150,100 50,100\" fill=\"#FF69B4\" stroke=\"black\" stroke-width=\"2\"/></svg>"
      ],
      "text/plain": [
       "<IPython.core.display.SVG object>"
      ]
     },
     "metadata": {},
     "output_type": "display_data"
    },
    {
     "data": {
      "image/svg+xml": [
       "<svg width=\"200\" height=\"300\"><rect x=\"0\" y=\"0\" width=\"200\" height=\"300\" fill=\"#ccc\" rx=\"5\"/><rect x=\"5\" y=\"5\" width=\"190\" height=\"290\" fill=\"#ddd\" rx=\"5\"/><rect x=\"10\" y=\"10\" width=\"180\" height=\"280\" fill=\"#aaa\" rx=\"5\"/><rect x=\"15\" y=\"15\" width=\"170\" height=\"270\" fill=\"#666\" rx=\"5\"/><rect x=\"20\" y=\"20\" width=\"160\" height=\"260\" fill=\"#555\" rx=\"5\"/><rect x=\"25\" y=\"25\" width=\"150\" height=\"250\" fill=\"#444\" rx=\"5\"/><rect x=\"30\" y=\"30\" width=\"140\" height=\"240\" fill=\"#333\" rx=\"5\"/><rect x=\"35\" y=\"35\" width=\"130\" height=\"230\" fill=\"#222\" rx=\"5\"/><rect x=\"40\" y=\"40\" width=\"120\" height=\"220\" fill=\"#111\" rx=\"5\"/><rect x=\"45\" y=\"45\" width=\"110\" height=\"210\" fill=\"#000\" rx=\"5\"/><path d=\"M 50 50 L 100 100 L 150 150 L 50 50\" stroke=\"#000\" stroke-width=\"2\"/><path d=\"M 50 50 L 100 100 L 150 150 L 50 50\" stroke=\"#666\" stroke-width=\"1\"/></svg>"
      ],
      "text/plain": [
       "<IPython.core.display.SVG object>"
      ]
     },
     "metadata": {},
     "output_type": "display_data"
    },
    {
     "data": {
      "image/svg+xml": [
       "<svg xmlns=\"http://www.w3.org/2000/svg\" width=\"800\" height=\"600\"><rect x=\"0\" y=\"0\" width=\"800\" height=\"200\" fill=\"#C7B8EA\" rx=\"10\"/><rect x=\"0\" y=\"200\" width=\"800\" height=\"400\" fill=\"#87CEEB\" rx=\"10\"/><g transform=\"translate(100, 250)\"><circle cx=\"0\" cy=\"0\" r=\"20\" fill=\"#800080\" stroke=\"#000\" stroke-width=\"2\"/><circle cx=\"0\" cy=\"0\" r=\"30\" fill=\"#6c5ce7\" stroke=\"#000\" stroke-width=\"2\"/><circle cx=\"0\" cy=\"0\" r=\"40\" fill=\"#8f0a8f\" stroke=\"#000\" stroke-width=\"2\"/><circle cx=\"0\" cy=\"0\" r=\"50\" fill=\"#b300b3\" stroke=\"#000\" stroke-width=\"2\"/></g><circle cx=\"400\" cy=\"300\" r=\"50\" fill=\"#FFC080\" stroke=\"#000\" stroke-width=\"2\"/><g transform=\"translate(100, 250)\"><rect x=\"-20\" y=\"0\" width=\"40\" height=\"40\" fill=\"#800080\" opacity=\"0.5\"/><rect x=\"-20\" y=\"0\" width=\"40\" height=\"40\" fill=\"#6c5ce7\" opacity=\"0.5\"/><rect x=\"-20\" y=\"0\" width=\"40\" height=\"40\" fill=\"#8f0a8f\" opacity=\"0.5\"/><rect x=\"-20\" y=\"0\" width=\"40\" height=\"40\" fill=\"#b300b3\" opacity=\"0.5\"/></g></svg>"
      ],
      "text/plain": [
       "<IPython.core.display.SVG object>"
      ]
     },
     "metadata": {},
     "output_type": "display_data"
    },
    {
     "data": {
      "image/svg+xml": [
       "<svg xmlns=\"http://www.w3.org/2000/svg\" width=\"400\" height=\"400\" viewBox=\"0 0 400 400\"><circle cx=\"200\" cy=\"200\" r=\"150\" fill=\"#964B00\" stroke=\"#964B00\" stroke-width=\"2\"/><path d=\"M 200,200 L 200,350\" fill=\"#7A288A\" stroke=\"#7A288A\" stroke-width=\"2\"/><path d=\"M 200,350 L 250,350\" fill=\"#7A288A\" stroke=\"#7A288A\" stroke-width=\"2\"/><path d=\"M 200,350 L 250,250\" fill=\"#7A288A\" stroke=\"#7A288A\" stroke-width=\"2\"/><path d=\"M 250,250 L 250,350\" fill=\"#7A288A\" stroke=\"#7A288A\" stroke-width=\"2\"/><path d=\"M 250,350 L 200,350\" fill=\"#7A288A\" stroke=\"#7A288A\" stroke-width=\"2\"/><path d=\"M 200,200 L 220,220\" fill=\"#7A288A\" stroke=\"#7A288A\" stroke-width=\"2\"/><path d=\"M 220,220 L 240,240\" fill=\"#7A288A\" stroke=\"#7A288A\" stroke-width=\"2\"/><path d=\"M 240,240 L 260,260\" fill=\"#7A288A\" stroke=\"#7A288A\" stroke-width=\"2\"/><path d=\"M 260,260 L 280,280\" fill=\"#7A288A\" stroke=\"#7A288A\" stroke-width=\"2\"/><path d=\"M 280,280 L 300,300\" fill=\"#7A288A\" stroke=\"#7A288A\" stroke-width=\"2\"/><path d=\"M 300,300 L 320,320\" fill=\"#7A288A\" stroke=\"#7A288A\" stroke-width=\"2\"/><path d=\"M 320,320 L 340,340\" fill=\"#7A288A\" stroke=\"#7A288A\" stroke-width=\"2\"/><path d=\"M 340,340 L 360,360\" fill=\"#7A288A\" stroke=\"#7A288A\" stroke-width=\"2\"/><path d=\"M 360,360 L 380,380\" fill=\"#7A288A\" stroke=\"#7A288A\" stroke-width=\"2\"/><path d=\"M 380,380 L 400,400\" fill=\"#7A288A\" stroke=\"#7A288A\" stroke-width=\"2\"/></svg>"
      ],
      "text/plain": [
       "<IPython.core.display.SVG object>"
      ]
     },
     "metadata": {},
     "output_type": "display_data"
    },
    {
     "data": {
      "image/svg+xml": [
       "<svg xmlns=\"http://www.w3.org/2000/svg\" width=\"100%\" height=\"100%\" viewBox=\"0 0 100 100\"><path d=\"M 50,0 L 75,100 L 25,100 Z\" stroke=\"#F5DEB3\" stroke-width=\"2\" fill=\"none\"/><path d=\"M 50,0 L 75,0 L 25,0 Z\" stroke=\"#F5DEB3\" stroke-width=\"2\" fill=\"none\"/><path d=\"M 50,50 L 75,75 L 25,75 Z\" stroke=\"#007FFF\" stroke-width=\"2\" fill=\"none\"/><path d=\"M 50,50 L 75,0 L 25,0 Z\" stroke=\"#007FFF\" stroke-width=\"2\" fill=\"none\"/></svg>"
      ],
      "text/plain": [
       "<IPython.core.display.SVG object>"
      ]
     },
     "metadata": {},
     "output_type": "display_data"
    }
   ],
   "source": [
    "# We can play with our Model and render its SVG output (don't export!)\n",
    "from IPython.display import SVG, display\n",
    "for i in range(15):\n",
    "    display(SVG(train.loc[i,'svg_code_clean']))"
   ]
  },
  {
   "cell_type": "code",
   "execution_count": 23,
   "id": "f7819724-6bc1-4e18-9d92-0ee01606ce2f",
   "metadata": {},
   "outputs": [],
   "source": [
    "from transformers import AutoProcessor, AutoModel\n",
    "model = AutoModel.from_pretrained(\"google/siglip-so400m-patch14-384\")\n",
    "processor = AutoProcessor.from_pretrained(\"google/siglip-so400m-patch14-384\")"
   ]
  },
  {
   "cell_type": "code",
   "execution_count": 24,
   "id": "48c323f3-4433-4e72-b1e4-b78ad3de1542",
   "metadata": {},
   "outputs": [],
   "source": [
    "import torch\n",
    "from PIL import Image\n",
    "import cairosvg\n",
    "import os\n",
    "\n",
    "def svgMetric(prompt, svg):\n",
    "    try:\n",
    "        # Convert SVG to PNG\n",
    "        cairosvg.svg2png(svg, write_to=\"./tmp/temp.png\")\n",
    "        \n",
    "        # Open and process the image\n",
    "        image = Image.open('./tmp/temp.png').convert(\"RGB\")\n",
    "        texts = [\"SVG illustration of \" + prompt]\n",
    "        inputs = processor(text=texts, images=image, padding=\"max_length\", return_tensors=\"pt\")\n",
    "        \n",
    "        # Inference without gradient tracking\n",
    "        with torch.no_grad():\n",
    "            outputs = model(**inputs)\n",
    "        \n",
    "        logits_per_image = outputs.logits_per_image\n",
    "        probs = torch.sigmoid(logits_per_image)\n",
    "        \n",
    "        # Clean up temporary PNG file\n",
    "        #os.remove('./tmp/temp.png')\n",
    "        \n",
    "        return probs[0][0].item()\n",
    "\n",
    "    \n",
    "    except Exception as e:\n",
    "        print(f\"An error occurred: {e}\")\n",
    "        return None\n",
    "\n",
    "\n"
   ]
  },
  {
   "cell_type": "code",
   "execution_count": 25,
   "id": "bd8a0265-90c3-4c2c-b44a-54a157359ae4",
   "metadata": {},
   "outputs": [
    {
     "name": "stdout",
     "output_type": "stream",
     "text": [
      "An error occurred: The SVG size is undefined\n",
      "An error occurred: The SVG size is undefined\n"
     ]
    }
   ],
   "source": [
    "# Using apply to process each row in the DataFrame\n",
    "train['score1'] = train.apply(lambda row: svgMetric(row['description'], row['svg_code']), axis=1)\n",
    "train['score2'] = train.apply(lambda row: svgMetric(row['description'], row['svg_code_clean']), axis=1)"
   ]
  },
  {
   "cell_type": "code",
   "execution_count": 26,
   "id": "bcf1dbab-f051-4b3b-8b0b-bbaa27aa3263",
   "metadata": {},
   "outputs": [
    {
     "data": {
      "text/plain": [
       "score1    0.104248\n",
       "score2    0.165968\n",
       "dtype: float64"
      ]
     },
     "execution_count": 26,
     "metadata": {},
     "output_type": "execute_result"
    }
   ],
   "source": [
    "train[['score1','score2']].mean()"
   ]
  },
  {
   "cell_type": "code",
   "execution_count": 27,
   "id": "a3496329-9130-4de3-9c75-e33b0c1001b1",
   "metadata": {},
   "outputs": [
    {
     "data": {
      "text/plain": [
       "0     4.347312e-03\n",
       "1     5.451384e-05\n",
       "2     9.813819e-01\n",
       "3     1.429424e-10\n",
       "4     5.016658e-06\n",
       "5     1.271884e-03\n",
       "6     3.971813e-02\n",
       "7              NaN\n",
       "8     6.303957e-10\n",
       "9     4.507666e-11\n",
       "10    2.699434e-02\n",
       "11    9.717740e-06\n",
       "12    7.180350e-06\n",
       "13    2.545882e-01\n",
       "14    1.510933e-01\n",
       "Name: score1, dtype: float64"
      ]
     },
     "execution_count": 27,
     "metadata": {},
     "output_type": "execute_result"
    }
   ],
   "source": [
    "train['score1']"
   ]
  },
  {
   "cell_type": "code",
   "execution_count": 28,
   "id": "bd455782-ca00-4d4b-8af8-88d65b1de338",
   "metadata": {},
   "outputs": [
    {
     "data": {
      "text/plain": [
       "0     9.678911e-04\n",
       "1     5.451384e-05\n",
       "2     9.813819e-01\n",
       "3     1.429424e-10\n",
       "4     5.016658e-06\n",
       "5     1.271884e-03\n",
       "6     3.971813e-02\n",
       "7              NaN\n",
       "8     6.303957e-10\n",
       "9     4.507666e-11\n",
       "10    8.944473e-01\n",
       "11    9.717740e-06\n",
       "12    7.180350e-06\n",
       "13    2.545882e-01\n",
       "14    1.510933e-01\n",
       "Name: score2, dtype: float64"
      ]
     },
     "execution_count": 28,
     "metadata": {},
     "output_type": "execute_result"
    }
   ],
   "source": [
    "train['score2']"
   ]
  },
  {
   "cell_type": "code",
   "execution_count": 29,
   "id": "50e7937f-fcbd-46e1-a84a-9194e4cf6ae1",
   "metadata": {},
   "outputs": [
    {
     "data": {
      "text/plain": [
       "0     <svg xmlns=\"http://www.w3.org/2000/svg\" viewBo...\n",
       "1     <svg xmlns=\"http://www.w3.org/2000/svg\" viewBo...\n",
       "2     <svg xmlns=\"http://www.w3.org/2000/svg\" width=...\n",
       "3     <svg width=\"256\" height=\"256\" viewBox=\"0 0 256...\n",
       "4     <svg xmlns=\"http://www.w3.org/2000/svg\" width=...\n",
       "5     <svg xmlns=\"http://www.w3.org/2000/svg\" width=...\n",
       "6     <svg xmlns=\"http://www.w3.org/2000/svg\" viewBo...\n",
       "7     <svg xmlns=\"http://www.w3.org/2000/svg\" width=...\n",
       "8     <svg width=\"256\" height=\"256\" viewBox=\"0 0 256...\n",
       "9     <svg width=\"256\" height=\"256\" viewBox=\"0 0 256...\n",
       "10    <svg xmlns=\"http://www.w3.org/2000/svg\" width=...\n",
       "11    <svg width=\"200\" height=\"300\"><rect x=\"0\" y=\"0...\n",
       "12    <svg xmlns=\"http://www.w3.org/2000/svg\" width=...\n",
       "13    <svg xmlns=\"http://www.w3.org/2000/svg\" width=...\n",
       "14    <svg xmlns=\"http://www.w3.org/2000/svg\" width=...\n",
       "Name: svg_code_clean, dtype: object"
      ]
     },
     "execution_count": 29,
     "metadata": {},
     "output_type": "execute_result"
    }
   ],
   "source": [
    "train['svg_code_clean']"
   ]
  },
  {
   "cell_type": "code",
   "execution_count": null,
   "id": "19f7c807-06f5-45ad-9c7f-c34d05ef5a17",
   "metadata": {},
   "outputs": [],
   "source": []
  }
 ],
 "metadata": {
  "kaggle": {
   "accelerator": "none",
   "dataSources": [
    {
     "databundleVersionId": 11175052,
     "sourceId": 89659,
     "sourceType": "competition"
    }
   ],
   "isGpuEnabled": false,
   "isInternetEnabled": false,
   "language": "python",
   "sourceType": "notebook"
  },
  "kernelspec": {
   "display_name": "Python 3 (ipykernel)",
   "language": "python",
   "name": "python3"
  },
  "language_info": {
   "codemirror_mode": {
    "name": "ipython",
    "version": 3
   },
   "file_extension": ".py",
   "mimetype": "text/x-python",
   "name": "python",
   "nbconvert_exporter": "python",
   "pygments_lexer": "ipython3",
   "version": "3.11.11"
  },
  "papermill": {
   "default_parameters": {},
   "duration": 6.756759,
   "end_time": "2025-02-26T02:09:27.363350",
   "environment_variables": {},
   "exception": null,
   "input_path": "__notebook__.ipynb",
   "output_path": "__notebook__.ipynb",
   "parameters": {},
   "start_time": "2025-02-26T02:09:20.606591",
   "version": "2.6.0"
  }
 },
 "nbformat": 4,
 "nbformat_minor": 5
}
